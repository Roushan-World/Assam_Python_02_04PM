{
 "cells": [
  {
   "cell_type": "markdown",
   "id": "22163f07",
   "metadata": {},
   "source": [
    "# 4. Tuples in Python\n",
    "\n",
    "\n",
    " __Tuples are immutable list and cannot be changed in any way once it is created.__\n",
    "\n",
    " * __Tuples are defined in the same way as list.__\n",
    " * __They are enclosed within parenthesis() and not within square braces.__\n",
    " * __Tuples are ordered, indexed collections of data.__\n",
    " * __similar to string indices, the first value in the tuple will have the index[0], the second value [1]__\n",
    " * __Negative indices are counted from the end of the tuple,just like lists.__\n",
    " * __Tuple also has the same structure where commas separate the values.__\n",
    " * __Tuples can store duplicate value.__\n",
    " * __Tuples allow you to store several data items including string, integer, float in one variable.__"
   ]
  },
  {
   "cell_type": "code",
   "execution_count": 1,
   "id": "4c954aa0",
   "metadata": {},
   "outputs": [
    {
     "data": {
      "text/plain": [
       "('Hello World',\n",
       " 3.14,\n",
       " 100,\n",
       " True,\n",
       " False,\n",
       " ['Hello', 3, 200],\n",
       " ('Hi', 'World'),\n",
       " {1, 2, 3},\n",
       " {'a': 100, 'b': 200})"
      ]
     },
     "execution_count": 1,
     "metadata": {},
     "output_type": "execute_result"
    }
   ],
   "source": [
    "x=('Hello World',3.14,100,True,False,['Hello',3,200],('Hi','World'),{1,2,3},{'a':100,'b':200})\n",
    "x"
   ]
  },
  {
   "cell_type": "code",
   "execution_count": 4,
   "id": "4eb62276",
   "metadata": {},
   "outputs": [
    {
     "name": "stdout",
     "output_type": "stream",
     "text": [
      "Hello World\n",
      "3.14\n",
      "100\n",
      "True\n",
      "False\n",
      "['Hello', 3, 200]\n",
      "('Hi', 'World')\n",
      "{1, 2, 3}\n",
      "{'a': 100, 'b': 200}\n"
     ]
    }
   ],
   "source": [
    "print(x[0])\n",
    "print(x[1])\n",
    "print(x[2])\n",
    "print(x[3])\n",
    "print(x[4])\n",
    "print(x[5])\n",
    "print(x[6])\n",
    "print(x[7])\n",
    "print(x[8])\n"
   ]
  },
  {
   "cell_type": "code",
   "execution_count": 5,
   "id": "eb3c3fe0",
   "metadata": {},
   "outputs": [],
   "source": [
    "#Concatenation"
   ]
  },
  {
   "cell_type": "code",
   "execution_count": 7,
   "id": "21d345e8",
   "metadata": {},
   "outputs": [
    {
     "name": "stdout",
     "output_type": "stream",
     "text": [
      "('harsh', 'pune', 1, 2, 3, 4, 5, 6, True, False)\n",
      "<class 'tuple'>\n"
     ]
    }
   ],
   "source": [
    "x1=('harsh','pune')\n",
    "x2=(1,2,3,4,5,6,True,False)\n",
    "x3=x1+x2\n",
    "print(x3)\n",
    "print(type(x3))"
   ]
  },
  {
   "cell_type": "code",
   "execution_count": 10,
   "id": "a13d871c",
   "metadata": {},
   "outputs": [
    {
     "name": "stdout",
     "output_type": "stream",
     "text": [
      "False\n",
      "True\n",
      "False\n"
     ]
    }
   ],
   "source": [
    "# Membership # in or not in\n",
    "\n",
    "rep_tup=(1,2,3,4,5,6)\n",
    "\n",
    "print(10 in rep_tup)\n",
    "print(5 in rep_tup)\n",
    "print(5 not in rep_tup)"
   ]
  },
  {
   "cell_type": "code",
   "execution_count": 15,
   "id": "1349dcf0",
   "metadata": {},
   "outputs": [
    {
     "name": "stdout",
     "output_type": "stream",
     "text": [
      "1\n",
      "6\n",
      "6\n"
     ]
    },
    {
     "data": {
      "text/plain": [
       "21"
      ]
     },
     "execution_count": 15,
     "metadata": {},
     "output_type": "execute_result"
    }
   ],
   "source": [
    "# min function\n",
    "\n",
    "print(min(rep_tup))\n",
    "print(max(rep_tup))\n",
    "\n",
    "\n",
    "# len function\n",
    "\n",
    "print(len(rep_tup))\n",
    "\n",
    "\n",
    "# sum function\n",
    "\n",
    "sum(rep_tup)"
   ]
  },
  {
   "cell_type": "code",
   "execution_count": 17,
   "id": "b9ab4dab",
   "metadata": {},
   "outputs": [
    {
     "name": "stdout",
     "output_type": "stream",
     "text": [
      "('Harsh', 'Krrish')\n"
     ]
    },
    {
     "ename": "AttributeError",
     "evalue": "'tuple' object has no attribute 'append'",
     "output_type": "error",
     "traceback": [
      "\u001b[1;31m---------------------------------------------------------------------------\u001b[0m",
      "\u001b[1;31mAttributeError\u001b[0m                            Traceback (most recent call last)",
      "\u001b[1;32m~\\AppData\\Local\\Temp\\ipykernel_12872\\3254157549.py\u001b[0m in \u001b[0;36m<module>\u001b[1;34m\u001b[0m\n\u001b[0;32m      2\u001b[0m \u001b[0mprint\u001b[0m\u001b[1;33m(\u001b[0m\u001b[0mname\u001b[0m\u001b[1;33m)\u001b[0m\u001b[1;33m\u001b[0m\u001b[1;33m\u001b[0m\u001b[0m\n\u001b[0;32m      3\u001b[0m \u001b[1;33m\u001b[0m\u001b[0m\n\u001b[1;32m----> 4\u001b[1;33m \u001b[0mname\u001b[0m\u001b[1;33m.\u001b[0m\u001b[0mappend\u001b[0m\u001b[1;33m(\u001b[0m\u001b[1;34m'WebAsha Technology'\u001b[0m\u001b[1;33m)\u001b[0m\u001b[1;33m\u001b[0m\u001b[1;33m\u001b[0m\u001b[0m\n\u001b[0m\u001b[0;32m      5\u001b[0m \u001b[0mprint\u001b[0m\u001b[1;33m(\u001b[0m\u001b[0mname\u001b[0m\u001b[1;33m)\u001b[0m\u001b[1;33m\u001b[0m\u001b[1;33m\u001b[0m\u001b[0m\n",
      "\u001b[1;31mAttributeError\u001b[0m: 'tuple' object has no attribute 'append'"
     ]
    }
   ],
   "source": [
    "name=('Harsh','Krrish')\n",
    "print(name)\n",
    "\n",
    "name.append('WebAsha Technology')\n",
    "print(name)"
   ]
  },
  {
   "cell_type": "code",
   "execution_count": 19,
   "id": "5397ce65",
   "metadata": {},
   "outputs": [
    {
     "name": "stdout",
     "output_type": "stream",
     "text": [
      "['Harsh', 'Krrish']\n",
      "['Harsh', 'Krrish', 'WebAsha Technology']\n"
     ]
    }
   ],
   "source": [
    "name1=['Harsh','Krrish']\n",
    "print(name1)\n",
    "\n",
    "name1.append('WebAsha Technology')\n",
    "print(name1)\n",
    "\n"
   ]
  },
  {
   "cell_type": "code",
   "execution_count": 21,
   "id": "2b0a90e7",
   "metadata": {},
   "outputs": [
    {
     "data": {
      "text/plain": [
       "['Welcome', 'Krrish', 'WebAsha Technology']"
      ]
     },
     "execution_count": 21,
     "metadata": {},
     "output_type": "execute_result"
    }
   ],
   "source": [
    "name1[0]='Welcome'\n",
    "name1"
   ]
  },
  {
   "cell_type": "code",
   "execution_count": 22,
   "id": "463eae44",
   "metadata": {},
   "outputs": [
    {
     "data": {
      "text/plain": [
       "['Welcome', 'Krrish', 'WebAsha Technology']"
      ]
     },
     "execution_count": 22,
     "metadata": {},
     "output_type": "execute_result"
    }
   ],
   "source": [
    "name1"
   ]
  },
  {
   "cell_type": "code",
   "execution_count": 23,
   "id": "eb237f2d",
   "metadata": {},
   "outputs": [
    {
     "data": {
      "text/plain": [
       "['Krrish', 'WebAsha Technology']"
      ]
     },
     "execution_count": 23,
     "metadata": {},
     "output_type": "execute_result"
    }
   ],
   "source": [
    "del(name1[0])\n",
    "name1"
   ]
  },
  {
   "cell_type": "code",
   "execution_count": 24,
   "id": "383bc15a",
   "metadata": {},
   "outputs": [
    {
     "data": {
      "text/plain": [
       "('Harsh', 'krrish')"
      ]
     },
     "execution_count": 24,
     "metadata": {},
     "output_type": "execute_result"
    }
   ],
   "source": [
    "x=('Harsh','krrish')\n",
    "x"
   ]
  },
  {
   "cell_type": "code",
   "execution_count": 25,
   "id": "6bef6a9b",
   "metadata": {},
   "outputs": [],
   "source": [
    "del(x)"
   ]
  },
  {
   "cell_type": "code",
   "execution_count": 26,
   "id": "ca99f016",
   "metadata": {},
   "outputs": [
    {
     "ename": "NameError",
     "evalue": "name 'x' is not defined",
     "output_type": "error",
     "traceback": [
      "\u001b[1;31m---------------------------------------------------------------------------\u001b[0m",
      "\u001b[1;31mNameError\u001b[0m                                 Traceback (most recent call last)",
      "\u001b[1;32m~\\AppData\\Local\\Temp\\ipykernel_12872\\32546335.py\u001b[0m in \u001b[0;36m<module>\u001b[1;34m\u001b[0m\n\u001b[1;32m----> 1\u001b[1;33m \u001b[0mx\u001b[0m\u001b[1;33m\u001b[0m\u001b[1;33m\u001b[0m\u001b[0m\n\u001b[0m",
      "\u001b[1;31mNameError\u001b[0m: name 'x' is not defined"
     ]
    }
   ],
   "source": [
    "x"
   ]
  },
  {
   "cell_type": "code",
   "execution_count": null,
   "id": "953a02f1",
   "metadata": {},
   "outputs": [],
   "source": []
  }
 ],
 "metadata": {
  "kernelspec": {
   "display_name": "Python 3 (ipykernel)",
   "language": "python",
   "name": "python3"
  },
  "language_info": {
   "codemirror_mode": {
    "name": "ipython",
    "version": 3
   },
   "file_extension": ".py",
   "mimetype": "text/x-python",
   "name": "python",
   "nbconvert_exporter": "python",
   "pygments_lexer": "ipython3",
   "version": "3.9.13"
  }
 },
 "nbformat": 4,
 "nbformat_minor": 5
}
