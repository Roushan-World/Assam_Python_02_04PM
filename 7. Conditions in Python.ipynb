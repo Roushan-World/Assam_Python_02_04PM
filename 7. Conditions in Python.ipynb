{
 "cells": [
  {
   "cell_type": "markdown",
   "id": "56143d64",
   "metadata": {},
   "source": [
    "# 7. Conditions in Python"
   ]
  },
  {
   "cell_type": "markdown",
   "id": "4296025a",
   "metadata": {},
   "source": [
    " * __Comparison Operators__\n",
    "\n",
    "* __Comparison operations compare some value or operand and based on a condition, produce a Boolean. Python has six comparison operators as below:__\n",
    "\n",
    " * __Less than(<)__\n",
    "\n",
    "* __Less than or equal to(<=)__\n",
    "\n",
    "* __Greater than (>)__\n",
    "\n",
    "* __Greater than or equal to(>=)__\n",
    "\n",
    "* __Equal to(==)__ \n",
    "\n",
    "* __Not equal to(!=)__"
   ]
  },
  {
   "cell_type": "markdown",
   "id": "d6d7a600",
   "metadata": {},
   "source": [
    " __Branching (if,elif,else)__\n",
    "__Important Notes__\n",
    "\n",
    " * __Decision making is required when we want to execute a code only if a certain condition is satisfied.__\n",
    " * __The if/elif/else statement is used in Python for decision making.__\n",
    " * __An else statement can be combined with an if statement.__\n",
    " * __An else statement conatins the block of code that executes if the conditional expression in the if statement resolves to 0 or False value.__\n",
    " * __The else statement is an optional statement and there could be at most only one else statement following if.__\n",
    " * __The elif statement allows you to check multiple expressions for True and execute a block of code as soon as one of the condtions evaluates to True.__\n",
    " * __Similar to the else, the elif statement is opetional.__\n",
    "* __However, unlike else, for which there can be at most one statement, there can be an arbitrary number of elif statements following an if.__"
   ]
  },
  {
   "cell_type": "code",
   "execution_count": 3,
   "id": "4673e71d",
   "metadata": {},
   "outputs": [
    {
     "name": "stdout",
     "output_type": "stream",
     "text": [
      "You should go to Primary school\n"
     ]
    }
   ],
   "source": [
    "age=5\n",
    "\n",
    "if age>4:\n",
    "    print('You should go to Primary school')\n",
    "    \n",
    "else:\n",
    "    print('You are a baby')"
   ]
  },
  {
   "cell_type": "code",
   "execution_count": 10,
   "id": "3e45f7de",
   "metadata": {},
   "outputs": [
    {
     "name": "stdout",
     "output_type": "stream",
     "text": [
      "Enter the age of your child between 0 to 10\n",
      "3\n",
      "You are a baby\n"
     ]
    }
   ],
   "source": [
    "age=int(input('Enter the age of your child between 0 to 10\\n'))\n",
    "\n",
    "if age>5:\n",
    "    print('You should go to Primary school')\n",
    "elif age==5:\n",
    "    print('You should go to Kinder Garten')\n",
    "else:\n",
    "    print('You are a baby')"
   ]
  },
  {
   "cell_type": "code",
   "execution_count": 12,
   "id": "b2d8da54",
   "metadata": {},
   "outputs": [
    {
     "name": "stdout",
     "output_type": "stream",
     "text": [
      "Enter number between 1-7:\n",
      "4\n",
      "Thursday\n"
     ]
    }
   ],
   "source": [
    "# Write a program to display the weekdays if you enter 1='Monday',2= 'Tuesday' and so on.\n",
    "\n",
    "num=int(input(\"Enter number between 1-7:\\n\"))\n",
    "\n",
    "if num==1:\n",
    "    print('Monday')\n",
    "elif num==2:\n",
    "    print('Tuesday')\n",
    "elif num==3:\n",
    "    print('Wednesday')\n",
    "elif num==4:\n",
    "    print('Thursday')\n",
    "elif num ==5:\n",
    "    print('Friday')\n",
    "elif num==6:\n",
    "    print('Saturday')\n",
    "elif num==7:\n",
    "    print('Sunday')\n",
    "else:\n",
    "    print('Invalid Number')"
   ]
  },
  {
   "cell_type": "code",
   "execution_count": 13,
   "id": "5dd44d41",
   "metadata": {},
   "outputs": [
    {
     "name": "stdout",
     "output_type": "stream",
     "text": [
      "Enter the number between 1-7:\n",
      "5\n",
      "Friday\n"
     ]
    }
   ],
   "source": [
    "day=int(input(\"Enter the number between 1-7:\\n\"))\n",
    "\n",
    "if day==1:\n",
    "    print('Monday')\n",
    "elif day==2:\n",
    "    print('Tuesday')\n",
    "elif day==3:\n",
    "    print('Wednesday')\n",
    "elif day==4:\n",
    "    print('Thursday')\n",
    "elif day==5:\n",
    "    print('Friday')\n",
    "elif day==6:\n",
    "    print('Saturday')\n",
    "elif day==7:\n",
    "    print('Sunday')\n",
    "else:\n",
    "    print(\"Invalid Syntax\")"
   ]
  },
  {
   "cell_type": "code",
   "execution_count": 3,
   "id": "2f639845",
   "metadata": {},
   "outputs": [
    {
     "name": "stdout",
     "output_type": "stream",
     "text": [
      "Enter any number:\n",
      "4651641651641651654161616516165\n",
      "Odd number\n"
     ]
    }
   ],
   "source": [
    "# Write a program to check the number is entered by the user is even or odd.\n",
    "\n",
    "num=int(input('Enter any number:\\n'))\n",
    "\n",
    "if num%2==0:\n",
    "    print('Even number')\n",
    "    \n",
    "else:\n",
    "    print('Odd number')"
   ]
  },
  {
   "cell_type": "code",
   "execution_count": 9,
   "id": "11777fa2",
   "metadata": {},
   "outputs": [
    {
     "name": "stdout",
     "output_type": "stream",
     "text": [
      "Enter any number\n",
      "56\n",
      "The number 56 is divisible by both 7 and 8.\n"
     ]
    }
   ],
   "source": [
    "# Write a program to check wheter a number is divisible by 7,8 or not?.\n",
    "\n",
    "\n",
    "num1=int(input('Enter any number\\n'))\n",
    "\n",
    "if num1%7==0 and num1%8==0:\n",
    "    print(f'The number {num1} is divisible by both 7 and 8.')\n",
    "elif num1%7==0 and num1%8!=0:\n",
    "    print(f'The number {num1} is divisible by 7 only not 8.')\n",
    "    \n",
    "elif num1%7!=0 and num1%8==0:\n",
    "    print(f'The number {num1} is divisible by 8 only not 7.')"
   ]
  },
  {
   "cell_type": "code",
   "execution_count": 10,
   "id": "81ecab71",
   "metadata": {},
   "outputs": [
    {
     "name": "stdout",
     "output_type": "stream",
     "text": [
      "Enter a number:14\n",
      "number is divisble by 7 and not by 8\n"
     ]
    }
   ],
   "source": [
    "n1=int(input('Enter a number:'))\n",
    "\n",
    "if n1%7==0 and n1%8==0:\n",
    "    print('number is divisible by 7 and 8 both.')\n",
    "elif n1%7==0 and n1%8!=0:\n",
    "    print('number is divisble by 7 and not by 8')\n",
    "elif n1%8==0 and n1%7!=0:\n",
    "    print('number is divisble by 8 and not by 7')\n",
    "else:\n",
    "    print('number is not divisible either by 7 or 8')"
   ]
  },
  {
   "cell_type": "code",
   "execution_count": 12,
   "id": "1dd85de1",
   "metadata": {},
   "outputs": [
    {
     "name": "stdout",
     "output_type": "stream",
     "text": [
      "Enter a number:21\n",
      "21 is divisible by 3 and 7, and not by 5\n"
     ]
    }
   ],
   "source": [
    "# Write a program to check the number is divisible by 3,5,7?\n",
    "\n",
    "x=int(input('Enter a number:'))\n",
    "\n",
    "if x%105==0:\n",
    "    print(f'{x} is divisible by 3,5 and 7')\n",
    "elif x%3==0 and x%5!=0 and x%7!=0:\n",
    "    print(f'{x} is divisible by 3 and not by 5 and 7')\n",
    "elif x%3!=0 and x%5==0 and x%7!=0:\n",
    "    print(f'{x} is divisible by 5 and not by 3 and 7')\n",
    "elif x%3!=0 and x%5!=0 and x%7==0:\n",
    "    print(f'{x} is divisible by 7 and not by 3 and 5')\n",
    "elif x%3==0 and x%5==0 and x%7!=0:\n",
    "    print(f'{x} is divisible by 3 and 5, and not by 7')\n",
    "elif x%3==0 and x%5!=0 and x%7==0:\n",
    "    print(f'{x} is divisible by 3 and 7, and not by 5')\n",
    "elif x%3!=0 and x%5==0 and x%7==0:\n",
    "    print(f'{x} is divisible by 5 and 7, and not by 3')\n",
    "else:\n",
    "    print(f'{x} is not divisible by 3,5 and 7')"
   ]
  },
  {
   "cell_type": "code",
   "execution_count": 13,
   "id": "16df5707",
   "metadata": {},
   "outputs": [
    {
     "name": "stdout",
     "output_type": "stream",
     "text": [
      "Enter an integer:\n",
      "21\n",
      "21 is divisible by 3 and 7 only\n"
     ]
    }
   ],
   "source": [
    "#Khriesezo Peseyie\n",
    "o=int(input(\"Enter an integer:\\n\"))\n",
    "\n",
    "if o%3==0 and o%5==0 and o%7==0:\n",
    "    print(f\"{o} is divisible by 3,5 and 7\")\n",
    "\n",
    "elif o%3!=0 and o%5==0 and o%7==0:\n",
    "    print(f\"{o} is divisible by 5 and 7 only\")\n",
    "    \n",
    "elif o%3==0 and o%5!=0 and o%7==0:\n",
    "    print(f\"{o} is divisible by 3 and 7 only\")\n",
    "\n",
    "elif o%3==0 and o%5==0 and o%7!=0:\n",
    "    print(f\"{o} is divisible by 3 and 5 only\")\n",
    "\n",
    "elif o%3==0 and o%5!=0 and o%7!=0:\n",
    "    print(f\"{o} is divisible by 3 only\")\n",
    "          \n",
    "elif o%3!=0 and o%5==0 and o%7!=0:\n",
    "    print(f\"{o} is divisible by 5 only\")\n",
    "\n",
    "elif o%3!=0 and o%5!=0 and o%7==0:\n",
    "    print(f\"{o} is divisible by 7 only\")\n",
    "\n",
    "else:\n",
    "    print(f\"{o} is not divisible by 3,5 or 7\")"
   ]
  },
  {
   "cell_type": "code",
   "execution_count": null,
   "id": "65adfbe7",
   "metadata": {},
   "outputs": [],
   "source": [
    "# Write a program to accept the percentage from the user and display grade according to the marks.\n",
    "\n",
    "# Percentage --------------> Grade\n",
    "\n",
    "# >90---------------------> \"A\"\n",
    "# >80 and <=90 -----------> \"B\"\n",
    "# >60 and <=80 -----------> \"C\"\n",
    "# Below 60 ---------------> \"D\""
   ]
  },
  {
   "cell_type": "code",
   "execution_count": 18,
   "id": "d071936a",
   "metadata": {},
   "outputs": [
    {
     "name": "stdout",
     "output_type": "stream",
     "text": [
      "Input your marks:\n",
      "78.2\n",
      "Grade C\n"
     ]
    }
   ],
   "source": [
    "#Khriesezo\n",
    "per=float(input(\"Input your marks:\\n\"))\n",
    "\n",
    "if per>0 or per<100:\n",
    "\n",
    "    if per>90:\n",
    "        print(\"Grade A\")\n",
    "\n",
    "    elif per>80 and per<=90:\n",
    "        print(\"Grade B\")\n",
    "\n",
    "    elif per>60 and per<=80:\n",
    "        print(\"Grade C\")\n",
    "\n",
    "    elif per<60:\n",
    "        print(\"Grade D\")\n",
    "    \n",
    "else:\n",
    "    print(\"Invalid Syntax\")"
   ]
  },
  {
   "cell_type": "code",
   "execution_count": 19,
   "id": "53aa146e",
   "metadata": {},
   "outputs": [
    {
     "name": "stdout",
     "output_type": "stream",
     "text": [
      "Enter percentage:95.23\n",
      "A\n"
     ]
    }
   ],
   "source": [
    "p=float(input('Enter percentage:'))\n",
    "\n",
    "if p>90 and p<=100:\n",
    "    print('A')\n",
    "elif p>80 and p<=90:\n",
    "    print('B')\n",
    "elif p>60 and p<=80:\n",
    "    print('C')\n",
    "elif p<60:\n",
    "    print('D')\n",
    "else:\n",
    "    print('Invalid Percentage')"
   ]
  },
  {
   "cell_type": "code",
   "execution_count": 20,
   "id": "0420393d",
   "metadata": {},
   "outputs": [
    {
     "name": "stdout",
     "output_type": "stream",
     "text": [
      "Enter a city name:\n",
      "DelHI\n",
      "DelHI's monument is RedFort\n"
     ]
    }
   ],
   "source": [
    "# Accept any city from the user and displays monument of the city.\n",
    "\n",
    "# City-------------------------> Monument\n",
    "# Delhi -----------------------> \"RedFort\"\n",
    "# Agra-------------------------> \"TajMahal\"\n",
    "# Jaipur-----------------------> \"JalMahal,HawaMahal\"\n",
    "# AmritSar---------------------> \"Golden Temple\"\n",
    "# Madurai----------------------> \"Meenakshi Temple\"\n",
    "# Mysore-----------------------> \"Mysore Palace\"\n",
    "# Mumbai-----------------------> \"Gateway of India\"\n",
    "# Sanchi-----------------------> \"Sanchi Stupa\"\n",
    "# Hydrabad --------------------> \"Charminar\"\n",
    "#Khriesezo\n",
    "city=str(input(\"Enter a city name:\\n\"))\n",
    "\n",
    "if city.lower()=='delhi':\n",
    "    print(f\"{city}'s monument is RedFort\")\n",
    "\n",
    "elif city.lower()=='agra':\n",
    "    print(f\"{city}'s monument is TajMahal\")\n",
    "\n",
    "elif city.lower()=='jaipur':\n",
    "    print(f\"{city}'s monument is JalMahal and HawaMahal\")\n",
    "\n",
    "elif city.lower()=='amritsar':\n",
    "    print(f\"{city}'s monument is GoldenTemple\")\n",
    "\n",
    "elif city.lower()=='madurai':\n",
    "    print(f\"{city}'s monument is Meenakshi Temple\")\n",
    "\n",
    "elif city.lower()=='mysore':\n",
    "    print(f\"{city}'s monument is MysorePalace\")\n",
    "    \n",
    "elif city.lower()=='mumbai':\n",
    "    print(f\"{city}'s monument is GatewayOfIndia\")\n",
    "\n",
    "elif city.lower=='sanchi':\n",
    "    print(f\"{city}'s monument is SanchiStupa\")\n",
    "    \n",
    "elif city.lower=='hyderabad':\n",
    "    print(f\"{city}'s monument is Charminar\")\n",
    "\n",
    "else:\n",
    "    print(\"Invalid Syntax\")\n",
    "    "
   ]
  },
  {
   "cell_type": "code",
   "execution_count": 24,
   "id": "11504529",
   "metadata": {},
   "outputs": [
    {
     "name": "stdout",
     "output_type": "stream",
     "text": [
      "Enter city name:Delhi\n",
      "Red Fort\n"
     ]
    }
   ],
   "source": [
    "city=input('Enter city name:')\n",
    "if city=='Delhi':\n",
    "    print('Red Fort')\n",
    "elif city=='Agra':\n",
    "    print('Taj Mahal')\n",
    "elif city=='Jaipur':\n",
    "    print('Jal Mahal and Hawa Mahal')\n",
    "elif city=='Amritsar':\n",
    "    print('Golden Temple')\n",
    "elif city=='Madurai':\n",
    "    print('Meenakshi Temple')\n",
    "elif city=='Mysore':\n",
    "    print('Mysore Temple')\n",
    "elif city=='Mumbai':\n",
    "    print('Gateway of India')\n",
    "elif city=='Sanchi':\n",
    "    print('Sanchi Stupa')\n",
    "elif city=='Hydrabad':\n",
    "    print('Charminar')\n",
    "else:\n",
    "    print('Information not available')"
   ]
  },
  {
   "cell_type": "code",
   "execution_count": 28,
   "id": "cefa18cb",
   "metadata": {},
   "outputs": [
    {
     "name": "stdout",
     "output_type": "stream",
     "text": [
      "Enter age of first number:56\n",
      "Enter age of second number:56\n",
      "Enter age of third number:46\n"
     ]
    }
   ],
   "source": [
    "# Accept the age of 3 people and display the elder one.\n",
    "a1=int(input('Enter age of first number:'))\n",
    "a2=int(input('Enter age of second number:'))\n",
    "a3=int(input('Enter age of third number:'))\n",
    "\n",
    "if a1>a2 and a1>a3:\n",
    "    print(f'eldest person age is {a1}')\n",
    "elif a2>a1 and a2>a3:\n",
    "    print(f'eldest person age is {a2}')\n",
    "elif a3>a2 and a3>a1:\n",
    "    print(f'eldest person age is {a3}')"
   ]
  },
  {
   "cell_type": "code",
   "execution_count": 26,
   "id": "c90613de",
   "metadata": {},
   "outputs": [
    {
     "name": "stdout",
     "output_type": "stream",
     "text": [
      "Age of first person:56\n",
      "Age of second person:56\n",
      "Age of third person:56\n"
     ]
    }
   ],
   "source": [
    "a=int(input(\"Age of first person:\"))\n",
    "b=int(input(\"Age of second person:\"))\n",
    "c=int(input(\"Age of third person:\"))\n",
    "if a>0 and b>0 and c>0:\n",
    "    \n",
    "    if a>b and a>c:\n",
    "        print(\"First person is the eldest\")\n",
    "\n",
    "    elif b>c and b>a:\n",
    "        print(\"Second person is the eldest\")\n",
    "\n",
    "    elif c>a and c>b:\n",
    "        print(\"Third person is the eldest\")\n",
    "    \n",
    "else:\n",
    "    print(\"Invalid Syntax\")"
   ]
  },
  {
   "cell_type": "code",
   "execution_count": 29,
   "id": "5dae4c3c",
   "metadata": {},
   "outputs": [
    {
     "name": "stdout",
     "output_type": "stream",
     "text": [
      "Age of first person:56\n",
      "Age of second person:56\n",
      "Age of third person:63\n",
      "Third person is the eldest\n"
     ]
    }
   ],
   "source": [
    "a=int(input(\"Age of first person:\"))\n",
    "b=int(input(\"Age of second person:\"))\n",
    "c=int(input(\"Age of third person:\"))\n",
    "if a>0 and b>0 and c>0:\n",
    "    \n",
    "    if a>b and a>c:\n",
    "        print(\"First person is the eldest\")\n",
    "\n",
    "    elif b>c and b>a:\n",
    "        print(\"Second person is the eldest\")\n",
    "\n",
    "    elif c>a and c>b:\n",
    "        print(\"Third person is the eldest\")\n",
    "        \n",
    "    elif a==b and a==c and b==c:\n",
    "        print(\"Every person has the same age\")\n",
    "    \n",
    "    elif a>b and c>b and a==c:\n",
    "        print(\"First and Third Person has the same age and are eldest\")\n",
    "        \n",
    "    elif a>c and b>c and a==b:\n",
    "        print(\"First and Second Person has the same age and are eldest\")\n",
    "    \n",
    "    elif b>a and c>a and b==c:\n",
    "        print(\"Second and Third Person has the same age and are eldest\")\n",
    "        \n",
    "else:\n",
    "    print(\"Invalid Syntax\")"
   ]
  },
  {
   "cell_type": "code",
   "execution_count": 30,
   "id": "5565146b",
   "metadata": {},
   "outputs": [
    {
     "name": "stdout",
     "output_type": "stream",
     "text": [
      "Enter age of first number:56\n",
      "Enter age of second number:23\n",
      "Enter age of third number:66\n",
      "66 is the eldest\n"
     ]
    }
   ],
   "source": [
    "a1=int(input('Enter age of first number:'))\n",
    "a2=int(input('Enter age of second number:'))\n",
    "a3=int(input('Enter age of third number:'))\n",
    "\n",
    "if a1>0 and a2>0 and a3>0:\n",
    "    \n",
    "    if a1>a2 and a1>a3:\n",
    "        print(f'{a1} is the eldest')\n",
    "    elif a2>a1 and a2>a3:\n",
    "        print(f'{a2} is the eldest')\n",
    "    elif a3>a1 and a3>a2:\n",
    "        print(f'{a3} is the eldest')\n",
    "    elif a1==a2==a3:\n",
    "        print('all have same age')\n",
    "else:\n",
    "    print('Invalid age')"
   ]
  },
  {
   "cell_type": "code",
   "execution_count": 32,
   "id": "6ab0f100",
   "metadata": {},
   "outputs": [
    {
     "name": "stdout",
     "output_type": "stream",
     "text": [
      "Enter first age:56\n",
      "Enter second age:22\n",
      "Enter third age:36\n",
      "Enter fourth age:10\n",
      "10 is the youngest\n"
     ]
    }
   ],
   "source": [
    "# Accept the age of 4 people and display the youngest one With f-string function.\n",
    "b1=int(input('Enter first age:'))\n",
    "b2=int(input('Enter second age:'))\n",
    "b3=int(input('Enter third age:'))\n",
    "b4=int(input('Enter fourth age:'))\n",
    "\n",
    "if b1>0 and b2>0 and b3>0 and b4>0:\n",
    "    \n",
    "    if b1<b2 and b1<b3 and b1<b4:\n",
    "        print(f'{b1} is the youngest')\n",
    "    elif b2<b1 and b2<b3 and b2<b4:\n",
    "        print(f'{b2} is the youngest')\n",
    "    elif b3<b1 and b3<b1 and b3<b4:\n",
    "        print(f'{b3} is the youngest')\n",
    "    elif b4<b1 and b4<b2 and b4<b3:\n",
    "        print(f'{b4} is the youngest')\n",
    "    elif b1==b2==b3==b4:\n",
    "        print('Every person has same age')\n",
    "else:\n",
    "    print('Invalid Age')"
   ]
  },
  {
   "cell_type": "code",
   "execution_count": 31,
   "id": "f64cecbc",
   "metadata": {},
   "outputs": [
    {
     "name": "stdout",
     "output_type": "stream",
     "text": [
      "Age of first person:45\n",
      "Age of second person:45\n",
      "Age of third person:22\n",
      "Age of fourth person36\n",
      "Third person i.e;22 is the youngest\n"
     ]
    }
   ],
   "source": [
    "a=int(input(\"Age of first person:\"))\n",
    "b=int(input(\"Age of second person:\"))\n",
    "c=int(input(\"Age of third person:\"))\n",
    "d=int(input(\"Age of fourth person\"))\n",
    "if a>0 and b>0 and c>0:\n",
    "    \n",
    "    if a<b and a<c and a<d:\n",
    "        print(f\"First person i.e;{a} is the youngest\")\n",
    "\n",
    "    elif b<c and b<a and b<d:\n",
    "        print(f\"Second person i.e;{b} is the youngest\")\n",
    "\n",
    "    elif c<a and c<b and c<d:\n",
    "        print(f\"Third person i.e;{c} is the youngest\")\n",
    "        \n",
    "    elif d<a and d<b and d<c:\n",
    "        print(f\"Fourth person i.e;{d} is the youngest\")\n",
    "        \n",
    "    elif a==b and a==c and a==d:\n",
    "        print(\"Every person has the same age\")\n",
    "\n",
    "else:\n",
    "    print(\"Invalid Syntax\")"
   ]
  },
  {
   "cell_type": "code",
   "execution_count": 1,
   "id": "fa946cc7",
   "metadata": {},
   "outputs": [],
   "source": [
    "# Accept the marked price from the user and calculate the net amount as(marked price-Discount)\n",
    "# marked price---------------------->Discount\n",
    "# >10000---------------------------> 20%\n",
    "#>7000 and <=10000-----------------> 15%\n",
    "#<=7000----------------------------> 10%"
   ]
  },
  {
   "cell_type": "code",
   "execution_count": 2,
   "id": "5ce058cf",
   "metadata": {},
   "outputs": [
    {
     "name": "stdout",
     "output_type": "stream",
     "text": [
      "Enter total classes held:75\n",
      "Enter total classes attended:45\n",
      "Your percentage is  60.0\n",
      "You are not allowed to sit in the exam.\n"
     ]
    }
   ],
   "source": [
    "#A student will not be allowed to sit in exam if his/her attendence is less than 75%.\n",
    "#Take following input from user\n",
    "#Number of classes held\n",
    "#Number of classes attended.\n",
    "#And print\n",
    "#percentage of class attended\n",
    "#Is student is allowed to sit in exam or not.\n",
    "\n",
    "held=int(input('Enter total classes held:'))\n",
    "attended=int(input('Enter total classes attended:'))\n",
    "perc=(attended/held)*100\n",
    "print('Your percentage is ',perc)\n",
    "\n",
    "if perc>=75:\n",
    "    print('You are allowed to sit in the exam.')\n",
    "else:\n",
    "    print('You are not allowed to sit in the exam.')"
   ]
  },
  {
   "cell_type": "code",
   "execution_count": 3,
   "id": "e9eb6df2",
   "metadata": {},
   "outputs": [
    {
     "name": "stdout",
     "output_type": "stream",
     "text": [
      "Enter total distance:45\n",
      "total cost of distance  45.0 km is  360.0\n"
     ]
    }
   ],
   "source": [
    "#[19] A transport company charges the fare according to following table:\n",
    "\n",
    "#Distance\tCharges\n",
    "#1-50\t8 Rs./Km\n",
    "#51-100\t10 Rs./Km\n",
    "#>100\t12 Rs/Km\n",
    "\n",
    "dist=float(input('Enter total distance:'))\n",
    "\n",
    "if dist>=1 and dist<=50:\n",
    "    print('total cost of distance ', dist,'km is ',dist*8)\n",
    "elif dist>=51 and dist<=100:\n",
    "    print('total cost of distance ', dist,'km is ',dist*10)\n",
    "elif dist>100:\n",
    "    print('total cost of distance ', dist,'km is ',dist*12)\n",
    "else:\n",
    "    print('Invalid distance')"
   ]
  },
  {
   "cell_type": "code",
   "execution_count": 4,
   "id": "dff5070d",
   "metadata": {},
   "outputs": [
    {
     "name": "stdout",
     "output_type": "stream",
     "text": [
      "Enter your gender M/F:M\n",
      "Enter your age:45\n",
      "Enter your marital status Y/N:y\n",
      "You may work only in urban areas.\n"
     ]
    }
   ],
   "source": [
    "# 6.Ask user to enter age, sex ( M or F ), marital status ( Y or N ) and then using following rules print their place of service.\n",
    "# if employee is female, then she will work only in urban areas.\n",
    "\n",
    "# if employee is a male and age is in between 20 to 40 then he may work in anywhere\n",
    "\n",
    "# if employee is male and age is in between 40 t0 60 then he will work in urban areas only.\n",
    "\n",
    "# And any other input of age should print \"ERROR\".\n",
    "\n",
    "gender=input('Enter your gender M/F:')\n",
    "age=int(input('Enter your age:'))\n",
    "marital=input('Enter your marital status Y/N:')\n",
    "\n",
    "if gender.upper()=='F':\n",
    "    print('You may work only in urban areas.')\n",
    "elif gender.upper()=='M' and age>=20 and age<40:\n",
    "    print('You may work anywhere.')\n",
    "elif gender.upper()=='M' and age>=40 and age<60:\n",
    "    print('You may work only in urban areas.')\n",
    "else:\n",
    "    print(\"ERROR\")"
   ]
  },
  {
   "cell_type": "code",
   "execution_count": 5,
   "id": "9196e72c",
   "metadata": {},
   "outputs": [
    {
     "name": "stdout",
     "output_type": "stream",
     "text": [
      "Total quantity of products:45\n",
      "Total cost is 4500 . So discount applied: 4050.0  i.e. 10%. Since your total cost is above 1000rs\n"
     ]
    }
   ],
   "source": [
    "# 3. A shop will give discount of 10% if the cost of purchased quantity is more than 1000.\n",
    "# Ask user for quantity\n",
    "# Suppose, one unit will cost 100.\n",
    "# Judge and print total cost for user.\n",
    "\n",
    "quantity=int(input('Total quantity of products:'))\n",
    "total_cost=quantity*100\n",
    "if total_cost>0:\n",
    "    if total_cost>1000:\n",
    "        print('Total cost is',total_cost,'. So discount applied:', total_cost-(total_cost*10/100), ' i.e. 10%. Since your total cost is above 1000rs')\n",
    "    else:\n",
    "        print('No discount applied, total cost is:',total_cost)\n",
    "else:\n",
    "    print('Invalid input.')"
   ]
  },
  {
   "cell_type": "code",
   "execution_count": 6,
   "id": "dbf28105",
   "metadata": {},
   "outputs": [
    {
     "name": "stdout",
     "output_type": "stream",
     "text": [
      "Enter first number:45\n",
      "Enter second number:48\n",
      "48 is the greatest\n"
     ]
    }
   ],
   "source": [
    "#Take two int values from user and print greatest among them.\n",
    "n1=int(input(\"Enter first number:\"))\n",
    "n2=int(input(\"Enter second number:\"))\n",
    "if n1>n2:\n",
    "    print(f'{n1} is the greatest')\n",
    "elif n2>n1:\n",
    "    print(f'{n2} is the greatest')\n",
    "elif n1==n2:\n",
    "    print('both values are equal')\n",
    "else:\n",
    "    print('invalid input')"
   ]
  },
  {
   "cell_type": "code",
   "execution_count": 7,
   "id": "1e4b4ef6",
   "metadata": {},
   "outputs": [
    {
     "name": "stdout",
     "output_type": "stream",
     "text": [
      "Enter lenght of rectangle:12\n",
      "Enter breadth of rectangle:14\n",
      "It is not a square.\n"
     ]
    }
   ],
   "source": [
    "# Take values of length and breadth of a rectangle from user and check if it is square or not.\n",
    "lenght=float(input('Enter lenght of rectangle:'))\n",
    "breadth=float(input('Enter breadth of rectangle:'))\n",
    "if lenght==breadth:\n",
    "    print('It is a square.')\n",
    "else:\n",
    "    print('It is not a square.')"
   ]
  },
  {
   "cell_type": "code",
   "execution_count": 8,
   "id": "38e15fef",
   "metadata": {},
   "outputs": [
    {
     "name": "stdout",
     "output_type": "stream",
     "text": [
      "Enter text:Harsh\n",
      "total vowels in  Harsh is  1\n",
      "total consonanta in  Harsh  is 4\n"
     ]
    }
   ],
   "source": [
    "#Count vowels and consonants.\n",
    "text=input(('Enter text:'))\n",
    "v=0\n",
    "c=0\n",
    "vowels=['a','e','i','o','u','A','E','I','O','U']\n",
    "for x in text:\n",
    "    if x in vowels:\n",
    "        v+=1\n",
    "    else:\n",
    "        c+=1\n",
    "    \n",
    "print('total vowels in ', text, 'is ',v)\n",
    "print('total consonanta in ', text, ' is' ,c)"
   ]
  },
  {
   "cell_type": "code",
   "execution_count": null,
   "id": "ab39a81e",
   "metadata": {},
   "outputs": [],
   "source": []
  }
 ],
 "metadata": {
  "kernelspec": {
   "display_name": "Python 3 (ipykernel)",
   "language": "python",
   "name": "python3"
  },
  "language_info": {
   "codemirror_mode": {
    "name": "ipython",
    "version": 3
   },
   "file_extension": ".py",
   "mimetype": "text/x-python",
   "name": "python",
   "nbconvert_exporter": "python",
   "pygments_lexer": "ipython3",
   "version": "3.9.13"
  }
 },
 "nbformat": 4,
 "nbformat_minor": 5
}
