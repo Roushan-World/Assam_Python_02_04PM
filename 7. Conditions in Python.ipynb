{
 "cells": [
  {
   "cell_type": "markdown",
   "id": "56143d64",
   "metadata": {},
   "source": [
    "# 7. Conditions in Python"
   ]
  },
  {
   "cell_type": "markdown",
   "id": "4296025a",
   "metadata": {},
   "source": [
    " * __Comparison Operators__\n",
    "\n",
    "* __Comparison operations compare some value or operand and based on a condition, produce a Boolean. Python has six comparison operators as below:__\n",
    "\n",
    " * __Less than(<)__\n",
    "\n",
    "* __Less than or equal to(<=)__\n",
    "\n",
    "* __Greater than (>)__\n",
    "\n",
    "* __Greater than or equal to(>=)__\n",
    "\n",
    "* __Equal to(==)__ \n",
    "\n",
    "* __Not equal to(!=)__"
   ]
  },
  {
   "cell_type": "markdown",
   "id": "d6d7a600",
   "metadata": {},
   "source": [
    " __Branching (if,elif,else)__\n",
    "__Important Notes__\n",
    "\n",
    " * __Decision making is required when we want to execute a code only if a certain condition is satisfied.__\n",
    " * __The if/elif/else statement is used in Python for decision making.__\n",
    " * __An else statement can be combined with an if statement.__\n",
    " * __An else statement conatins the block of code that executes if the conditional expression in the if statement resolves to 0 or False value.__\n",
    " * __The else statement is an optional statement and there could be at most only one else statement following if.__\n",
    " * __The elif statement allows you to check multiple expressions for True and execute a block of code as soon as one of the condtions evaluates to True.__\n",
    " * __Similar to the else, the elif statement is opetional.__\n",
    "* __However, unlike else, for which there can be at most one statement, there can be an arbitrary number of elif statements following an if.__"
   ]
  },
  {
   "cell_type": "code",
   "execution_count": 3,
   "id": "4673e71d",
   "metadata": {},
   "outputs": [
    {
     "name": "stdout",
     "output_type": "stream",
     "text": [
      "You should go to Primary school\n"
     ]
    }
   ],
   "source": [
    "age=5\n",
    "\n",
    "if age>4:\n",
    "    print('You should go to Primary school')\n",
    "    \n",
    "else:\n",
    "    print('You are a baby')"
   ]
  },
  {
   "cell_type": "code",
   "execution_count": 10,
   "id": "3e45f7de",
   "metadata": {},
   "outputs": [
    {
     "name": "stdout",
     "output_type": "stream",
     "text": [
      "Enter the age of your child between 0 to 10\n",
      "3\n",
      "You are a baby\n"
     ]
    }
   ],
   "source": [
    "age=int(input('Enter the age of your child between 0 to 10\\n'))\n",
    "\n",
    "if age>5:\n",
    "    print('You should go to Primary school')\n",
    "elif age==5:\n",
    "    print('You should go to Kinder Garten')\n",
    "else:\n",
    "    print('You are a baby')"
   ]
  },
  {
   "cell_type": "code",
   "execution_count": 12,
   "id": "b2d8da54",
   "metadata": {},
   "outputs": [
    {
     "name": "stdout",
     "output_type": "stream",
     "text": [
      "Enter number between 1-7:\n",
      "4\n",
      "Thursday\n"
     ]
    }
   ],
   "source": [
    "# Write a program to display the weekdays if you enter 1='Monday',2= 'Tuesday' and so on.\n",
    "\n",
    "num=int(input(\"Enter number between 1-7:\\n\"))\n",
    "\n",
    "if num==1:\n",
    "    print('Monday')\n",
    "elif num==2:\n",
    "    print('Tuesday')\n",
    "elif num==3:\n",
    "    print('Wednesday')\n",
    "elif num==4:\n",
    "    print('Thursday')\n",
    "elif num ==5:\n",
    "    print('Friday')\n",
    "elif num==6:\n",
    "    print('Saturday')\n",
    "elif num==7:\n",
    "    print('Sunday')\n",
    "else:\n",
    "    print('Invalid Number')"
   ]
  },
  {
   "cell_type": "code",
   "execution_count": 13,
   "id": "5dd44d41",
   "metadata": {},
   "outputs": [
    {
     "name": "stdout",
     "output_type": "stream",
     "text": [
      "Enter the number between 1-7:\n",
      "5\n",
      "Friday\n"
     ]
    }
   ],
   "source": [
    "day=int(input(\"Enter the number between 1-7:\\n\"))\n",
    "\n",
    "if day==1:\n",
    "    print('Monday')\n",
    "elif day==2:\n",
    "    print('Tuesday')\n",
    "elif day==3:\n",
    "    print('Wednesday')\n",
    "elif day==4:\n",
    "    print('Thursday')\n",
    "elif day==5:\n",
    "    print('Friday')\n",
    "elif day==6:\n",
    "    print('Saturday')\n",
    "elif day==7:\n",
    "    print('Sunday')\n",
    "else:\n",
    "    print(\"Invalid Syntax\")"
   ]
  },
  {
   "cell_type": "code",
   "execution_count": null,
   "id": "2f639845",
   "metadata": {},
   "outputs": [],
   "source": []
  }
 ],
 "metadata": {
  "kernelspec": {
   "display_name": "Python 3 (ipykernel)",
   "language": "python",
   "name": "python3"
  },
  "language_info": {
   "codemirror_mode": {
    "name": "ipython",
    "version": 3
   },
   "file_extension": ".py",
   "mimetype": "text/x-python",
   "name": "python",
   "nbconvert_exporter": "python",
   "pygments_lexer": "ipython3",
   "version": "3.9.13"
  }
 },
 "nbformat": 4,
 "nbformat_minor": 5
}
