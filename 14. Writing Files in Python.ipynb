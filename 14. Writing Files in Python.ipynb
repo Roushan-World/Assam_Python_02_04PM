{
 "cells": [
  {
   "cell_type": "markdown",
   "id": "2373b650",
   "metadata": {},
   "source": [
    "# 14. Writing Files in Python\n",
    "\n",
    "\n",
    " * __To Write to a text file in Python, you follows these steps:__\n",
    " \n",
    " * __First, Open the text file for writing(appending) using open() functions.__\n",
    " * __Second, write to the text file using the write() or writelines() method.__\n",
    " * __Third, close the file using close() method.__\n",
    " \n",
    " * __Characters----------------------> Functions.__\n",
    " \n",
    " * __W-------------------------------> Open file for writing only. File pointer placed at beginning of the file. Overwrites if existing file and Creates a new one if it does not exists.__\n",
    " \n",
    " * __r-------------------------------> Open the file for reading only. Starts reading from beginning of the file. This is default mode.__\n",
    " \n",
    " * __rb------------------------------> Open a file for reading only. Starts reading from beginning of the file.__\n",
    " \n",
    " * __r+------------------------------> Open file for reading and Writing. File pointer placed at beginning of the file.__\n",
    " \n",
    " * __Wb------------------------------> Same as W but opens in binary mode.__\n",
    " \n",
    " * __W+------------------------------> Same as W but allows to read from the file.__\n",
    " \n",
    " * __Wb+-----------------------------> Same as Wb but also allows to read from file.__\n",
    " \n",
    " * __a-------------------------------> Open a file for appending. Starts writing at the end of the file. Creates a new file if file does not exist.__\n",
    " \n",
    " * __ab------------------------------> Same as a but in binary format. Creates a new file if file does not exist.__\n",
    " \n",
    " * __a+------------------------------> Same as a but also open for reading.__\n",
    " \n",
    " * __ab+-----------------------------> Same as ab but also open for reading.__"
   ]
  },
  {
   "cell_type": "code",
   "execution_count": 1,
   "id": "e7c8b875",
   "metadata": {},
   "outputs": [],
   "source": [
    "fname='Krrish.txt'\n",
    "\n",
    "with open(fname,'w') as f:\n",
    "    f.write('My name is Khriesezo.\\n')\n",
    "    f.write('I am from Nagaland. \\n')\n",
    "    f.write(\"I've done my graduation from St.Anthony School.\\n\")\n",
    "    f.write('My best friend is Harsh Gupta and He is From Assam.')"
   ]
  },
  {
   "cell_type": "code",
   "execution_count": 2,
   "id": "66bf8a6c",
   "metadata": {},
   "outputs": [
    {
     "name": "stdout",
     "output_type": "stream",
     "text": [
      "My name is Khriesezo.\n",
      "I am from Nagaland. \n",
      "I've done my graduation from St.Anthony School.\n",
      "My best friend is Harsh Gupta and He is From Assam.\n"
     ]
    }
   ],
   "source": [
    "with open (fname,'r') as f:\n",
    "    content=f.read()\n",
    "    print(content)"
   ]
  },
  {
   "cell_type": "code",
   "execution_count": 3,
   "id": "d75151e6",
   "metadata": {},
   "outputs": [],
   "source": [
    "fname='Krrish.docx'\n",
    "\n",
    "with open(fname,'w') as f:\n",
    "    f.write('My name is Khriesezo.\\n')\n",
    "    f.write('I am from Nagaland. \\n')\n",
    "    f.write(\"I've done my graduation from St.Anthony School.\\n\")\n",
    "    f.write('My best friend is Harsh Gupta and He is From Assam.')"
   ]
  },
  {
   "cell_type": "code",
   "execution_count": 4,
   "id": "0bc620d1",
   "metadata": {},
   "outputs": [
    {
     "name": "stdout",
     "output_type": "stream",
     "text": [
      "Enter the number of lines:5\n",
      "Begin Writing and Press Enter to continue:\n",
      "cat\n",
      "dog\n",
      "rat\n",
      "parrot\n",
      "Lion\n",
      "cat\n",
      "dog\n",
      "rat\n",
      "parrot\n",
      "Lion\n",
      "\n"
     ]
    }
   ],
   "source": [
    "#file writing using for loop\n",
    "foname='about.txt'\n",
    "n=int(input(\"Enter the number of lines:\"))\n",
    "print('Begin Writing and Press Enter to continue:')\n",
    "with open(foname,'w') as f:\n",
    "    for i in range(n):\n",
    "        s=input()\n",
    "        f.write(s)\n",
    "        f.write('\\n')\n",
    "        \n",
    "with open(foname,'r') as f:\n",
    "    content=f.read()\n",
    "    print(content)"
   ]
  },
  {
   "cell_type": "code",
   "execution_count": 5,
   "id": "4b74c7f2",
   "metadata": {},
   "outputs": [
    {
     "name": "stdout",
     "output_type": "stream",
     "text": [
      "Enter text file namecow\n",
      "Enter Number of lines:3\n",
      "Cow is a pet animal.\n",
      "Cow gives us milk.\n",
      "Cow has 4 feet\n",
      "Cow is a pet animal.\n",
      "Cow gives us milk.\n",
      "Cow has 4 feet\n",
      "\n"
     ]
    }
   ],
   "source": [
    "#Using function, write file using for loop.\n",
    "def write(cow,n):\n",
    "    with open(cow,'w') as f:\n",
    "        for i in range(n):\n",
    "            s=input()\n",
    "            f.write(s)\n",
    "            f.write('\\n')\n",
    "    with open(cow,'r') as f:\n",
    "        content=f.read()\n",
    "        print(content)\n",
    "cow=input('Enter text file name')\n",
    "cow=cow+'.txt'\n",
    "n=int(input(\"Enter Number of lines:\"))\n",
    "write(cow,n)"
   ]
  },
  {
   "cell_type": "code",
   "execution_count": 6,
   "id": "f966e0de",
   "metadata": {},
   "outputs": [
    {
     "name": "stdout",
     "output_type": "stream",
     "text": [
      "Write the number of lines you want to write about yourself: 2\n",
      "write: My self Chandrayaan 3\n",
      "write: I am landing on mood 23 auagust.\n"
     ]
    }
   ],
   "source": [
    "fname = open('f1.txt', 'w')\n",
    "aboutme = []\n",
    "\n",
    "n = int(input('Write the number of lines you want to write about yourself: '))\n",
    "\n",
    "for x in range(n):\n",
    "    am = input('write: ')\n",
    "    aboutme.append(am)\n",
    "\n",
    "for i in aboutme:\n",
    "    fname.write(i)\n",
    "    fname.write('\\n')\n",
    "\n",
    "fname.close()"
   ]
  },
  {
   "cell_type": "code",
   "execution_count": 7,
   "id": "628146d1",
   "metadata": {},
   "outputs": [
    {
     "name": "stdout",
     "output_type": "stream",
     "text": [
      "Write the number of lines you want to write: 2\n",
      "write: India is our country\n",
      "write: India become the 1st largest economy in 2030.\n"
     ]
    }
   ],
   "source": [
    "# file opening using classes and object.\n",
    "class am:\n",
    "    def __init__(self, filename):\n",
    "        self.filename = filename\n",
    "\n",
    "    def am2file(self):\n",
    "        fname = open(self.filename, 'w')\n",
    "        aboutme = []\n",
    "\n",
    "        n = int(input('Write the number of lines you want to write: '))\n",
    "\n",
    "        for x in range(n):\n",
    "            am = input('write: ')\n",
    "            aboutme.append(am)\n",
    "\n",
    "        for i in aboutme:\n",
    "            fname.write(i)\n",
    "            fname.write('\\n')\n",
    "\n",
    "        fname.close()\n",
    "\n",
    "\n",
    "am1 = am('f1.txt')\n",
    "am1.am2file()"
   ]
  },
  {
   "cell_type": "code",
   "execution_count": 10,
   "id": "fe467009",
   "metadata": {},
   "outputs": [
    {
     "name": "stdout",
     "output_type": "stream",
     "text": [
      "Enter file name:india\n",
      "\n",
      "Select options:\n",
      "                        \n",
      "1. Create/Write File\n",
      "                        \n",
      "2. Read File\n",
      "                        \n",
      "3. Exit\n",
      "                        \n",
      "\n",
      "Enter an option:1\n",
      "\n",
      "\n",
      "Enter number of lines2\n",
      "India is our country.\n",
      "It is best country for everyone.\n",
      "\n",
      "Select options:\n",
      "                        \n",
      "1. Create/Write File\n",
      "                        \n",
      "2. Read File\n",
      "                        \n",
      "3. Exit\n",
      "                        \n",
      "\n",
      "Enter an option:3\n",
      "\n",
      "\n",
      "Thanks for using this method.\n"
     ]
    }
   ],
   "source": [
    "# Writing file using file handling oops\n",
    "class writing():\n",
    "    def __init__(self,name):\n",
    "        self.name=name\n",
    "    def writer(self):\n",
    "        n=int(input('Enter number of lines'))\n",
    "        with open(self.name,'w') as f:\n",
    "            for i in range(n):\n",
    "                s=input()\n",
    "                f.write(s)\n",
    "                f.write('\\n')\n",
    "    def reader(self):\n",
    "        with open(self.name,'r') as f:\n",
    "            content=f.read()\n",
    "            print(content)\n",
    "    def prompter(self):\n",
    "        while True:\n",
    "            try:\n",
    "                print('''\\nSelect options:\n",
    "                        \\n1. Create/Write File\n",
    "                        \\n2. Read File\n",
    "                        \\n3. Exit\n",
    "                        \\n''')\n",
    "                opt=int(input(\"Enter an option:\"))\n",
    "                print('\\n')\n",
    "            except:\n",
    "                print('Invalid option')\n",
    "            else:\n",
    "                if opt==1:\n",
    "                    writing.writer(self)\n",
    "                elif opt==2:\n",
    "                    writing.reader(self)\n",
    "                elif opt==3:\n",
    "                    print('Thanks for using this method.')\n",
    "                    break\n",
    "name=input('Enter file name:')\n",
    "name=name+'.txt'\n",
    "val=writing(name)\n",
    "val.prompter()"
   ]
  },
  {
   "cell_type": "code",
   "execution_count": null,
   "id": "68332c38",
   "metadata": {},
   "outputs": [],
   "source": []
  }
 ],
 "metadata": {
  "kernelspec": {
   "display_name": "Python 3 (ipykernel)",
   "language": "python",
   "name": "python3"
  },
  "language_info": {
   "codemirror_mode": {
    "name": "ipython",
    "version": 3
   },
   "file_extension": ".py",
   "mimetype": "text/x-python",
   "name": "python",
   "nbconvert_exporter": "python",
   "pygments_lexer": "ipython3",
   "version": "3.9.13"
  }
 },
 "nbformat": 4,
 "nbformat_minor": 5
}
