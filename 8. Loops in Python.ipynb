{
 "cells": [
  {
   "cell_type": "markdown",
   "id": "5204b9a9",
   "metadata": {},
   "source": [
    "# 8. Loops in Python\n",
    "\n",
    "\n",
    " * __A for loop is used for iterating over a sequence (either a list, a tuple, a dictionary, a set, or a string).__\n",
    " * __This is less like the for keyword in other programming languages, and works more like an iterator method as found in other object-oriented programming languages.__\n",
    " * __With the for loop we can execute a set of statements, once for each item in a list, tuple, set etc.__\n",
    " * __The for loop does not require an indexing variable to set beforehand.__\n",
    " * __With the for loop we can execute a set of statements as long as a condition is true.__\n",
    " * __Note: remember to increment, i, or else the loop will continue forever.__\n",
    " * __The while loop requires relevant variables to be ready, in this example we need to define an indexing variable, i, which we set to 1.__\n",
    " \n",
    " \n",
    "# range() function\n",
    "\n",
    " * __It is helpful to think of the range object as an ordered list.__\n",
    " * __To loop thorough a set of code a specified number of times, we can use the range() function.__\n",
    " * __The range() function returns a sequence of numbers, starting from 0 by default, and increments by 1(by default), and ends at a specified number.__"
   ]
  },
  {
   "cell_type": "code",
   "execution_count": 2,
   "id": "566cd533",
   "metadata": {},
   "outputs": [
    {
     "name": "stdout",
     "output_type": "stream",
     "text": [
      "range(0, 10)\n",
      "range(10, 100)\n"
     ]
    }
   ],
   "source": [
    "print(range(10))\n",
    "print(range(10,100))"
   ]
  },
  {
   "cell_type": "markdown",
   "id": "3926665e",
   "metadata": {},
   "source": [
    "# for loop\n",
    "\n",
    " __The for loop enables you to execute a code block multiple times.__"
   ]
  },
  {
   "cell_type": "code",
   "execution_count": 3,
   "id": "d27a5679",
   "metadata": {},
   "outputs": [
    {
     "name": "stdout",
     "output_type": "stream",
     "text": [
      "2005\n",
      "2006\n",
      "2007\n",
      "2008\n",
      "2009\n",
      "2010\n",
      "2011\n",
      "2012\n",
      "2013\n"
     ]
    }
   ],
   "source": [
    "years=[2005,2006,2007,2008,2009,2010,2011,2012,2013]\n",
    "\n",
    "for i in years:\n",
    "    print(i)"
   ]
  },
  {
   "cell_type": "code",
   "execution_count": 4,
   "id": "b00ebefe",
   "metadata": {},
   "outputs": [
    {
     "name": "stdout",
     "output_type": "stream",
     "text": [
      "2005\n",
      "2006\n",
      "2007\n",
      "2008\n",
      "2009\n",
      "2010\n",
      "2011\n",
      "2012\n",
      "2013\n"
     ]
    }
   ],
   "source": [
    "for year in years:\n",
    "    print(year)"
   ]
  },
  {
   "cell_type": "code",
   "execution_count": 10,
   "id": "c959aed3",
   "metadata": {},
   "outputs": [
    {
     "name": "stdout",
     "output_type": "stream",
     "text": [
      "0 Java\n",
      "1 Python\n",
      "2 C\n",
      "3 C++\n",
      "4 PHP\n",
      "5 Django\n",
      "6 Laravel\n"
     ]
    }
   ],
   "source": [
    "language=['Java','Python','C','C++','PHP','Django','Laravel']\n",
    "\n",
    "for i in range(len(language)):\n",
    "    print(i,language[i])"
   ]
  },
  {
   "cell_type": "code",
   "execution_count": 12,
   "id": "a498a7d4",
   "metadata": {},
   "outputs": [
    {
     "name": "stdout",
     "output_type": "stream",
     "text": [
      "Enter any  numbmber:\n",
      "19\n",
      "19X1=19\n",
      "19X2=38\n",
      "19X3=57\n",
      "19X4=76\n",
      "19X5=95\n",
      "19X6=114\n",
      "19X7=133\n",
      "19X8=152\n",
      "19X9=171\n",
      "19X10=190\n"
     ]
    }
   ],
   "source": [
    "number1=int(input('Enter any  numbmber:\\n'))\n",
    "\n",
    "for i in range(1,11):\n",
    "    print('%dX%d=%d'%(number1,i,number1*i))"
   ]
  },
  {
   "cell_type": "code",
   "execution_count": 14,
   "id": "46f632f7",
   "metadata": {},
   "outputs": [
    {
     "name": "stdout",
     "output_type": "stream",
     "text": [
      "The total sum of the list is: 1780.053\n",
      "The toal average of the list is: 254.29328571428573\n"
     ]
    }
   ],
   "source": [
    "# find the total of the list and average of the list\n",
    "nlis=[0.577,2.718,3.14,1.618,1729,6,37]\n",
    "count=0\n",
    "for i in nlis:\n",
    "    count+=i\n",
    "print('The total sum of the list is:',count)\n",
    "print('The toal average of the list is:',count/len(nlis))"
   ]
  },
  {
   "cell_type": "code",
   "execution_count": null,
   "id": "8b0e5bf5",
   "metadata": {},
   "outputs": [],
   "source": [
    "# find the max,min, total ,average,median\n",
    "nlis1=[100.23,456,744,741,789,951,453,852,753,746,854,856,985]"
   ]
  },
  {
   "cell_type": "code",
   "execution_count": 2,
   "id": "f3751dd7",
   "metadata": {},
   "outputs": [
    {
     "name": "stdout",
     "output_type": "stream",
     "text": [
      "Maximum value is:  985\n",
      "Minimum value is:  100.23\n",
      "Total: 9280.23\n",
      "Average: 713.8638461538461\n",
      "Median:  453\n"
     ]
    }
   ],
   "source": [
    "#find  max,min, total, average, median.\n",
    "lis1=[100.23,456,744,741,789,951,453,852,753,746,854,856,985]\n",
    "sum=0\n",
    "\n",
    "print('Maximum value is: ',max(lis1))\n",
    "print('Minimum value is: ',min(lis1))\n",
    "\n",
    "for i in lis1:\n",
    "    sum+=i\n",
    "print(\"Total:\",sum)\n",
    "print(\"Average:\",sum/len(lis1))\n",
    "\n",
    "\n",
    "m=len(lis1)//2\n",
    "print('Median: ',lis1[m])"
   ]
  },
  {
   "cell_type": "code",
   "execution_count": 3,
   "id": "5b19c7e7",
   "metadata": {},
   "outputs": [
    {
     "name": "stdout",
     "output_type": "stream",
     "text": [
      "Maximum of nlis: 985\n",
      "Minimum of nlis: 100.23\n",
      "Total of nlis: 9280.23\n",
      "Average of nlis: 713.8638461538461\n",
      "Median of nlis: 453\n"
     ]
    }
   ],
   "source": [
    "#find the max, min, total, average, median of nlis\n",
    "nlis=[100.23,456,744,741,789,951,453,852,753,746,854,856,985]\n",
    "print(\"Maximum of nlis:\",max(nlis))\n",
    "print(\"Minimum of nlis:\",min(nlis))\n",
    "\n",
    "s=0\n",
    "for i in nlis:\n",
    "    s+=i\n",
    "    \n",
    "print(\"Total of nlis:\",s)\n",
    "print(\"Average of nlis:\",s/len(nlis))\n",
    "med=len(nlis)/2\n",
    "print(\"Median of nlis:\",nlis[int(med)])"
   ]
  },
  {
   "cell_type": "markdown",
   "id": "ddd2ae84",
   "metadata": {},
   "source": [
    "# continue in for loop"
   ]
  },
  {
   "cell_type": "code",
   "execution_count": 5,
   "id": "c6a5ce15",
   "metadata": {},
   "outputs": [
    {
     "name": "stdout",
     "output_type": "stream",
     "text": [
      "1\n",
      "2\n",
      "3\n",
      "4\n",
      "5\n",
      "6\n",
      "7\n",
      "8\n",
      "9\n",
      "11\n",
      "12\n",
      "13\n"
     ]
    }
   ],
   "source": [
    "nlis1=[1,2,3,4,5,6,7,8,9,10,11,12,13]\n",
    "\n",
    "for i in nlis1:\n",
    "    if i==10:\n",
    "        continue\n",
    "    print(i)"
   ]
  },
  {
   "cell_type": "markdown",
   "id": "e2f1272b",
   "metadata": {},
   "source": [
    "# break in for loop"
   ]
  },
  {
   "cell_type": "code",
   "execution_count": 6,
   "id": "42e5a5b4",
   "metadata": {},
   "outputs": [
    {
     "name": "stdout",
     "output_type": "stream",
     "text": [
      "1\n",
      "2\n",
      "3\n",
      "4\n",
      "5\n",
      "6\n",
      "7\n",
      "8\n",
      "9\n"
     ]
    }
   ],
   "source": [
    "nlis1=[1,2,3,4,5,6,7,8,9,10,11,12,13]\n",
    "\n",
    "for i in nlis1:\n",
    "    if i==10:\n",
    "        break\n",
    "    print(i)"
   ]
  },
  {
   "cell_type": "markdown",
   "id": "5afbe0c4",
   "metadata": {},
   "source": [
    "# While loop\n",
    "\n",
    " __The while loop exists as a tool for repeated execution based on a condition. The code block will keep being executed unitll the given logical condition returns a False boolean value.__"
   ]
  },
  {
   "cell_type": "code",
   "execution_count": 10,
   "id": "e12ad0ca",
   "metadata": {},
   "outputs": [
    {
     "name": "stdout",
     "output_type": "stream",
     "text": [
      "22\n",
      "23\n",
      "24\n",
      "25\n",
      "26\n",
      "27\n",
      "28\n",
      "29\n",
      "30\n",
      "31\n",
      "32\n",
      "33\n",
      "34\n",
      "35\n",
      "36\n",
      "37\n",
      "38\n",
      "39\n",
      "40\n",
      "41\n",
      "42\n",
      "43\n",
      "44\n",
      "45\n",
      "46\n",
      "47\n",
      "48\n",
      "49\n"
     ]
    }
   ],
   "source": [
    "# Take an example\n",
    "\n",
    "i = 22\n",
    "\n",
    "while i<50:\n",
    "    print(i)\n",
    "    i+=1"
   ]
  },
  {
   "cell_type": "code",
   "execution_count": 12,
   "id": "1107cf1b",
   "metadata": {},
   "outputs": [
    {
     "name": "stdout",
     "output_type": "stream",
     "text": [
      "22\n",
      "21\n",
      "20\n",
      "19\n",
      "18\n",
      "17\n",
      "16\n",
      "15\n",
      "14\n",
      "13\n",
      "12\n",
      "11\n",
      "10\n",
      "9\n",
      "8\n",
      "7\n",
      "6\n",
      "5\n",
      "4\n",
      "3\n",
      "2\n",
      "1\n",
      "0\n",
      "-1\n",
      "-2\n",
      "-3\n",
      "-4\n",
      "-5\n",
      "-6\n",
      "-7\n",
      "-8\n",
      "-9\n",
      "-10\n",
      "-11\n",
      "-12\n",
      "-13\n",
      "-14\n",
      "-15\n",
      "-16\n",
      "-17\n"
     ]
    }
   ],
   "source": [
    "# Take another example\n",
    "\n",
    "i = 22\n",
    "\n",
    "while i>=-17:\n",
    "    print(i)\n",
    "    i-=1"
   ]
  },
  {
   "cell_type": "markdown",
   "id": "31683864",
   "metadata": {},
   "source": [
    "# Continue in while loop\n",
    "\n"
   ]
  },
  {
   "cell_type": "code",
   "execution_count": 16,
   "id": "0968553d",
   "metadata": {},
   "outputs": [
    {
     "name": "stdout",
     "output_type": "stream",
     "text": [
      "0\n",
      "1\n",
      "2\n",
      "3\n",
      "4\n",
      "5\n"
     ]
    }
   ],
   "source": [
    "i = 0\n",
    "\n",
    "while i<=5:\n",
    "    print(i)\n",
    "    i+=1\n",
    "    if i==3:\n",
    "        continue"
   ]
  },
  {
   "cell_type": "markdown",
   "id": "b16b4099",
   "metadata": {},
   "source": [
    "# Break in while loop\n",
    "\n"
   ]
  },
  {
   "cell_type": "code",
   "execution_count": 15,
   "id": "3439b34c",
   "metadata": {},
   "outputs": [
    {
     "name": "stdout",
     "output_type": "stream",
     "text": [
      "0\n",
      "1\n",
      "2\n"
     ]
    }
   ],
   "source": [
    "i = 0\n",
    "\n",
    "while i<=5:\n",
    "    print(i)\n",
    "    i+=1\n",
    "    if i==3:\n",
    "        break"
   ]
  },
  {
   "cell_type": "code",
   "execution_count": 17,
   "id": "e4603707",
   "metadata": {},
   "outputs": [
    {
     "name": "stdout",
     "output_type": "stream",
     "text": [
      "Enter a number:19\n",
      "19 X 1 = 19\n",
      "19 X 2 = 38\n",
      "19 X 3 = 57\n",
      "19 X 4 = 76\n",
      "19 X 5 = 95\n",
      "19 X 6 = 114\n",
      "19 X 7 = 133\n",
      "19 X 8 = 152\n",
      "19 X 9 = 171\n",
      "19 X 10 = 190\n"
     ]
    }
   ],
   "source": [
    "# Write table using while loop\n",
    "x1=int(input('Enter a number:'))\n",
    "i=1\n",
    "while i<=10:\n",
    "    print(x1,'X',i,'=',x1*i)\n",
    "    i+=1"
   ]
  },
  {
   "cell_type": "code",
   "execution_count": 18,
   "id": "a53ed21b",
   "metadata": {},
   "outputs": [
    {
     "name": "stdout",
     "output_type": "stream",
     "text": [
      "Enter a number:19\n",
      "19 x 1 = 19\n",
      "19 x 2 = 38\n",
      "19 x 3 = 57\n",
      "19 x 4 = 76\n",
      "19 x 5 = 95\n",
      "19 x 6 = 114\n",
      "19 x 7 = 133\n",
      "19 x 8 = 152\n",
      "19 x 9 = 171\n",
      "19 x 10 = 190\n"
     ]
    }
   ],
   "source": [
    "a=int(input(\"Enter a number:\"))\n",
    "i=1\n",
    "while i<11:\n",
    "    print(a,'x',i,'=',a*i)\n",
    "    i+=1"
   ]
  },
  {
   "cell_type": "code",
   "execution_count": 21,
   "id": "ff337cb3",
   "metadata": {},
   "outputs": [
    {
     "name": "stdout",
     "output_type": "stream",
     "text": [
      "Enter any number\n",
      "19\n",
      "19 X 1 = 19\n",
      "19 X 2 = 38\n",
      "19 X 3 = 57\n",
      "19 X 4 = 76\n",
      "19 X 5 = 95\n",
      "19 X 6 = 114\n",
      "19 X 7 = 133\n",
      "19 X 8 = 152\n",
      "19 X 9 = 171\n",
      "19 X 10 = 190\n"
     ]
    }
   ],
   "source": [
    "num1=int(input('Enter any number\\n'))\n",
    "i=1\n",
    "\n",
    "while i<=10:\n",
    "    print('%d X %d = %d'%(num1,i,num1*i))\n",
    "    i+=1"
   ]
  },
  {
   "cell_type": "markdown",
   "id": "3303be1a",
   "metadata": {},
   "source": [
    "# while-else statement"
   ]
  },
  {
   "cell_type": "code",
   "execution_count": 25,
   "id": "341d307a",
   "metadata": {},
   "outputs": [
    {
     "name": "stdout",
     "output_type": "stream",
     "text": [
      "0,1,2,3,4,5,6,7,8,9,10,It gives us the number between 0 to 10\n"
     ]
    }
   ],
   "source": [
    "index=0\n",
    "\n",
    "while index<=10:\n",
    "    print(index,end=',')\n",
    "    index+=1\n",
    "else:\n",
    "    print('It gives us the number between 0 to 10')"
   ]
  },
  {
   "cell_type": "code",
   "execution_count": 26,
   "id": "aa5f8f96",
   "metadata": {},
   "outputs": [
    {
     "name": "stdout",
     "output_type": "stream",
     "text": [
      "55\n"
     ]
    }
   ],
   "source": [
    "#1. Write a program to print even number 0 to 50 with for loop.\n",
    "#2. Write a program to calculate the sum of all number from 1 to 10.\n",
    "s=0\n",
    "for i in range(1,11):\n",
    "    s+=i\n",
    "print(s)"
   ]
  },
  {
   "cell_type": "code",
   "execution_count": 27,
   "id": "4ebbfde7",
   "metadata": {},
   "outputs": [
    {
     "name": "stdout",
     "output_type": "stream",
     "text": [
      "2\n",
      "4\n",
      "6\n",
      "8\n",
      "10\n",
      "12\n",
      "14\n",
      "16\n",
      "18\n",
      "20\n",
      "22\n",
      "24\n",
      "26\n",
      "28\n",
      "30\n",
      "32\n",
      "34\n",
      "36\n",
      "38\n",
      "40\n",
      "42\n",
      "44\n",
      "46\n",
      "48\n",
      "50\n"
     ]
    }
   ],
   "source": [
    "#Write a program to print even numbers 0-50 with for loop.\n",
    "\n",
    "for i in range(2,51,2):\n",
    "    print(i)"
   ]
  },
  {
   "cell_type": "code",
   "execution_count": 28,
   "id": "32bd22d6",
   "metadata": {},
   "outputs": [
    {
     "name": "stdout",
     "output_type": "stream",
     "text": [
      "16\n"
     ]
    }
   ],
   "source": [
    "# Write a program to count the total number of digits in a number 1234567894561237 using for loop.\n",
    "# WAP to count the total number of the digits in a number 1234567894561237 using for loop\n",
    "\n",
    "n=1234567894561237\n",
    "s=0\n",
    "for i in range(len(str(n))+1):\n",
    "    continue\n",
    "print(i)"
   ]
  },
  {
   "cell_type": "code",
   "execution_count": 31,
   "id": "e05c4b27",
   "metadata": {},
   "outputs": [
    {
     "name": "stdout",
     "output_type": "stream",
     "text": [
      "16\n"
     ]
    }
   ],
   "source": [
    "given_num=1234567894561237\n",
    "\n",
    "given_num=str(given_num)\n",
    "\n",
    "count=0\n",
    "for i in given_num:\n",
    "    count+=1\n",
    "print(count)"
   ]
  },
  {
   "cell_type": "code",
   "execution_count": 32,
   "id": "f71ef76e",
   "metadata": {},
   "outputs": [],
   "source": [
    "# Write a program that accept your name from the user and reverse it using for loop."
   ]
  },
  {
   "cell_type": "code",
   "execution_count": 38,
   "id": "c5a2fea6",
   "metadata": {},
   "outputs": [
    {
     "name": "stdout",
     "output_type": "stream",
     "text": [
      "Enter name: Radar\n",
      "radar is a palindrome.\n"
     ]
    }
   ],
   "source": [
    "# Write a program to check if the given string is a palindrome or not you can take string from the user.\n",
    "\n",
    "# Some palindrome words are: \"madam\",\"civics\",\"anna\",\"malayalam\",\"pip\",\"radar\"\n",
    "#WAP to check if the word is palindrome or not.\n",
    "\n",
    "name=input('Enter name: ')\n",
    "name=name.lower()\n",
    "reverse_str=''\n",
    "for i in name:\n",
    "    reverse_str=i+reverse_str\n",
    "if name==reverse_str:\n",
    "    print(f'{name} is a palindrome.')\n",
    "else:\n",
    "    print(f'{name} is not a palindrome.')"
   ]
  },
  {
   "cell_type": "code",
   "execution_count": 37,
   "id": "a436a333",
   "metadata": {},
   "outputs": [
    {
     "name": "stdout",
     "output_type": "stream",
     "text": [
      "Enter something:MAdam\n",
      "It is a palindrome.\n"
     ]
    }
   ],
   "source": [
    "# Check if palindrome or not in for loop\n",
    "a=input(\"Enter something:\")\n",
    "a=a.lower()\n",
    "revs=''\n",
    "for i in a:\n",
    "    revs=i+revs\n",
    "if revs==a:\n",
    "    print(\"It is a palindrome.\")\n",
    "else:\n",
    "    print(\"It is not a palindrome.\")"
   ]
  },
  {
   "cell_type": "code",
   "execution_count": 39,
   "id": "a0e5fd00",
   "metadata": {},
   "outputs": [
    {
     "name": "stdout",
     "output_type": "stream",
     "text": [
      "1 is an odd number\n",
      "2 is an even number\n",
      "3 is an odd number\n",
      "4 is an even number\n",
      "5 is an odd number\n",
      "67 is an odd number\n",
      "50 is an even number\n",
      "100 is an even number\n",
      "2002 is an even number\n",
      "168 is an even number\n",
      "597 is an odd number\n",
      "256 is an even number\n",
      "300 is an even number\n"
     ]
    }
   ],
   "source": [
    "# Write a program to count the number of even or odd number from series [1,2,3,4,5,67,50,100,2002,168,597,256,300] using loop\n",
    "# WAP to count the number of even or odd number from series [1,2,3,4,5,67,50,100,2002,168,597,256,300], say 1 is an Odd number.\n",
    "num=[1,2,3,4,5,67,50,100,2002,168,597,256,300]\n",
    "for i in num:\n",
    "    if i%2==0:\n",
    "        print(i,'is an even number')\n",
    "    else:\n",
    "        print(i,'is an odd number')"
   ]
  },
  {
   "cell_type": "code",
   "execution_count": 40,
   "id": "ccaffad2",
   "metadata": {},
   "outputs": [
    {
     "name": "stdout",
     "output_type": "stream",
     "text": [
      "1  is an odd number\n",
      "2  is even number.\n",
      "3  is an odd number\n",
      "4  is even number.\n",
      "5  is an odd number\n",
      "67  is an odd number\n",
      "50  is even number.\n",
      "100  is even number.\n",
      "2002  is even number.\n",
      "168  is even number.\n",
      "597  is an odd number\n",
      "256  is even number.\n",
      "300  is even number.\n"
     ]
    }
   ],
   "source": [
    "#WAP to count the number of even or odd number from series.\n",
    "num3=[1,2,3,4,5,67,50,100,2002,168,597,256,300]\n",
    "for i in num3:\n",
    "    if i%2==0:\n",
    "        print(i,' is even number.')\n",
    "    else:\n",
    "        print(i,' is an odd number')"
   ]
  },
  {
   "cell_type": "code",
   "execution_count": 41,
   "id": "b98d74ac",
   "metadata": {},
   "outputs": [
    {
     "name": "stdout",
     "output_type": "stream",
     "text": [
      "11\n",
      "13\n",
      "17\n",
      "19\n",
      "23\n",
      "29\n"
     ]
    }
   ],
   "source": [
    "# Write a program to display all the prime number from 1 to 30.\n",
    "# WAP to display all the prime numbers from 10-30.\n",
    "\n",
    "for i in range(10,31,1):\n",
    "    if i%2==0 or i%3==0 or i%5==0 or i%7==0:\n",
    "        continue\n",
    "    else:\n",
    "        print(i)"
   ]
  },
  {
   "cell_type": "code",
   "execution_count": 1,
   "id": "54221179",
   "metadata": {},
   "outputs": [
    {
     "name": "stdout",
     "output_type": "stream",
     "text": [
      "Enter a number:3\n",
      "6\n"
     ]
    }
   ],
   "source": [
    "# Write a program to display the factorial of any number with loop?\n",
    "# WAP to display the factorial of any number with loop\n",
    "f=int(input(\"Enter a number:\"))\n",
    "fact=1\n",
    "for i in range(1,f+1):\n",
    "    fact=i*fact\n",
    "print(fact)"
   ]
  },
  {
   "cell_type": "code",
   "execution_count": 2,
   "id": "7680469f",
   "metadata": {},
   "outputs": [
    {
     "name": "stdout",
     "output_type": "stream",
     "text": [
      "Enter a string:krrish123456\n",
      "The string is: krrish123456 \n",
      "The no. of digits are: 6 \n",
      "The no. of letters are: 6\n"
     ]
    }
   ],
   "source": [
    "# Write a python program that accepts a string and calculates the number of digits and letters. \n",
    "# Ex-abc123 Output= 3letters and 3numbers\n",
    "w=input(\"Enter a string:\")\n",
    "d=0\n",
    "l=0\n",
    "for i in range(len(w)):\n",
    "    \n",
    "    if w[i].isnumeric()==True:\n",
    "        d+=1\n",
    "    \n",
    "    else:\n",
    "        l+=1\n",
    "        \n",
    "print(\"The string is:\",w,'\\nThe no. of digits are:',d,'\\nThe no. of letters are:',l)"
   ]
  },
  {
   "cell_type": "code",
   "execution_count": 3,
   "id": "8a3899ff",
   "metadata": {},
   "outputs": [
    {
     "name": "stdout",
     "output_type": "stream",
     "text": [
      "Enter any letters and number:\n",
      "harsh147\n",
      "The input string: harsh147 has 5 letters and 3 digits.\n"
     ]
    }
   ],
   "source": [
    "user_input=input('Enter any letters and number:\\n')\n",
    "digits=0\n",
    "letters=0\n",
    "\n",
    "for i in user_input:\n",
    "    if i.isdigit():\n",
    "        digits=digits+1\n",
    "    else:\n",
    "        letters=letters+1\n",
    "print('The input string:',user_input,'has',letters,'letters and',digits,'digits.')"
   ]
  },
  {
   "cell_type": "code",
   "execution_count": 12,
   "id": "1a9ddecf",
   "metadata": {},
   "outputs": [
    {
     "name": "stdout",
     "output_type": "stream",
     "text": [
      "The Month of January has 31 days.\n",
      "The Month February has 28/29 days.\n",
      "The Month of March has 31 days.\n"
     ]
    }
   ],
   "source": [
    "# Write a program to convert the month name to the number of days. using for loop\n",
    "# Ex january has 31 days. february has 28/29 days.\n",
    "\n",
    "\n",
    "month=[\"January\",\"February\",\"March\"]\n",
    "\n",
    "for i in month:\n",
    "    if i == \"February\":\n",
    "        print('The Month February has 28/29 days.')\n",
    "        \n",
    "    elif i in (\"April\",\"June\",\"September\",\"November\"):\n",
    "        print('The month of',i,'has 30 days')\n",
    "    elif i in (\"January\",\"March\",\"May\",\"July\",\"August\",\"October\",\"December\"):\n",
    "        print(\"The Month of\",i,'has 31 days.')\n",
    "    else:\n",
    "        print(i,'is not a valid month name')\n",
    "        "
   ]
  },
  {
   "cell_type": "markdown",
   "id": "aa5fbdc8",
   "metadata": {},
   "source": [
    "# While loop practise questions"
   ]
  },
  {
   "cell_type": "code",
   "execution_count": 15,
   "id": "730efc74",
   "metadata": {},
   "outputs": [
    {
     "name": "stdout",
     "output_type": "stream",
     "text": [
      "110\n"
     ]
    }
   ],
   "source": [
    "# Write a python program to print sum of first 10 Even numbes using while loop.\n",
    "\n",
    "num=2\n",
    "sum=0\n",
    "\n",
    "while num<=20:\n",
    "    sum=sum+num\n",
    "    num=num+2\n",
    "print(sum)  # 2 4 6 8 10"
   ]
  },
  {
   "cell_type": "code",
   "execution_count": 16,
   "id": "1f9ac678",
   "metadata": {},
   "outputs": [
    {
     "name": "stdout",
     "output_type": "stream",
     "text": [
      "Sum of first 10 even numbers= 30\n"
     ]
    }
   ],
   "source": [
    "# Write a python program to print the sum of first 10 even numbers.\n",
    "\n",
    "i=0\n",
    "s=0\n",
    "while(i<=10):\n",
    "    if i%2==0:\n",
    "        s+=i\n",
    "    i+=1\n",
    "print(\"Sum of first 10 even numbers=\",s)"
   ]
  },
  {
   "cell_type": "code",
   "execution_count": 17,
   "id": "7fee7b30",
   "metadata": {},
   "outputs": [
    {
     "name": "stdout",
     "output_type": "stream",
     "text": [
      "Enter first range:15\n",
      "Enter last range:20\n",
      "16\n",
      "18\n",
      "20\n"
     ]
    }
   ],
   "source": [
    "# Write a python to print all even numbers that falls between two numbers(exclusive both numbers) entered from the user \n",
    "# using while loop. \n",
    "# WAP to print all even numbers that falls between two numbers(exclusive both numbers) entered from the user using while loop\n",
    "\n",
    "i=int(input(\"Enter first range:\"))\n",
    "j=int(input(\"Enter last range:\"))\n",
    "\n",
    "while(i<j+1):\n",
    "    if i%2==0:\n",
    "        print(i)\n",
    "    i+=1"
   ]
  },
  {
   "cell_type": "code",
   "execution_count": 19,
   "id": "ee09c236",
   "metadata": {},
   "outputs": [
    {
     "name": "stdout",
     "output_type": "stream",
     "text": [
      "Enter first number:15\n",
      "Enter second number:20\n",
      "16\n",
      "18\n",
      "20\n"
     ]
    }
   ],
   "source": [
    "n1=int(input('Enter first number:'))\n",
    "n2=int(input('Enter second number:'))\n",
    "\n",
    "while (n1<n2+1):\n",
    "    if n1%2==0:\n",
    "        print(n1)\n",
    "    n1+=1"
   ]
  },
  {
   "cell_type": "code",
   "execution_count": 28,
   "id": "d2288682",
   "metadata": {},
   "outputs": [
    {
     "name": "stdout",
     "output_type": "stream",
     "text": [
      "Enter any number:1234\n",
      "The total sum the number entered by user is 10\n"
     ]
    }
   ],
   "source": [
    "# write a python program to find the sum of the digits of a number accepted from the user using while loop.\n",
    "# Ex-1234=10\n",
    "\n",
    "num1=int(input('Enter any number:'))\n",
    "\n",
    "remainder=0\n",
    "sum1=0\n",
    "while (num1>0):\n",
    "    remainder= num1%10\n",
    "    sum1=sum1+remainder\n",
    "    num1=num1//10\n",
    "print(\"The total sum the number entered by user is\",sum1)"
   ]
  },
  {
   "cell_type": "code",
   "execution_count": 29,
   "id": "6924b8a0",
   "metadata": {},
   "outputs": [
    {
     "name": "stdout",
     "output_type": "stream",
     "text": [
      "Enter a number:4\n",
      "24\n"
     ]
    }
   ],
   "source": [
    "# Write a program to print the factorial of number using while loop.\n",
    "n=int(input('Enter a number:'))\n",
    "f=1\n",
    "i=1\n",
    "while (i<=n):\n",
    "    f=f*i\n",
    "    i=i+1\n",
    "print(f)"
   ]
  },
  {
   "cell_type": "code",
   "execution_count": 30,
   "id": "fd4f406f",
   "metadata": {},
   "outputs": [
    {
     "name": "stdout",
     "output_type": "stream",
     "text": [
      "Enter a number4\n",
      "24\n"
     ]
    }
   ],
   "source": [
    "#WAP to find factorial of a number using while loop\n",
    "\n",
    "n=int(input(\"Enter a number\"))\n",
    "f=1\n",
    "i=1\n",
    "\n",
    "while(i<n+1):\n",
    "    f=i*f\n",
    "    i+=1\n",
    "print(f)"
   ]
  },
  {
   "cell_type": "code",
   "execution_count": 40,
   "id": "14361d10",
   "metadata": {},
   "outputs": [
    {
     "name": "stdout",
     "output_type": "stream",
     "text": [
      "Enter any number\n",
      "8761014841\n",
      "Eight Seven Six One Zero One Four Eight Four One "
     ]
    }
   ],
   "source": [
    "# Write a python program to display the number of names of the digits of a number entered by user, for example if the \n",
    "# number is 231 then the output should be Two Three one.\n",
    "\n",
    "num1=input('Enter any number\\n')\n",
    "l1=list(num1)\n",
    "l=len(l1)\n",
    "i=0\n",
    "n={0:\"Zero\",1:\"One\",2:\"Two\",3:\"Three\",4:\"Four\",5:\"Five\",6:\"Six\",7:\"Seven\",8:\"Eight\",9:\"Nine\"}\n",
    "\n",
    "while(i<l):\n",
    "    print(n[int(l1[i])],end=' ')\n",
    "    i=i+1"
   ]
  },
  {
   "cell_type": "code",
   "execution_count": null,
   "id": "da599543",
   "metadata": {},
   "outputs": [],
   "source": []
  }
 ],
 "metadata": {
  "kernelspec": {
   "display_name": "Python 3 (ipykernel)",
   "language": "python",
   "name": "python3"
  },
  "language_info": {
   "codemirror_mode": {
    "name": "ipython",
    "version": 3
   },
   "file_extension": ".py",
   "mimetype": "text/x-python",
   "name": "python",
   "nbconvert_exporter": "python",
   "pygments_lexer": "ipython3",
   "version": "3.9.13"
  }
 },
 "nbformat": 4,
 "nbformat_minor": 5
}
