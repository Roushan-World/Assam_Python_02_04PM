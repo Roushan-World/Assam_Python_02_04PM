{
 "cells": [
  {
   "cell_type": "markdown",
   "id": "5204b9a9",
   "metadata": {},
   "source": [
    "# 8. Loops in Python\n",
    "\n",
    "\n",
    " * __A for loop is used for iterating over a sequence (either a list, a tuple, a dictionary, a set, or a string).__\n",
    " * __This is less like the for keyword in other programming languages, and works more like an iterator method as found in other object-oriented programming languages.__\n",
    " * __With the for loop we can execute a set of statements, once for each item in a list, tuple, set etc.__\n",
    " * __The for loop does not require an indexing variable to set beforehand.__\n",
    " * __With the for loop we can execute a set of statements as long as a condition is true.__\n",
    " * __Note: remember to increment, i, or else the loop will continue forever.__\n",
    " * __The while loop requires relevant variables to be ready, in this example we need to define an indexing variable, i, which we set to 1.__\n",
    " \n",
    " \n",
    "# range() function\n",
    "\n",
    " * __It is helpful to think of the range object as an ordered list.__\n",
    " * __To loop thorough a set of code a specified number of times, we can use the range() function.__\n",
    " * __The range() function returns a sequence of numbers, starting from 0 by default, and increments by 1(by default), and ends at a specified number.__"
   ]
  },
  {
   "cell_type": "code",
   "execution_count": 2,
   "id": "566cd533",
   "metadata": {},
   "outputs": [
    {
     "name": "stdout",
     "output_type": "stream",
     "text": [
      "range(0, 10)\n",
      "range(10, 100)\n"
     ]
    }
   ],
   "source": [
    "print(range(10))\n",
    "print(range(10,100))"
   ]
  },
  {
   "cell_type": "markdown",
   "id": "3926665e",
   "metadata": {},
   "source": [
    "# for loop\n",
    "\n",
    " __The for loop enables you to execute a code block multiple times.__"
   ]
  },
  {
   "cell_type": "code",
   "execution_count": 3,
   "id": "d27a5679",
   "metadata": {},
   "outputs": [
    {
     "name": "stdout",
     "output_type": "stream",
     "text": [
      "2005\n",
      "2006\n",
      "2007\n",
      "2008\n",
      "2009\n",
      "2010\n",
      "2011\n",
      "2012\n",
      "2013\n"
     ]
    }
   ],
   "source": [
    "years=[2005,2006,2007,2008,2009,2010,2011,2012,2013]\n",
    "\n",
    "for i in years:\n",
    "    print(i)"
   ]
  },
  {
   "cell_type": "code",
   "execution_count": 4,
   "id": "b00ebefe",
   "metadata": {},
   "outputs": [
    {
     "name": "stdout",
     "output_type": "stream",
     "text": [
      "2005\n",
      "2006\n",
      "2007\n",
      "2008\n",
      "2009\n",
      "2010\n",
      "2011\n",
      "2012\n",
      "2013\n"
     ]
    }
   ],
   "source": [
    "for year in years:\n",
    "    print(year)"
   ]
  },
  {
   "cell_type": "code",
   "execution_count": 10,
   "id": "c959aed3",
   "metadata": {},
   "outputs": [
    {
     "name": "stdout",
     "output_type": "stream",
     "text": [
      "0 Java\n",
      "1 Python\n",
      "2 C\n",
      "3 C++\n",
      "4 PHP\n",
      "5 Django\n",
      "6 Laravel\n"
     ]
    }
   ],
   "source": [
    "language=['Java','Python','C','C++','PHP','Django','Laravel']\n",
    "\n",
    "for i in range(len(language)):\n",
    "    print(i,language[i])"
   ]
  },
  {
   "cell_type": "code",
   "execution_count": 12,
   "id": "a498a7d4",
   "metadata": {},
   "outputs": [
    {
     "name": "stdout",
     "output_type": "stream",
     "text": [
      "Enter any  numbmber:\n",
      "19\n",
      "19X1=19\n",
      "19X2=38\n",
      "19X3=57\n",
      "19X4=76\n",
      "19X5=95\n",
      "19X6=114\n",
      "19X7=133\n",
      "19X8=152\n",
      "19X9=171\n",
      "19X10=190\n"
     ]
    }
   ],
   "source": [
    "number1=int(input('Enter any  numbmber:\\n'))\n",
    "\n",
    "for i in range(1,11):\n",
    "    print('%dX%d=%d'%(number1,i,number1*i))"
   ]
  },
  {
   "cell_type": "code",
   "execution_count": 14,
   "id": "46f632f7",
   "metadata": {},
   "outputs": [
    {
     "name": "stdout",
     "output_type": "stream",
     "text": [
      "The total sum of the list is: 1780.053\n",
      "The toal average of the list is: 254.29328571428573\n"
     ]
    }
   ],
   "source": [
    "# find the total of the list and average of the list\n",
    "nlis=[0.577,2.718,3.14,1.618,1729,6,37]\n",
    "count=0\n",
    "for i in nlis:\n",
    "    count+=i\n",
    "print('The total sum of the list is:',count)\n",
    "print('The toal average of the list is:',count/len(nlis))"
   ]
  },
  {
   "cell_type": "code",
   "execution_count": null,
   "id": "8b0e5bf5",
   "metadata": {},
   "outputs": [],
   "source": [
    "# find the max,min, total ,average,median\n",
    "nlis1=[100.23,456,744,741,789,951,453,852,753,746,854,856,985]"
   ]
  },
  {
   "cell_type": "code",
   "execution_count": 2,
   "id": "f3751dd7",
   "metadata": {},
   "outputs": [
    {
     "name": "stdout",
     "output_type": "stream",
     "text": [
      "Maximum value is:  985\n",
      "Minimum value is:  100.23\n",
      "Total: 9280.23\n",
      "Average: 713.8638461538461\n",
      "Median:  453\n"
     ]
    }
   ],
   "source": [
    "#find  max,min, total, average, median.\n",
    "lis1=[100.23,456,744,741,789,951,453,852,753,746,854,856,985]\n",
    "sum=0\n",
    "\n",
    "print('Maximum value is: ',max(lis1))\n",
    "print('Minimum value is: ',min(lis1))\n",
    "\n",
    "for i in lis1:\n",
    "    sum+=i\n",
    "print(\"Total:\",sum)\n",
    "print(\"Average:\",sum/len(lis1))\n",
    "\n",
    "\n",
    "m=len(lis1)//2\n",
    "print('Median: ',lis1[m])"
   ]
  },
  {
   "cell_type": "code",
   "execution_count": 3,
   "id": "5b19c7e7",
   "metadata": {},
   "outputs": [
    {
     "name": "stdout",
     "output_type": "stream",
     "text": [
      "Maximum of nlis: 985\n",
      "Minimum of nlis: 100.23\n",
      "Total of nlis: 9280.23\n",
      "Average of nlis: 713.8638461538461\n",
      "Median of nlis: 453\n"
     ]
    }
   ],
   "source": [
    "#find the max, min, total, average, median of nlis\n",
    "nlis=[100.23,456,744,741,789,951,453,852,753,746,854,856,985]\n",
    "print(\"Maximum of nlis:\",max(nlis))\n",
    "print(\"Minimum of nlis:\",min(nlis))\n",
    "\n",
    "s=0\n",
    "for i in nlis:\n",
    "    s+=i\n",
    "    \n",
    "print(\"Total of nlis:\",s)\n",
    "print(\"Average of nlis:\",s/len(nlis))\n",
    "med=len(nlis)/2\n",
    "print(\"Median of nlis:\",nlis[int(med)])"
   ]
  },
  {
   "cell_type": "code",
   "execution_count": null,
   "id": "c6a5ce15",
   "metadata": {},
   "outputs": [],
   "source": []
  }
 ],
 "metadata": {
  "kernelspec": {
   "display_name": "Python 3 (ipykernel)",
   "language": "python",
   "name": "python3"
  },
  "language_info": {
   "codemirror_mode": {
    "name": "ipython",
    "version": 3
   },
   "file_extension": ".py",
   "mimetype": "text/x-python",
   "name": "python",
   "nbconvert_exporter": "python",
   "pygments_lexer": "ipython3",
   "version": "3.9.13"
  }
 },
 "nbformat": 4,
 "nbformat_minor": 5
}
