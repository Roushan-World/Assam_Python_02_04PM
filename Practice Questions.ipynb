{
 "cells": [
  {
   "cell_type": "markdown",
   "id": "0e413f24",
   "metadata": {},
   "source": [
    "# Practice Questions(Type-1). \n",
    "\n",
    "* __Write a Python program to calculate the area of rectangle given its length and width from user input.__\n",
    "* __Create a program that takes a user's name and age as input and prints a greeting message.__\n",
    "* __Write a program to check if a number is even or odd.__\n",
    "* __Given a list of numbers, find the maximum and minimum values.__\n",
    "* __Create a Python function to check if a given string is a palindrome.__\n",
    "* __Calculate the compound interest for a given principal amount, interest rate and time period.__\n",
    "* __Write a python program that converts a given number of days into years, week, and days.__\n",
    "* __Given a list of integers, find the sum of all positive numbers.__ [45,78,90,-78,45,-100]\n",
    "* __Create a program that takes a sentence as input and counts the nukmber of words in it.__\n",
    "* __Implement a program that swaps the values of two variable.__\n",
    "\n",
    "\n",
    "\n",
    "# Practice Question(Type-2).\n",
    "\n",
    "* __Given a list of numbers, find the sum and average of the number.__\n",
    "* __Create a program that takes a temperature in Celsius and converts it to Kelvin.__\n",
    "* __Create a function to reverse a given string.__\n",
    "* __Given a list of names, concatenate them into a singel separated by spaces.__\n",
    "* __Write a Python program to check if a given string is a pangram(contains all letters of the alphabet.)__\n",
    "* __Calculate the area and circumference of a circle given its radius.__\n",
    "* __Implement a program that convers a given number of minutes into hours and minutes.__\n",
    "* __Create a function to count the number of vowels in a given string.__\n",
    "* __Write a program to check if a number is prime or not.__\n",
    "\n",
    "\n",
    "# Practice Question(Type-3).(Loops)\n",
    "\n",
    " * __Create a program that takes a year as input and checks if it is a leap year or not.__\n",
    " * __Given a list of integers, find all the even numbers and store them in a new list.__\n",
    " * __Write a Python program to check if a given number is a prime or not.__\n",
    " * __Create a program that generates the Fibonacci sequence up to a given number of terms.__\n",
    " * __Given a list of names, print all the names starting with the letters \"A\"__\n",
    " * __Implement a program that prints the multiplication table of a given number.__\n",
    " * __Write a program that calculates the factorial of given numbers.__\n",
    " * __Create a loop that prints all prime numbers between 1 and 50.__\n",
    " * __Given a list of words, count the number of words with more than five charactes.__\n",
    " * __Calculate the sum of digits of a given number.__\n",
    " \n",
    " \n",
    " \n",
    "# Practice Quesiton(Type-4).(Functions)\n",
    "\n",
    " * __Given a list of numbers, create a function to find the sum of all positive numbers.__\n",
    " * __Implement a function that return the factorial of a given number using function.__\n",
    " * __Create a function to find the square of each element in a given list.__\n",
    " * __Write a function to check if a number is even or odd and return \"Even\" or \"Odd\" accordingly.__\n",
    " * __Calculate the area of a triangle given its base and height using a function.__\n",
    " * __Create a function that takes two lists and returns their intersection(common elements).__\n",
    " * __Implement a function to check if a given year is a leap year or not using function.__\n",
    " * __Create a function that takes a number as input and prints its multiplication table.__\n",
    " \n",
    " \n",
    "# Practice Question(Type-5) (Dictionary)\n",
    "\n",
    " * __Given two dictionaries, merge into a single dicitionary.__\n",
    " * __Write a program that finds the most frequent element in a list.__\n",
    " * __Implement a function that removes a key-value pair from a dictionary.__\n",
    " * __Create a program that checks if two sets have any elements in common.__\n",
    " * __Given a list of dictionaries, find the dictionary with the highest value for a specific key.__\n",
    " * __Write a Python program that counts the number of occurrences of each character in a given string using a dictionary.__\n",
    " * __Given two sets, find the union, intersection and difference between them.__\n",
    " * __Create a function that takes a list of dicitonaries and sorts them based on a specified key.__\n",
    " * __Write a program that finds the average value of all the elements in a list of dictionaries.__\n",
    " * __Implement a function that takes a list of strings and returns a set of unique characters present in all strings.__."
   ]
  },
  {
   "cell_type": "code",
   "execution_count": 3,
   "id": "8ca8eb53",
   "metadata": {},
   "outputs": [
    {
     "name": "stdout",
     "output_type": "stream",
     "text": [
      "Enter the length in cm:45\n",
      "Enter the breadth in cm:25\n",
      "Area of Rectangle is 1125 cm^2\n"
     ]
    }
   ],
   "source": [
    "#Q1 rectangle area\n",
    "l=int(input(\"Enter the length in cm:\"))\n",
    "b=int(input(\"Enter the breadth in cm:\"))\n",
    "\n",
    "print(\"Area of Rectangle is\",l*b,'cm^2')"
   ]
  },
  {
   "cell_type": "code",
   "execution_count": 4,
   "id": "2cd7090f",
   "metadata": {},
   "outputs": [
    {
     "name": "stdout",
     "output_type": "stream",
     "text": [
      "Enter your name:Geeta\n",
      "Enter your age:25\n",
      "Hello there, Geeta, your age is 25\n"
     ]
    }
   ],
   "source": [
    "#Q2 take user name and age, and print greeting message\n",
    "name=input(\"Enter your name:\")\n",
    "age=input(\"Enter your age:\")\n",
    "\n",
    "print(f'Hello there, {name}, your age is {age}')"
   ]
  },
  {
   "cell_type": "code",
   "execution_count": 5,
   "id": "1c5b3dcd",
   "metadata": {},
   "outputs": [
    {
     "name": "stdout",
     "output_type": "stream",
     "text": [
      "Enter a number:45\n",
      "It is an odd number.\n"
     ]
    }
   ],
   "source": [
    "#Q3 WAP to check if a number is even or odd\n",
    "n=int(input(\"Enter a number:\"))\n",
    "\n",
    "if n%2==0 and n!=0:\n",
    "    print(\"It is an even number.\")\n",
    "elif n==0:\n",
    "    print(\"It is zero.\")\n",
    "else:\n",
    "    print(\"It is an odd number.\")"
   ]
  },
  {
   "cell_type": "code",
   "execution_count": 6,
   "id": "e8b6ee78",
   "metadata": {},
   "outputs": [
    {
     "name": "stdout",
     "output_type": "stream",
     "text": [
      "Max of list is: 50 \n",
      "Min of list is: 5\n"
     ]
    }
   ],
   "source": [
    "#Q4 Find max and min of a list\n",
    "list=[10,20,40,5,7,50,25]\n",
    "print(\"Max of list is:\",max(list),'\\nMin of list is:',min(list))"
   ]
  },
  {
   "cell_type": "code",
   "execution_count": 9,
   "id": "4c2390dd",
   "metadata": {},
   "outputs": [
    {
     "name": "stdout",
     "output_type": "stream",
     "text": [
      "Enter something:mom\n",
      "It is a palindrome.\n"
     ]
    }
   ],
   "source": [
    "#Q5 Check if string is palindrome\n",
    "string=input(\"Enter something:\")\n",
    "rev=''\n",
    "for i in string:\n",
    "    rev=i+rev\n",
    "if rev==string:\n",
    "    print(\"It is a palindrome.\")\n",
    "else:\n",
    "    print(\"It is not a palindrome.\")"
   ]
  },
  {
   "cell_type": "code",
   "execution_count": 11,
   "id": "0a1a2bd4",
   "metadata": {},
   "outputs": [
    {
     "name": "stdout",
     "output_type": "stream",
     "text": [
      "Enter the principle amount:300\n",
      "Enter the interest rate:2\n",
      "Enter the time period:100\n",
      "Compound Interest is: 154613256219603399310938338929686381810632256600300\n"
     ]
    }
   ],
   "source": [
    "#Q6 calculate compound interest of given principle amt, interest rate and time\n",
    "p=int(input(\"Enter the principle amount:\"))\n",
    "r=int(input(\"Enter the interest rate:\"))\n",
    "t=int(input(\"Enter the time period:\"))\n",
    "i=p*(1+r)**t\n",
    "print(\"Compound Interest is:\",i)"
   ]
  },
  {
   "cell_type": "code",
   "execution_count": 12,
   "id": "98335b28",
   "metadata": {},
   "outputs": [
    {
     "name": "stdout",
     "output_type": "stream",
     "text": [
      "Enter the amount of days:500\n",
      "Days: 500 \n",
      "Week: 72 \n",
      "Year: 1\n"
     ]
    }
   ],
   "source": [
    "#Q7 input days and print year week and day\n",
    "day=int(input(\"Enter the amount of days:\"))\n",
    "year=0\n",
    "week=0\n",
    "for i in range(day+1):\n",
    "    if i%7==0:\n",
    "        week+=1\n",
    "    elif i%365==0:\n",
    "        year+=1\n",
    "    else:\n",
    "        pass\n",
    "print(\"Days:\",day,'\\nWeek:',week,'\\nYear:',year)"
   ]
  },
  {
   "cell_type": "code",
   "execution_count": 13,
   "id": "319f6dc4",
   "metadata": {},
   "outputs": [
    {
     "name": "stdout",
     "output_type": "stream",
     "text": [
      "Sum of all positive integers: 360\n"
     ]
    }
   ],
   "source": [
    "#Q8 given list of integers, find sum of all positive integers\n",
    "lists=[-1,20,-30,40,-10,-323,200,100,-400]\n",
    "s=0\n",
    "for i in lists:\n",
    "    if i>0:\n",
    "        s+=i\n",
    "    else:\n",
    "        pass\n",
    "print(\"Sum of all positive integers:\",s)"
   ]
  },
  {
   "cell_type": "code",
   "execution_count": 14,
   "id": "a7e1bcf3",
   "metadata": {},
   "outputs": [
    {
     "name": "stdout",
     "output_type": "stream",
     "text": [
      "Enter a sentenceThe Quick Brown Fox Jump over the lazy Dog.\n",
      "Number of words in the sentence is: 34\n"
     ]
    }
   ],
   "source": [
    "#Q9 Create a program that takes a sentence as input and counts the number of words in it.\n",
    "sen=input(\"Enter a sentence\")\n",
    "w=0\n",
    "for i in sen:\n",
    "    if i.isalpha()==True:\n",
    "        w+=1\n",
    "    else:\n",
    "        pass\n",
    "print(\"Number of words in the sentence is:\",w)"
   ]
  },
  {
   "cell_type": "code",
   "execution_count": 16,
   "id": "b02ddd74",
   "metadata": {},
   "outputs": [
    {
     "name": "stdout",
     "output_type": "stream",
     "text": [
      "Enter first number:45\n",
      "Enter second number:65\n",
      "First number: 45\n",
      "Second number: 65\n",
      "After Swapping:\n",
      "First number: 65\n",
      "Second number: 45\n"
     ]
    }
   ],
   "source": [
    "#Q10 Implement a program that swaps the values of two variables.\n",
    "a=int(input(\"Enter first number:\"))\n",
    "b=int(input(\"Enter second number:\"))\n",
    "print(f\"First number: {a}\\nSecond number: {b}\")\n",
    "#using third variable\n",
    "c=a\n",
    "a=b\n",
    "b=c\n",
    "print(f\"After Swapping:\\nFirst number: {a}\\nSecond number: {b}\")"
   ]
  },
  {
   "cell_type": "code",
   "execution_count": 20,
   "id": "2e9d8c6b",
   "metadata": {},
   "outputs": [
    {
     "name": "stdout",
     "output_type": "stream",
     "text": [
      "No\n"
     ]
    }
   ],
   "source": [
    "# Write a Python program to check if a given string is a pangram(contains all letters of the alphabet.)\n",
    "import string\n",
    " \n",
    "def ispangram(str):\n",
    "    alphabet = \"abcdefghijklmnopqrstuvwxyz\"\n",
    "    for char in alphabet:\n",
    "        if char not in str.lower():\n",
    "            return False\n",
    " \n",
    "    return True\n",
    "     \n",
    "# Driver code\n",
    "string = '456'\n",
    "if(ispangram(string) == True):\n",
    "    print(\"Yes\")\n",
    "else:\n",
    "    print(\"No\")"
   ]
  },
  {
   "cell_type": "code",
   "execution_count": 3,
   "id": "0561c8b1",
   "metadata": {},
   "outputs": [
    {
     "name": "stdout",
     "output_type": "stream",
     "text": [
      "Enter Year:2000\n",
      "It is a leap year.\n"
     ]
    }
   ],
   "source": [
    "#Q1 Create a program that takes a year as input and checks if it is a leap year or not\n",
    "year=int(input(\"Enter Year:\"))\n",
    "\n",
    "if year%100==0 and year%400==0:\n",
    "    print(\"It is a leap year.\")\n",
    "elif year%4==0 and year%100!=0:\n",
    "    print(\"It is a leap year.\")\n",
    "else:\n",
    "    print(\"It is not a leap year.\")"
   ]
  },
  {
   "cell_type": "code",
   "execution_count": 4,
   "id": "012adcf7",
   "metadata": {},
   "outputs": [
    {
     "name": "stdout",
     "output_type": "stream",
     "text": [
      "[2, 4, 10, 8, 6, 2]\n"
     ]
    }
   ],
   "source": [
    "#Q2 Given a list of integers, find all the even numbers and store them in a new list.\n",
    "l=[1,3,5,7,9,2,4,10,8,6,2]\n",
    "b=[]\n",
    "for i in l:\n",
    "    if i%2==0:\n",
    "        b.append(i)\n",
    "    else:\n",
    "        pass\n",
    "print(b)"
   ]
  },
  {
   "cell_type": "code",
   "execution_count": 5,
   "id": "07cbb3ab",
   "metadata": {},
   "outputs": [
    {
     "name": "stdout",
     "output_type": "stream",
     "text": [
      "Enter the range of the fibonacci series:123\n",
      "[0, 1, 1, 2, 3, 5, 8, 13, 21, 34, 55, 89, 144, 233, 377, 610, 987, 1597, 2584, 4181, 6765, 10946, 17711, 28657, 46368, 75025, 121393, 196418, 317811, 514229, 832040, 1346269, 2178309, 3524578, 5702887, 9227465, 14930352, 24157817, 39088169, 63245986, 102334155, 165580141, 267914296, 433494437, 701408733, 1134903170, 1836311903, 2971215073, 4807526976, 7778742049, 12586269025, 20365011074, 32951280099, 53316291173, 86267571272, 139583862445, 225851433717, 365435296162, 591286729879, 956722026041, 1548008755920, 2504730781961, 4052739537881, 6557470319842, 10610209857723, 17167680177565, 27777890035288, 44945570212853, 72723460248141, 117669030460994, 190392490709135, 308061521170129, 498454011879264, 806515533049393, 1304969544928657, 2111485077978050, 3416454622906707, 5527939700884757, 8944394323791464, 14472334024676221, 23416728348467685, 37889062373143906, 61305790721611591, 99194853094755497, 160500643816367088, 259695496911122585, 420196140727489673, 679891637638612258, 1100087778366101931, 1779979416004714189, 2880067194370816120, 4660046610375530309, 7540113804746346429, 12200160415121876738, 19740274219868223167, 31940434634990099905, 51680708854858323072, 83621143489848422977, 135301852344706746049, 218922995834555169026, 354224848179261915075, 573147844013817084101, 927372692193078999176, 1500520536206896083277, 2427893228399975082453, 3928413764606871165730, 6356306993006846248183, 10284720757613717413913, 16641027750620563662096, 26925748508234281076009, 43566776258854844738105, 70492524767089125814114, 114059301025943970552219, 184551825793033096366333, 298611126818977066918552, 483162952612010163284885, 781774079430987230203437, 1264937032042997393488322, 2046711111473984623691759, 3311648143516982017180081, 5358359254990966640871840, 8670007398507948658051921, 14028366653498915298923761, 22698374052006863956975682]\n"
     ]
    }
   ],
   "source": [
    "#Q3 Create a program that generates the fibonacci series sequence up to a given number of terms.\n",
    "# 0 1 1 2 3 5 8 13...etc.\n",
    "n=int(input(\"Enter the range of the fibonacci series:\"))\n",
    "n1=0\n",
    "n2=1\n",
    "s=0\n",
    "fibolist=[]\n",
    "for i in range(n+1):\n",
    "    fibolist.append(n1)\n",
    "    s=n1+n2\n",
    "    n1=n2\n",
    "    n2=s\n",
    "print(fibolist)"
   ]
  },
  {
   "cell_type": "code",
   "execution_count": 6,
   "id": "03b90243",
   "metadata": {},
   "outputs": [
    {
     "name": "stdout",
     "output_type": "stream",
     "text": [
      "Areaxis\n",
      "Adolf\n",
      "Anjali\n",
      "Anuksha\n"
     ]
    }
   ],
   "source": [
    "#Q4 Given a list of names, print all the names starting with the letters 'A'\n",
    "nlist=[\"Areaxis\",\"Adolf\",\"Anjali\",\"Khriesezo\",\"Harsh\",\"Roushan\",\"Durgesh\",\"Anuksha\"]\n",
    "for i in nlist:\n",
    "    if i[0]=='A':\n",
    "        print(i)"
   ]
  },
  {
   "cell_type": "code",
   "execution_count": 8,
   "id": "6b28e561",
   "metadata": {},
   "outputs": [
    {
     "name": "stdout",
     "output_type": "stream",
     "text": [
      "Enter a number to print multiplication table of:45\n",
      "45 x 1 = 45\n",
      "45 x 2 = 90\n",
      "45 x 3 = 135\n",
      "45 x 4 = 180\n",
      "45 x 5 = 225\n",
      "45 x 6 = 270\n",
      "45 x 7 = 315\n",
      "45 x 8 = 360\n",
      "45 x 9 = 405\n",
      "45 x 10 = 450\n"
     ]
    }
   ],
   "source": [
    "#Q5 Implement a program that prints the multiplication table of a given number.\n",
    "x=int(input(\"Enter a number to print multiplication table of:\"))\n",
    "for i in range(1,10+1):\n",
    "    print(f'{x} x {i} = {x*i}')"
   ]
  },
  {
   "cell_type": "code",
   "execution_count": 12,
   "id": "dd458585",
   "metadata": {},
   "outputs": [
    {
     "name": "stdout",
     "output_type": "stream",
     "text": [
      "Enter a number to print factorial of:100\n",
      "93326215443944152681699238856266700490715968264381621468592963895217599993229915608941463976156518286253697920827223758251185210916864000000000000000000000000\n"
     ]
    }
   ],
   "source": [
    "#Q6 Write a program that calculates the factorial of given numbers.\n",
    "f=int(input(\"Enter a number to print factorial of:\"))\n",
    "fact=1\n",
    "for i in range(1,f+1):\n",
    "    fact=i*fact\n",
    "print(fact)"
   ]
  },
  {
   "cell_type": "code",
   "execution_count": 13,
   "id": "5d2cecb2",
   "metadata": {},
   "outputs": [
    {
     "name": "stdout",
     "output_type": "stream",
     "text": [
      "2\n",
      "3\n",
      "5\n",
      "7\n",
      "11\n",
      "13\n",
      "17\n",
      "19\n",
      "23\n",
      "29\n",
      "31\n",
      "37\n",
      "41\n",
      "43\n",
      "47\n"
     ]
    }
   ],
   "source": [
    "#Q7 Create a loop that prints all prime numbers between 1 and 50.\n",
    "for i in range(1,51):\n",
    "    if i==2 or i==3 or i==5 or i==7:\n",
    "        print(i)\n",
    "    elif i==1 or i%2==0 or i%3==0 or i%5==0 or i%7==0:\n",
    "        pass\n",
    "    else:\n",
    "        print(i)"
   ]
  },
  {
   "cell_type": "code",
   "execution_count": 14,
   "id": "df9c9873",
   "metadata": {},
   "outputs": [
    {
     "name": "stdout",
     "output_type": "stream",
     "text": [
      "Number of words with more than five characters are: 3\n"
     ]
    }
   ],
   "source": [
    "#Q8 Given a list of words, count the number of words with more than five characters.\n",
    "words=['Hi','Hello','Congratulations','Pune','Maharashtra','Mumbai']\n",
    "count=0\n",
    "for i in words:\n",
    "    if len(i)>5:\n",
    "        count+=1\n",
    "print('Number of words with more than five characters are:',count)"
   ]
  },
  {
   "cell_type": "code",
   "execution_count": 15,
   "id": "84984a0d",
   "metadata": {},
   "outputs": [
    {
     "name": "stdout",
     "output_type": "stream",
     "text": [
      "Enter a number:456\n",
      "15\n"
     ]
    }
   ],
   "source": [
    "#Q9 Calculate the sum of digits of a given number.\n",
    "digit=int(input(\"Enter a number:\"))\n",
    "sums=0\n",
    "for i in str(digit):\n",
    "    sums+=int(i)\n",
    "print(sums)"
   ]
  },
  {
   "cell_type": "code",
   "execution_count": 16,
   "id": "edd9a76c",
   "metadata": {},
   "outputs": [
    {
     "name": "stdout",
     "output_type": "stream",
     "text": [
      "9 total aplhabets of Flowerful\n",
      "6 total aplhabets of Violet\n",
      "8 total aplhabets of Skarlett\n"
     ]
    }
   ],
   "source": [
    "#Given a list of words, count the number of words with more than five characters\n",
    "\n",
    "nam=['Axile','Alex','Flowerful','Violet','Skarlett']\n",
    "\n",
    "for i in nam:\n",
    "    if len(i)>5:\n",
    "        print(len(i),'total aplhabets of',i)"
   ]
  },
  {
   "cell_type": "code",
   "execution_count": 17,
   "id": "ad5ca69c",
   "metadata": {},
   "outputs": [
    {
     "name": "stdout",
     "output_type": "stream",
     "text": [
      "2\n",
      "3\n",
      "5\n",
      "7\n",
      "11\n",
      "13\n",
      "17\n",
      "19\n",
      "23\n",
      "29\n",
      "31\n",
      "37\n",
      "41\n",
      "43\n",
      "47\n"
     ]
    }
   ],
   "source": [
    "#Create a loop that prints all prime numbers between 1 and 50\n",
    "\n",
    "for number in range (1, 50 + 1):  \n",
    "    if number > 1:  \n",
    "        for i in range (2, number):  \n",
    "            if (number % i) == 0:  \n",
    "                break  \n",
    "        else:  \n",
    "            print (number)"
   ]
  },
  {
   "cell_type": "code",
   "execution_count": 18,
   "id": "1543d049",
   "metadata": {},
   "outputs": [
    {
     "name": "stdout",
     "output_type": "stream",
     "text": [
      "[12, 10, 22]\n"
     ]
    }
   ],
   "source": [
    "#Given a list of integers, find all the even numbers and store them in a new list.\n",
    "\n",
    "list3=[12,3,10,1,22,31]\n",
    "list4=[]\n",
    "for i in list3:\n",
    "    if i%2==0:\n",
    "        list4.append(i)\n",
    "print(list4)"
   ]
  },
  {
   "cell_type": "code",
   "execution_count": 19,
   "id": "1f126a20",
   "metadata": {},
   "outputs": [
    {
     "name": "stdout",
     "output_type": "stream",
     "text": [
      "Akash\n",
      "Ali\n",
      "Alen\n"
     ]
    }
   ],
   "source": [
    "#Given a list of names, print all the names starting with the letters 'A'.\n",
    "\n",
    "name=['Akash','Ali','Brotha','Alen','Kat']\n",
    "\n",
    "for x in name:\n",
    "     if x[0]=='A':\n",
    "        print(x)"
   ]
  },
  {
   "cell_type": "code",
   "execution_count": 20,
   "id": "1b68a858",
   "metadata": {},
   "outputs": [
    {
     "name": "stdout",
     "output_type": "stream",
     "text": [
      "Enter year:2006\n",
      "2006  is not a leap year.\n"
     ]
    }
   ],
   "source": [
    "#Create a program that takes a year as input and checks if it is a leap year or not.\n",
    "\n",
    "year=int(input('Enter year:'))\n",
    "if year%4==0 and year%100!=0 or year%4==0:\n",
    "    print(year,' is a leap year.')\n",
    "else:\n",
    "    print(year,' is not a leap year.')"
   ]
  },
  {
   "cell_type": "code",
   "execution_count": 25,
   "id": "ffb40153",
   "metadata": {},
   "outputs": [
    {
     "name": "stdout",
     "output_type": "stream",
     "text": [
      "Enter a number:45\n"
     ]
    },
    {
     "data": {
      "text/plain": [
       "119622220865480194561963161495657715064383733760000000000"
      ]
     },
     "execution_count": 25,
     "metadata": {},
     "output_type": "execute_result"
    }
   ],
   "source": [
    "#Q2 Implement a function that returns the factorial of a given number using function.\n",
    "\n",
    "def fact(f):\n",
    "    if f==0:\n",
    "        return 1\n",
    "    else:\n",
    "        return f*fact(f-1)\n",
    "f=int(input(\"Enter a number:\"))\n",
    "fact(f)"
   ]
  },
  {
   "cell_type": "code",
   "execution_count": 26,
   "id": "75aea65a",
   "metadata": {},
   "outputs": [
    {
     "data": {
      "text/plain": [
       "[4, 9, 16, 25, 36, 49, 64, 81, 100]"
      ]
     },
     "execution_count": 26,
     "metadata": {},
     "output_type": "execute_result"
    }
   ],
   "source": [
    "#Q3 Create a function to find the square of each element in a given list.\n",
    "\n",
    "def sqr():\n",
    "    sq=0\n",
    "    lists1=[]\n",
    "    for i in lists:\n",
    "        sq=i*i\n",
    "        lists1.append(sq)\n",
    "    return lists1\n",
    "lists=[2,3,4,5,6,7,8,9,10]\n",
    "sqr()"
   ]
  },
  {
   "cell_type": "code",
   "execution_count": 27,
   "id": "5970d2c1",
   "metadata": {},
   "outputs": [
    {
     "name": "stdout",
     "output_type": "stream",
     "text": [
      "Enter an integer:58\n"
     ]
    },
    {
     "data": {
      "text/plain": [
       "'Even'"
      ]
     },
     "execution_count": 27,
     "metadata": {},
     "output_type": "execute_result"
    }
   ],
   "source": [
    "#Q4 Write a function to check if a number is even or odd and return \"Even\" or \"Odd\" accordingly.\n",
    "\n",
    "def evenodd():\n",
    "    if n==0:\n",
    "        return \"Zero\"\n",
    "    elif n%2==0:\n",
    "        return \"Even\"\n",
    "    else:\n",
    "        return \"Odd\"\n",
    "n=int(input(\"Enter an integer:\"))\n",
    "evenodd()"
   ]
  },
  {
   "cell_type": "code",
   "execution_count": 29,
   "id": "0a602de2",
   "metadata": {},
   "outputs": [
    {
     "name": "stdout",
     "output_type": "stream",
     "text": [
      "Enter the base:45\n",
      "Enter the height:36\n",
      "The are of trianle: 810.0 cm^2\n"
     ]
    }
   ],
   "source": [
    "#Q5 Calculate the area of a triangle given its base and height using a function.\n",
    "\n",
    "def triarea():\n",
    "    return (print('The are of trianle:',1/2*b*h,\"cm^2\"))\n",
    "b=float(input(\"Enter the base:\"))\n",
    "h=float(input(\"Enter the height:\"))\n",
    "triarea()"
   ]
  },
  {
   "cell_type": "code",
   "execution_count": 30,
   "id": "88444bfc",
   "metadata": {},
   "outputs": [
    {
     "data": {
      "text/plain": [
       "[6, 7, 8, 9, 10]"
      ]
     },
     "execution_count": 30,
     "metadata": {},
     "output_type": "execute_result"
    }
   ],
   "source": [
    "#Q6 Create a function that takes two list and returns their intersection (common elements).\n",
    "\n",
    "def inter():\n",
    "    list3=[]\n",
    "    for i in list1:\n",
    "        for j in list2:\n",
    "            if i==j:\n",
    "                list3.append(i)\n",
    "    return list3\n",
    "list1=[1,2,3,4,5,6,7,8,9,10]\n",
    "list2=[6,7,8,9,10,11,12,13,14]\n",
    "inter()"
   ]
  },
  {
   "cell_type": "code",
   "execution_count": 31,
   "id": "86644a56",
   "metadata": {},
   "outputs": [
    {
     "name": "stdout",
     "output_type": "stream",
     "text": [
      "Enter a year:2003\n"
     ]
    },
    {
     "data": {
      "text/plain": [
       "'Not Leap Year'"
      ]
     },
     "execution_count": 31,
     "metadata": {},
     "output_type": "execute_result"
    }
   ],
   "source": [
    "#Q7 Implement a function to check if a given year is a leap year or not.\n",
    "\n",
    "def leap():\n",
    "    if year%400==0 and year%100==0: #check if its a century year and its leap\n",
    "        return \"Leap Year\"\n",
    "    elif year%4==0 and year%100!=0: #check if not a century year but it is a leap\n",
    "        return \"Leap Year\"\n",
    "    else:\n",
    "        return \"Not Leap Year\"\n",
    "year=int(input(\"Enter a year:\"))\n",
    "leap()"
   ]
  },
  {
   "cell_type": "code",
   "execution_count": 32,
   "id": "7446acb1",
   "metadata": {},
   "outputs": [
    {
     "name": "stdout",
     "output_type": "stream",
     "text": [
      "Enter a number to form multiplication table:46\n",
      "46 x 1 = 46\n",
      "46 x 2 = 92\n",
      "46 x 3 = 138\n",
      "46 x 4 = 184\n",
      "46 x 5 = 230\n",
      "46 x 6 = 276\n",
      "46 x 7 = 322\n",
      "46 x 8 = 368\n",
      "46 x 9 = 414\n",
      "46 x 10 = 460\n"
     ]
    }
   ],
   "source": [
    "#Q8 Create a function that takes a number as input and prints its multiplication table.\n",
    "\n",
    "def mul():\n",
    "    for i in range(1,11):\n",
    "        print(f'{n} x {i} = {n*i}')\n",
    "n=int(input(\"Enter a number to form multiplication table:\"))\n",
    "mul()"
   ]
  },
  {
   "cell_type": "code",
   "execution_count": null,
   "id": "c2543733",
   "metadata": {},
   "outputs": [],
   "source": []
  },
  {
   "cell_type": "code",
   "execution_count": 41,
   "id": "d4f1f81e",
   "metadata": {},
   "outputs": [
    {
     "name": "stdout",
     "output_type": "stream",
     "text": [
      "sum of all positive numbers: 62\n"
     ]
    }
   ],
   "source": [
    "#Given a list of numbers, create a function to find the sum of all positive numbers.\n",
    "\n",
    "\n",
    "def sum():\n",
    "    s=0\n",
    "    for i in n1:\n",
    "        if i>=0:\n",
    "            s=s+i\n",
    "    print('sum of all positive numbers:',s)\n",
    "n1=[11,31,2,-4,3,-11,15]\n",
    "\n",
    "sum()"
   ]
  },
  {
   "cell_type": "code",
   "execution_count": 42,
   "id": "444c3968",
   "metadata": {},
   "outputs": [
    {
     "name": "stdout",
     "output_type": "stream",
     "text": [
      "[2, 3, 4, 5]\n",
      "[4, 9, 16, 25]\n"
     ]
    }
   ],
   "source": [
    "#Create a function to find the square of a each element in a given list.\n",
    "\n",
    "def sq():\n",
    "    s=0\n",
    "    for i in n2:\n",
    "        if i>=0:\n",
    "            i=i**2\n",
    "            n3.append(i)\n",
    "    print(n2)\n",
    "    print(n3)\n",
    "n2=[2,3,4,5]\n",
    "n3=[]\n",
    "\n",
    "sq()"
   ]
  },
  {
   "cell_type": "code",
   "execution_count": 46,
   "id": "8062f239",
   "metadata": {},
   "outputs": [
    {
     "name": "stdout",
     "output_type": "stream",
     "text": [
      "Enter number:45\n",
      "odd\n"
     ]
    }
   ],
   "source": [
    "#Write a function to check if a number is even or odd and return \"Even\" or \"Odd\" accordingly.\n",
    "\n",
    "def eo(x):\n",
    "    print('Even') if x%2==0 else print('odd')\n",
    "x=int(input('Enter number:'))\n",
    "eo(x)"
   ]
  },
  {
   "cell_type": "code",
   "execution_count": 47,
   "id": "704a8c85",
   "metadata": {},
   "outputs": [
    {
     "name": "stdout",
     "output_type": "stream",
     "text": [
      "Enter base of triangle in cm: 45\n",
      "Enter height of triangle in cm: 2\n",
      "Base:  45\n",
      "Height:  2\n",
      "Area of Triangle:  45.0  cm2\n"
     ]
    }
   ],
   "source": [
    "#Calculate the area of a triangle given its base and height using a function.\n",
    "\n",
    "def tri(b,h):\n",
    "    ar=0.5*b*h\n",
    "    print('Base: ',b)\n",
    "    print('Height: ',h)\n",
    "    print('Area of Triangle: ',ar,' cm2')\n",
    "b=int(input('Enter base of triangle in cm: '))\n",
    "h=int(input('Enter height of triangle in cm: '))\n",
    "tri(b,h)"
   ]
  },
  {
   "cell_type": "code",
   "execution_count": 50,
   "id": "7bd745e8",
   "metadata": {},
   "outputs": [
    {
     "name": "stdout",
     "output_type": "stream",
     "text": [
      "1st list:  [2, 3, 4, 5, 11, 14]\n",
      "2nd list:  [1, 2, 4, 11, 30, 55]\n",
      "Their Intersection:\n",
      "[2, 4, 11]\n"
     ]
    }
   ],
   "source": [
    "#Create a function that takes two list and returns their intersection.\n",
    "\n",
    "def inter():\n",
    "    for i in b1:\n",
    "        for j in b2:\n",
    "            if i==j:\n",
    "                b3.append(i)\n",
    "    print('1st list: ',b1)\n",
    "    print('2nd list: ',b2)\n",
    "    print('Their Intersection:')\n",
    "    print(b3)\n",
    "b1=[2,3,4,5,11,14]\n",
    "b2=[1,2,4,11,30,55]\n",
    "b3=[]\n",
    "inter()"
   ]
  },
  {
   "cell_type": "code",
   "execution_count": 53,
   "id": "1f3ee6c4",
   "metadata": {},
   "outputs": [
    {
     "name": "stdout",
     "output_type": "stream",
     "text": [
      "Enter year: 2008\n",
      "Leap year\n"
     ]
    }
   ],
   "source": [
    "#Implement a function to check if a given year is leap year or not.\n",
    "\n",
    "def leap(y):\n",
    "    if y%4==0 and y%100!=0 or y%4==0:\n",
    "        print('Leap year')\n",
    "    else:\n",
    "        print('Not leap year')\n",
    "y=int(input('Enter year: '))\n",
    "leap(y)"
   ]
  },
  {
   "cell_type": "code",
   "execution_count": 54,
   "id": "89a89d9d",
   "metadata": {},
   "outputs": [
    {
     "name": "stdout",
     "output_type": "stream",
     "text": [
      "Enter number:78\n",
      "78 X 1 = 78\n",
      "78 X 2 = 156\n",
      "78 X 3 = 234\n",
      "78 X 4 = 312\n",
      "78 X 5 = 390\n",
      "78 X 6 = 468\n",
      "78 X 7 = 546\n",
      "78 X 8 = 624\n",
      "78 X 9 = 702\n",
      "78 X 10 = 780\n"
     ]
    }
   ],
   "source": [
    "#Create a function that takes a number as input and prints its multiplication table.\n",
    "\n",
    "def mul(n):\n",
    "    for i in range(1,11):\n",
    "        print(n, 'X',i,'=',n*i)\n",
    "n=int(input('Enter number:'))\n",
    "mul(n)"
   ]
  },
  {
   "cell_type": "code",
   "execution_count": null,
   "id": "3a8fd4b8",
   "metadata": {},
   "outputs": [],
   "source": []
  },
  {
   "cell_type": "code",
   "execution_count": 8,
   "id": "4f698ebe",
   "metadata": {},
   "outputs": [
    {
     "name": "stdout",
     "output_type": "stream",
     "text": [
      "Enter a string: The quick brown fox jump over the lazy dog\n",
      "'T': 1\n",
      "'h': 2\n",
      "'e': 3\n",
      "' ': 8\n",
      "'q': 1\n",
      "'u': 2\n",
      "'i': 1\n",
      "'c': 1\n",
      "'k': 1\n",
      "'b': 1\n",
      "'r': 2\n",
      "'o': 4\n",
      "'w': 1\n",
      "'n': 1\n",
      "'f': 1\n",
      "'x': 1\n",
      "'j': 1\n",
      "'m': 1\n",
      "'p': 1\n",
      "'v': 1\n",
      "'t': 1\n",
      "'l': 1\n",
      "'a': 1\n",
      "'z': 1\n",
      "'y': 1\n",
      "'d': 1\n",
      "'g': 1\n"
     ]
    }
   ],
   "source": [
    "# Write a Python program that counts the number of occurrences of each character in a given string using a dictionary.\n",
    "def count_characters(input_string):\n",
    "    char_count = {}  # Initialize an empty dictionary to store character counts\n",
    "    \n",
    "    for char in input_string:\n",
    "        if char in char_count:\n",
    "            char_count[char] += 1  # If character exists in dictionary, increment its count\n",
    "        else:\n",
    "            char_count[char] = 1   # If character doesn't exist, add it to the dictionary with count 1\n",
    "            \n",
    "    return char_count\n",
    "\n",
    "# Get input from the user\n",
    "input_string = input(\"Enter a string: \")\n",
    "\n",
    "# Count the occurrences of each character\n",
    "character_counts = count_characters(input_string)\n",
    "\n",
    "# Display the results\n",
    "for char, count in character_counts.items():\n",
    "    print(f\"'{char}': {count}\")\n"
   ]
  },
  {
   "cell_type": "code",
   "execution_count": 16,
   "id": "2e37a0c0",
   "metadata": {},
   "outputs": [
    {
     "name": "stdout",
     "output_type": "stream",
     "text": [
      "[{'name': 'Ajinkya', 'age': 20}, {'name': 'Harsh', 'age': 40}, {'name': 'Radhe', 'age': 30}, {'name': 'Shyam', 'age': 25}]\n"
     ]
    }
   ],
   "source": [
    "# Create a function that takes a list of dicitonaries and sorts them based on a specified key.\n",
    "def sort_dicts_by_key(dicts_list, sort_key):\n",
    "    sorted_list = sorted(dicts_list, key=lambda x: x.get(sort_key, 0))\n",
    "    return sorted_list\n",
    "data = [\n",
    "    {\"name\": \"Shyam\", \"age\": 25},\n",
    "    {\"name\": \"Radhe\", \"age\": 30},\n",
    "    {\"name\": \"Ajinkya\", \"age\": 20},\n",
    "    {\"name\":\"Harsh\",\"age\":40}\n",
    "]\n",
    "\n",
    "sorted_data = sort_dicts_by_key(data, \"name\")\n",
    "print(sorted_data)"
   ]
  },
  {
   "cell_type": "code",
   "execution_count": 1,
   "id": "635dd8a7",
   "metadata": {},
   "outputs": [
    {
     "ename": "TypeError",
     "evalue": "Book() takes no arguments",
     "output_type": "error",
     "traceback": [
      "\u001b[1;31m---------------------------------------------------------------------------\u001b[0m",
      "\u001b[1;31mTypeError\u001b[0m                                 Traceback (most recent call last)",
      "\u001b[1;32m~\\AppData\\Local\\Temp\\ipykernel_13704\\3127069610.py\u001b[0m in \u001b[0;36m<module>\u001b[1;34m\u001b[0m\n\u001b[0;32m     47\u001b[0m             \u001b[0mprint\u001b[0m\u001b[1;33m(\u001b[0m\u001b[1;34m'Please enter a valid book number.'\u001b[0m\u001b[1;33m)\u001b[0m\u001b[1;33m\u001b[0m\u001b[1;33m\u001b[0m\u001b[0m\n\u001b[0;32m     48\u001b[0m \u001b[1;33m\u001b[0m\u001b[0m\n\u001b[1;32m---> 49\u001b[1;33m \u001b[0mmain\u001b[0m\u001b[1;33m(\u001b[0m\u001b[1;33m)\u001b[0m\u001b[1;33m\u001b[0m\u001b[1;33m\u001b[0m\u001b[0m\n\u001b[0m",
      "\u001b[1;32m~\\AppData\\Local\\Temp\\ipykernel_13704\\3127069610.py\u001b[0m in \u001b[0;36mmain\u001b[1;34m()\u001b[0m\n\u001b[0;32m     16\u001b[0m \u001b[1;33m\u001b[0m\u001b[0m\n\u001b[0;32m     17\u001b[0m \u001b[1;32mdef\u001b[0m \u001b[0mmain\u001b[0m\u001b[1;33m(\u001b[0m\u001b[1;33m)\u001b[0m\u001b[1;33m:\u001b[0m\u001b[1;33m\u001b[0m\u001b[1;33m\u001b[0m\u001b[0m\n\u001b[1;32m---> 18\u001b[1;33m     \u001b[0mbook1\u001b[0m \u001b[1;33m=\u001b[0m \u001b[0mBook\u001b[0m\u001b[1;33m(\u001b[0m\u001b[1;34m'Ikigai'\u001b[0m\u001b[1;33m,\u001b[0m \u001b[1;34m'Héctor García'\u001b[0m\u001b[1;33m,\u001b[0m \u001b[1;36m2016\u001b[0m\u001b[1;33m,\u001b[0m \u001b[1;34m'Self-Help'\u001b[0m\u001b[1;33m)\u001b[0m\u001b[1;33m\u001b[0m\u001b[1;33m\u001b[0m\u001b[0m\n\u001b[0m\u001b[0;32m     19\u001b[0m     \u001b[0mbook2\u001b[0m \u001b[1;33m=\u001b[0m \u001b[0mBook\u001b[0m\u001b[1;33m(\u001b[0m\u001b[1;34m'Train Dreams'\u001b[0m\u001b[1;33m,\u001b[0m \u001b[1;34m'Denis Johnson'\u001b[0m\u001b[1;33m,\u001b[0m \u001b[1;36m2011\u001b[0m\u001b[1;33m,\u001b[0m \u001b[1;34m'Historical Fiction'\u001b[0m\u001b[1;33m)\u001b[0m\u001b[1;33m\u001b[0m\u001b[1;33m\u001b[0m\u001b[0m\n\u001b[0;32m     20\u001b[0m     \u001b[0mbook3\u001b[0m \u001b[1;33m=\u001b[0m \u001b[0mBook\u001b[0m\u001b[1;33m(\u001b[0m\u001b[1;34m'I am Malala'\u001b[0m\u001b[1;33m,\u001b[0m \u001b[1;34m'Christina Lamb'\u001b[0m\u001b[1;33m,\u001b[0m \u001b[1;36m2013\u001b[0m\u001b[1;33m,\u001b[0m \u001b[1;34m'Documentary'\u001b[0m\u001b[1;33m)\u001b[0m\u001b[1;33m\u001b[0m\u001b[1;33m\u001b[0m\u001b[0m\n",
      "\u001b[1;31mTypeError\u001b[0m: Book() takes no arguments"
     ]
    }
   ],
   "source": [
    "class Book:\n",
    "    def __init__(self, name, author, year, genre):\n",
    "        self.name = name\n",
    "        self.author = author\n",
    "        self.year = year\n",
    "        self.genre = genre\n",
    "        \n",
    "    def details(self):\n",
    "        print(f'\\nBook Name: {self.name}')\n",
    "        print(f'Book Author: {self.author}')\n",
    "        print(f'Published in the year: {self.year}')\n",
    "        print(f'Book Genre: {self.genre}')\n",
    "        \n",
    "    def exit_library(self):\n",
    "        print('Thanks for visiting the library. Come back again.')\n",
    "\n",
    "def main():\n",
    "    book1 = Book('Ikigai', 'Héctor García', 2016, 'Self-Help')\n",
    "    book2 = Book('Train Dreams', 'Denis Johnson', 2011, 'Historical Fiction')\n",
    "    book3 = Book('I am Malala', 'Christina Lamb', 2013, 'Documentary')\n",
    "    book4 = Book('Dune', 'Frank Herbert', 1965, 'Sci-fi')\n",
    "\n",
    "    while True:\n",
    "        print('\\nLibrary - ')\n",
    "        print('1. Ikigai')\n",
    "        print('2. Train Dreams')\n",
    "        print('3. I am Malala')\n",
    "        print('4. Dune')\n",
    "        print('5. Exit Library')\n",
    "            \n",
    "        try:\n",
    "            option = int(input('\\nChoose Book 1/2/3/4: '))\n",
    "            if option == 1:\n",
    "                book1.details()\n",
    "            elif option == 2:\n",
    "                book2.details()\n",
    "            elif option == 3:\n",
    "                book3.details()\n",
    "            elif option == 4:\n",
    "                book4.details()\n",
    "            elif option == 5:\n",
    "                book1.exit_library()\n",
    "                break  \n",
    "            else:\n",
    "                print('Please enter a valid book number.')\n",
    "        except ValueError:\n",
    "            print('Please enter a valid book number.')\n",
    "\n",
    "main()"
   ]
  },
  {
   "cell_type": "code",
   "execution_count": null,
   "id": "1eab8be3",
   "metadata": {},
   "outputs": [],
   "source": []
  }
 ],
 "metadata": {
  "kernelspec": {
   "display_name": "Python 3 (ipykernel)",
   "language": "python",
   "name": "python3"
  },
  "language_info": {
   "codemirror_mode": {
    "name": "ipython",
    "version": 3
   },
   "file_extension": ".py",
   "mimetype": "text/x-python",
   "name": "python",
   "nbconvert_exporter": "python",
   "pygments_lexer": "ipython3",
   "version": "3.9.13"
  }
 },
 "nbformat": 4,
 "nbformat_minor": 5
}
