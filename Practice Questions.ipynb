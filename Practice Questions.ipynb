{
 "cells": [
  {
   "cell_type": "markdown",
   "id": "0e413f24",
   "metadata": {},
   "source": [
    "# Practice Questions(Type-1). \n",
    "\n",
    "* __Write a Python program to calculate the area of rectangle given its length and width from user input.__\n",
    "* __Create a program that takes a user's name and age as input and prints a greeting message.__\n",
    "* __Write a program to check if a number is even or odd.__\n",
    "* __Given a list of numbers, find the maximum and minimum values.__\n",
    "* __Create a Python function to check if a given string is a palindrome.__\n",
    "* __Calculate the compound interest for a given principal amount, interest rate and time period.__\n",
    "* __Write a python program that converts a given number of days into years, week, and days.__\n",
    "* __Given a list of integers, find the sum of all positive numbers.__ [45,78,90,-78,45,-100]\n",
    "* __Create a program that takes a sentence as input and counts the nukmber of words in it.__\n",
    "* __Implement a program that swaps the values of two variable.__\n",
    "\n",
    "\n",
    "\n",
    "# Practice Question(Type-2).\n",
    "\n",
    "* __Given a list of numbers, find the sum and average of the number.__\n",
    "* __Create a program that takes a temperature in Celsius and converts it to Kelvin.__\n",
    "* __Create a function to reverse a given string.__\n",
    "* __Given a list of names, concatenate them into a singel separated by spaces.__\n",
    "* __Write a Python program to check if a given string is a pangram(contains all letters of the alphabet.)__\n",
    "* __Calculate the area and circumference of a circle given its radius.__\n",
    "* __Implement a program that convers a given number of minutes into hours and minutes.__\n",
    "* __Create a function to count the number of vowels in a given string.__\n",
    "* __Write a program to check if a number is prime or not.__\n",
    "\n",
    "\n",
    "# Practice Question(Type-3).(Loops)\n",
    "\n",
    " * __Create a program that takes a year as input and checks if it is a leap year or not.__\n",
    " * __Given a list of integers, find all the even numbers and store them in a new list.__\n",
    " * __Write a Python program to check if a given number is a prime or not.__\n",
    " * __Create a program that generates the Fibonacci sequence up to a given number of terms.__\n",
    " * __Given a list of names, print all the names starting with the letters \"A\"__\n",
    " * __Implement a program that prints the multiplication table of a given number.__\n",
    " * __Write a program that calculates the factorial of given numbers.__\n",
    " * __Create a loop that prints all prime numbers between 1 and 50.__\n",
    " * __Given a list of words, count the number of words with more than five charactes.__\n",
    " * __Calculate the sum of digits of a given number.__"
   ]
  },
  {
   "cell_type": "code",
   "execution_count": 3,
   "id": "8ca8eb53",
   "metadata": {},
   "outputs": [
    {
     "name": "stdout",
     "output_type": "stream",
     "text": [
      "Enter the length in cm:45\n",
      "Enter the breadth in cm:25\n",
      "Area of Rectangle is 1125 cm^2\n"
     ]
    }
   ],
   "source": [
    "#Q1 rectangle area\n",
    "l=int(input(\"Enter the length in cm:\"))\n",
    "b=int(input(\"Enter the breadth in cm:\"))\n",
    "\n",
    "print(\"Area of Rectangle is\",l*b,'cm^2')"
   ]
  },
  {
   "cell_type": "code",
   "execution_count": 4,
   "id": "2cd7090f",
   "metadata": {},
   "outputs": [
    {
     "name": "stdout",
     "output_type": "stream",
     "text": [
      "Enter your name:Geeta\n",
      "Enter your age:25\n",
      "Hello there, Geeta, your age is 25\n"
     ]
    }
   ],
   "source": [
    "#Q2 take user name and age, and print greeting message\n",
    "name=input(\"Enter your name:\")\n",
    "age=input(\"Enter your age:\")\n",
    "\n",
    "print(f'Hello there, {name}, your age is {age}')"
   ]
  },
  {
   "cell_type": "code",
   "execution_count": 5,
   "id": "1c5b3dcd",
   "metadata": {},
   "outputs": [
    {
     "name": "stdout",
     "output_type": "stream",
     "text": [
      "Enter a number:45\n",
      "It is an odd number.\n"
     ]
    }
   ],
   "source": [
    "#Q3 WAP to check if a number is even or odd\n",
    "n=int(input(\"Enter a number:\"))\n",
    "\n",
    "if n%2==0 and n!=0:\n",
    "    print(\"It is an even number.\")\n",
    "elif n==0:\n",
    "    print(\"It is zero.\")\n",
    "else:\n",
    "    print(\"It is an odd number.\")"
   ]
  },
  {
   "cell_type": "code",
   "execution_count": 6,
   "id": "e8b6ee78",
   "metadata": {},
   "outputs": [
    {
     "name": "stdout",
     "output_type": "stream",
     "text": [
      "Max of list is: 50 \n",
      "Min of list is: 5\n"
     ]
    }
   ],
   "source": [
    "#Q4 Find max and min of a list\n",
    "list=[10,20,40,5,7,50,25]\n",
    "print(\"Max of list is:\",max(list),'\\nMin of list is:',min(list))"
   ]
  },
  {
   "cell_type": "code",
   "execution_count": 9,
   "id": "4c2390dd",
   "metadata": {},
   "outputs": [
    {
     "name": "stdout",
     "output_type": "stream",
     "text": [
      "Enter something:mom\n",
      "It is a palindrome.\n"
     ]
    }
   ],
   "source": [
    "#Q5 Check if string is palindrome\n",
    "string=input(\"Enter something:\")\n",
    "rev=''\n",
    "for i in string:\n",
    "    rev=i+rev\n",
    "if rev==string:\n",
    "    print(\"It is a palindrome.\")\n",
    "else:\n",
    "    print(\"It is not a palindrome.\")"
   ]
  },
  {
   "cell_type": "code",
   "execution_count": 11,
   "id": "0a1a2bd4",
   "metadata": {},
   "outputs": [
    {
     "name": "stdout",
     "output_type": "stream",
     "text": [
      "Enter the principle amount:300\n",
      "Enter the interest rate:2\n",
      "Enter the time period:100\n",
      "Compound Interest is: 154613256219603399310938338929686381810632256600300\n"
     ]
    }
   ],
   "source": [
    "#Q6 calculate compound interest of given principle amt, interest rate and time\n",
    "p=int(input(\"Enter the principle amount:\"))\n",
    "r=int(input(\"Enter the interest rate:\"))\n",
    "t=int(input(\"Enter the time period:\"))\n",
    "i=p*(1+r)**t\n",
    "print(\"Compound Interest is:\",i)"
   ]
  },
  {
   "cell_type": "code",
   "execution_count": 12,
   "id": "98335b28",
   "metadata": {},
   "outputs": [
    {
     "name": "stdout",
     "output_type": "stream",
     "text": [
      "Enter the amount of days:500\n",
      "Days: 500 \n",
      "Week: 72 \n",
      "Year: 1\n"
     ]
    }
   ],
   "source": [
    "#Q7 input days and print year week and day\n",
    "day=int(input(\"Enter the amount of days:\"))\n",
    "year=0\n",
    "week=0\n",
    "for i in range(day+1):\n",
    "    if i%7==0:\n",
    "        week+=1\n",
    "    elif i%365==0:\n",
    "        year+=1\n",
    "    else:\n",
    "        pass\n",
    "print(\"Days:\",day,'\\nWeek:',week,'\\nYear:',year)"
   ]
  },
  {
   "cell_type": "code",
   "execution_count": 13,
   "id": "319f6dc4",
   "metadata": {},
   "outputs": [
    {
     "name": "stdout",
     "output_type": "stream",
     "text": [
      "Sum of all positive integers: 360\n"
     ]
    }
   ],
   "source": [
    "#Q8 given list of integers, find sum of all positive integers\n",
    "lists=[-1,20,-30,40,-10,-323,200,100,-400]\n",
    "s=0\n",
    "for i in lists:\n",
    "    if i>0:\n",
    "        s+=i\n",
    "    else:\n",
    "        pass\n",
    "print(\"Sum of all positive integers:\",s)"
   ]
  },
  {
   "cell_type": "code",
   "execution_count": 14,
   "id": "a7e1bcf3",
   "metadata": {},
   "outputs": [
    {
     "name": "stdout",
     "output_type": "stream",
     "text": [
      "Enter a sentenceThe Quick Brown Fox Jump over the lazy Dog.\n",
      "Number of words in the sentence is: 34\n"
     ]
    }
   ],
   "source": [
    "#Q9 Create a program that takes a sentence as input and counts the number of words in it.\n",
    "sen=input(\"Enter a sentence\")\n",
    "w=0\n",
    "for i in sen:\n",
    "    if i.isalpha()==True:\n",
    "        w+=1\n",
    "    else:\n",
    "        pass\n",
    "print(\"Number of words in the sentence is:\",w)"
   ]
  },
  {
   "cell_type": "code",
   "execution_count": 16,
   "id": "b02ddd74",
   "metadata": {},
   "outputs": [
    {
     "name": "stdout",
     "output_type": "stream",
     "text": [
      "Enter first number:45\n",
      "Enter second number:65\n",
      "First number: 45\n",
      "Second number: 65\n",
      "After Swapping:\n",
      "First number: 65\n",
      "Second number: 45\n"
     ]
    }
   ],
   "source": [
    "#Q10 Implement a program that swaps the values of two variables.\n",
    "a=int(input(\"Enter first number:\"))\n",
    "b=int(input(\"Enter second number:\"))\n",
    "print(f\"First number: {a}\\nSecond number: {b}\")\n",
    "#using third variable\n",
    "c=a\n",
    "a=b\n",
    "b=c\n",
    "print(f\"After Swapping:\\nFirst number: {a}\\nSecond number: {b}\")"
   ]
  },
  {
   "cell_type": "code",
   "execution_count": 20,
   "id": "2e9d8c6b",
   "metadata": {},
   "outputs": [
    {
     "name": "stdout",
     "output_type": "stream",
     "text": [
      "No\n"
     ]
    }
   ],
   "source": [
    "# Write a Python program to check if a given string is a pangram(contains all letters of the alphabet.)\n",
    "import string\n",
    " \n",
    "def ispangram(str):\n",
    "    alphabet = \"abcdefghijklmnopqrstuvwxyz\"\n",
    "    for char in alphabet:\n",
    "        if char not in str.lower():\n",
    "            return False\n",
    " \n",
    "    return True\n",
    "     \n",
    "# Driver code\n",
    "string = '456'\n",
    "if(ispangram(string) == True):\n",
    "    print(\"Yes\")\n",
    "else:\n",
    "    print(\"No\")"
   ]
  },
  {
   "cell_type": "code",
   "execution_count": null,
   "id": "0561c8b1",
   "metadata": {},
   "outputs": [],
   "source": []
  }
 ],
 "metadata": {
  "kernelspec": {
   "display_name": "Python 3 (ipykernel)",
   "language": "python",
   "name": "python3"
  },
  "language_info": {
   "codemirror_mode": {
    "name": "ipython",
    "version": 3
   },
   "file_extension": ".py",
   "mimetype": "text/x-python",
   "name": "python",
   "nbconvert_exporter": "python",
   "pygments_lexer": "ipython3",
   "version": "3.9.13"
  }
 },
 "nbformat": 4,
 "nbformat_minor": 5
}
