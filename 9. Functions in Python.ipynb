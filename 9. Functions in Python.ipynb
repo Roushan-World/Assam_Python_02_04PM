{
 "cells": [
  {
   "cell_type": "markdown",
   "id": "1d1e7372",
   "metadata": {},
   "source": [
    "# 9. Functions in Python\n",
    "\n",
    " * __In Python, a function is a group of related statements that performs a specific task.__\n",
    " * __Function help break out program into smaller and modular chunks. * As per our program grows larger and larger, functions make it more organized and manageable.__\n",
    " * __Furthermore, it avoids repetition and makes the code reusable.__\n",
    " * __There are two types of functions.__\n",
    " * __Pre-defined functions__\n",
    " * __User defined functions.__\n",
    " * __In Python a function is defined using the \"def\" keyword followed by the function name and parentheses().__\n",
    " * __Keyword def that marks the start of the function hearder.__\n",
    " * __A function name to uniquely identity the function.__\n",
    " * __Function naming follows the same rules of writing identifiers in Python.__\n",
    " * __Parameters (arguments) through which we pass values to a function. They are optional.__\n",
    " * __A colon(:) to mark the end of the function header.__\n",
    " * __Optional documentation string (docstring) to describe what the function does.__\n",
    " * __One or more valid python statements that make up the function body.__\n",
    " * __Statement must have the same identation level (usually 4 spaces).__\n",
    " * __An Optional return statement to return a value from the functions.__"
   ]
  },
  {
   "cell_type": "code",
   "execution_count": 1,
   "id": "b198e8fb",
   "metadata": {},
   "outputs": [
    {
     "name": "stdout",
     "output_type": "stream",
     "text": [
      "If you make the above oprations is display with 10, the result will be 2,18,80,1.25\n"
     ]
    }
   ],
   "source": [
    "def process(x):  #< x------------ argument\n",
    "    y1=x-8\n",
    "    y2=x+8\n",
    "    y3=x*8\n",
    "    y4=x/8\n",
    "    print(f'If you make the above oprations is display with {x}, the result will be {y1},{y2},{y3},{y4}')\n",
    "    \n",
    "process(10)   #<------------- paramegters"
   ]
  },
  {
   "cell_type": "code",
   "execution_count": 2,
   "id": "d621c311",
   "metadata": {},
   "outputs": [
    {
     "name": "stdout",
     "output_type": "stream",
     "text": [
      "If you make the above oprations is display with 20, the result will be 12,28,160,2.5\n"
     ]
    }
   ],
   "source": [
    "process(20)"
   ]
  },
  {
   "cell_type": "code",
   "execution_count": 3,
   "id": "6f3a8aa3",
   "metadata": {},
   "outputs": [
    {
     "name": "stdout",
     "output_type": "stream",
     "text": [
      "If you make the above oprations is display with 100, the result will be 92,108,800,12.5\n"
     ]
    }
   ],
   "source": [
    "process(100)"
   ]
  },
  {
   "cell_type": "code",
   "execution_count": 4,
   "id": "1be01767",
   "metadata": {},
   "outputs": [
    {
     "name": "stdout",
     "output_type": "stream",
     "text": [
      "If you make the above oprations is display with 300, the result will be 292,308,2400,37.5\n"
     ]
    }
   ],
   "source": [
    "process(300)"
   ]
  },
  {
   "cell_type": "code",
   "execution_count": 5,
   "id": "18d2b5a4",
   "metadata": {},
   "outputs": [
    {
     "name": "stdout",
     "output_type": "stream",
     "text": [
      "Help on function process in module __main__:\n",
      "\n",
      "process(x)\n",
      "\n"
     ]
    }
   ],
   "source": [
    "help(process)"
   ]
  },
  {
   "cell_type": "code",
   "execution_count": 7,
   "id": "b7b8a4e1",
   "metadata": {},
   "outputs": [
    {
     "name": "stdout",
     "output_type": "stream",
     "text": [
      "If you make the above oprations is display with 10, the result will be 2,18,80,1.25\n"
     ]
    }
   ],
   "source": [
    "process(10)"
   ]
  },
  {
   "cell_type": "markdown",
   "id": "ed4d8acb",
   "metadata": {},
   "source": [
    "# Variables\n",
    "\n",
    " * __The input to a function is called a formal parameter.__\n",
    " * __A variable that is delcared inside a function is called a local variable.__\n",
    " * __The parameter only exists within the function (i.e. the point where the function starts and stops).__\n",
    " * __A variable that is declared outside a function definition is a global variable, and its value is accessible and modifiable thoughout the program.__"
   ]
  },
  {
   "cell_type": "code",
   "execution_count": 9,
   "id": "bf852583",
   "metadata": {},
   "outputs": [
    {
     "name": "stdout",
     "output_type": "stream",
     "text": [
      "If you make the above operation with 10, the result will be 257.757\n"
     ]
    }
   ],
   "source": [
    "# Define a function\n",
    "d=0\n",
    "\n",
    "def function(x):\n",
    "    y=3.14\n",
    "    z= 3+25*x+1.617+y\n",
    "    print(f'If you make the above operation with {x}, the result will be {z}')\n",
    "    \n",
    "function(10)"
   ]
  },
  {
   "cell_type": "markdown",
   "id": "d99afb90",
   "metadata": {},
   "source": [
    "# Without return statement, the function returns None."
   ]
  },
  {
   "cell_type": "code",
   "execution_count": 20,
   "id": "c480250b",
   "metadata": {},
   "outputs": [
    {
     "name": "stdout",
     "output_type": "stream",
     "text": [
      "Hello world\n",
      "Khriesezo\n"
     ]
    }
   ],
   "source": [
    "def msg1():\n",
    "    print('Hello world')\n",
    "def msg2():\n",
    "    print('Khriesezo')\n",
    "    return None\n",
    "\n",
    "msg1()\n",
    "msg2()"
   ]
  },
  {
   "cell_type": "code",
   "execution_count": 21,
   "id": "9e775da3",
   "metadata": {},
   "outputs": [
    {
     "name": "stdout",
     "output_type": "stream",
     "text": [
      "Hello world\n",
      "None\n"
     ]
    }
   ],
   "source": [
    "print(msg1())\n"
   ]
  },
  {
   "cell_type": "code",
   "execution_count": 22,
   "id": "bc9fe846",
   "metadata": {},
   "outputs": [
    {
     "name": "stdout",
     "output_type": "stream",
     "text": [
      "Khriesezo\n",
      "None\n"
     ]
    }
   ],
   "source": [
    "print(msg2())"
   ]
  },
  {
   "cell_type": "markdown",
   "id": "f0830c6d",
   "metadata": {},
   "source": [
    "# Concatenation in functions"
   ]
  },
  {
   "cell_type": "code",
   "execution_count": 25,
   "id": "1ed2a1bf",
   "metadata": {},
   "outputs": [
    {
     "data": {
      "text/plain": [
       "'Harsh Gupta'"
      ]
     },
     "execution_count": 25,
     "metadata": {},
     "output_type": "execute_result"
    }
   ],
   "source": [
    "# Define a function\n",
    "\n",
    "def string(x,y):\n",
    "    return x+y\n",
    "string('Harsh',' Gupta')"
   ]
  },
  {
   "cell_type": "code",
   "execution_count": 26,
   "id": "95f9f454",
   "metadata": {},
   "outputs": [
    {
     "data": {
      "text/plain": [
       "150"
      ]
     },
     "execution_count": 26,
     "metadata": {},
     "output_type": "execute_result"
    }
   ],
   "source": [
    "string(50,100)"
   ]
  },
  {
   "cell_type": "code",
   "execution_count": 27,
   "id": "859cdf2c",
   "metadata": {},
   "outputs": [
    {
     "data": {
      "text/plain": [
       "620.72"
      ]
     },
     "execution_count": 27,
     "metadata": {},
     "output_type": "execute_result"
    }
   ],
   "source": [
    "string(120.36,500.36)"
   ]
  },
  {
   "cell_type": "code",
   "execution_count": 35,
   "id": "fbfa3ee8",
   "metadata": {},
   "outputs": [
    {
     "name": "stdout",
     "output_type": "stream",
     "text": [
      "You should not watch this movie with rating is 5.5\n",
      "You should watch this movie with rating is 9\n"
     ]
    }
   ],
   "source": [
    "# Write a program to print imdb rating if rating is above 8.0 then display you can watch movie in the theater \n",
    "# otherwise rating below 8.0 it display you should not watch this movie.\n",
    "\n",
    "def rating_value(rating=5.5):\n",
    "    if rating<8.0:\n",
    "        return f'You should not watch this movie with rating is {rating}'\n",
    "    else:\n",
    "        return f'You should watch this movie with rating is {rating}'\n",
    "print(rating_value())\n",
    "print(rating_value(9))"
   ]
  },
  {
   "cell_type": "code",
   "execution_count": 37,
   "id": "a6da8b29",
   "metadata": {},
   "outputs": [
    {
     "data": {
      "text/plain": [
       "'You should not watch this movie with rating is 3.0'"
      ]
     },
     "execution_count": 37,
     "metadata": {},
     "output_type": "execute_result"
    }
   ],
   "source": [
    "rating_value(3.0)"
   ]
  },
  {
   "cell_type": "code",
   "execution_count": null,
   "id": "5f2a87a0",
   "metadata": {},
   "outputs": [],
   "source": []
  }
 ],
 "metadata": {
  "kernelspec": {
   "display_name": "Python 3 (ipykernel)",
   "language": "python",
   "name": "python3"
  },
  "language_info": {
   "codemirror_mode": {
    "name": "ipython",
    "version": 3
   },
   "file_extension": ".py",
   "mimetype": "text/x-python",
   "name": "python",
   "nbconvert_exporter": "python",
   "pygments_lexer": "ipython3",
   "version": "3.9.13"
  }
 },
 "nbformat": 4,
 "nbformat_minor": 5
}
