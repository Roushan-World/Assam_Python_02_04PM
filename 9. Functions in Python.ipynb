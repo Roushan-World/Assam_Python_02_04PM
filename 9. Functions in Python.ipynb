{
 "cells": [
  {
   "cell_type": "markdown",
   "id": "1d1e7372",
   "metadata": {},
   "source": [
    "# 9. Functions in Python\n",
    "\n",
    " * __In Python, a function is a group of related statements that performs a specific task.__\n",
    " * __Function help break out program into smaller and modular chunks. * As per our program grows larger and larger, functions make it more organized and manageable.__\n",
    " * __Furthermore, it avoids repetition and makes the code reusable.__\n",
    " * __There are two types of functions.__\n",
    " * __Pre-defined functions__\n",
    " * __User defined functions.__\n",
    " * __In Python a function is defined using the \"def\" keyword followed by the function name and parentheses().__\n",
    " * __Keyword def that marks the start of the function hearder.__\n",
    " * __A function name to uniquely identity the function.__\n",
    " * __Function naming follows the same rules of writing identifiers in Python.__\n",
    " * __Parameters (arguments) through which we pass values to a function. They are optional.__\n",
    " * __A colon(:) to mark the end of the function header.__\n",
    " * __Optional documentation string (docstring) to describe what the function does.__\n",
    " * __One or more valid python statements that make up the function body.__\n",
    " * __Statement must have the same identation level (usually 4 spaces).__\n",
    " * __An Optional return statement to return a value from the functions.__"
   ]
  },
  {
   "cell_type": "code",
   "execution_count": 1,
   "id": "b198e8fb",
   "metadata": {},
   "outputs": [
    {
     "name": "stdout",
     "output_type": "stream",
     "text": [
      "If you make the above oprations is display with 10, the result will be 2,18,80,1.25\n"
     ]
    }
   ],
   "source": [
    "def process(x):  #< x------------ argument\n",
    "    y1=x-8\n",
    "    y2=x+8\n",
    "    y3=x*8\n",
    "    y4=x/8\n",
    "    print(f'If you make the above oprations is display with {x}, the result will be {y1},{y2},{y3},{y4}')\n",
    "    \n",
    "process(10)   #<------------- paramegters"
   ]
  },
  {
   "cell_type": "code",
   "execution_count": 2,
   "id": "d621c311",
   "metadata": {},
   "outputs": [
    {
     "name": "stdout",
     "output_type": "stream",
     "text": [
      "If you make the above oprations is display with 20, the result will be 12,28,160,2.5\n"
     ]
    }
   ],
   "source": [
    "process(20)"
   ]
  },
  {
   "cell_type": "code",
   "execution_count": 3,
   "id": "6f3a8aa3",
   "metadata": {},
   "outputs": [
    {
     "name": "stdout",
     "output_type": "stream",
     "text": [
      "If you make the above oprations is display with 100, the result will be 92,108,800,12.5\n"
     ]
    }
   ],
   "source": [
    "process(100)"
   ]
  },
  {
   "cell_type": "code",
   "execution_count": 4,
   "id": "1be01767",
   "metadata": {},
   "outputs": [
    {
     "name": "stdout",
     "output_type": "stream",
     "text": [
      "If you make the above oprations is display with 300, the result will be 292,308,2400,37.5\n"
     ]
    }
   ],
   "source": [
    "process(300)"
   ]
  },
  {
   "cell_type": "code",
   "execution_count": 5,
   "id": "18d2b5a4",
   "metadata": {},
   "outputs": [
    {
     "name": "stdout",
     "output_type": "stream",
     "text": [
      "Help on function process in module __main__:\n",
      "\n",
      "process(x)\n",
      "\n"
     ]
    }
   ],
   "source": [
    "help(process)"
   ]
  },
  {
   "cell_type": "code",
   "execution_count": 7,
   "id": "b7b8a4e1",
   "metadata": {},
   "outputs": [
    {
     "name": "stdout",
     "output_type": "stream",
     "text": [
      "If you make the above oprations is display with 10, the result will be 2,18,80,1.25\n"
     ]
    }
   ],
   "source": [
    "process(10)"
   ]
  },
  {
   "cell_type": "markdown",
   "id": "ed4d8acb",
   "metadata": {},
   "source": [
    "# Variables\n",
    "\n",
    " * __The input to a function is called a formal parameter.__\n",
    " * __A variable that is delcared inside a function is called a local variable.__\n",
    " * __The parameter only exists within the function (i.e. the point where the function starts and stops).__\n",
    " * __A variable that is declared outside a function definition is a global variable, and its value is accessible and modifiable thoughout the program.__"
   ]
  },
  {
   "cell_type": "code",
   "execution_count": 9,
   "id": "bf852583",
   "metadata": {},
   "outputs": [
    {
     "name": "stdout",
     "output_type": "stream",
     "text": [
      "If you make the above operation with 10, the result will be 257.757\n"
     ]
    }
   ],
   "source": [
    "# Define a function\n",
    "d=0\n",
    "\n",
    "def function(x):\n",
    "    y=3.14\n",
    "    z= 3+25*x+1.617+y\n",
    "    print(f'If you make the above operation with {x}, the result will be {z}')\n",
    "    \n",
    "function(10)"
   ]
  },
  {
   "cell_type": "markdown",
   "id": "d99afb90",
   "metadata": {},
   "source": [
    "# Without return statement, the function returns None."
   ]
  },
  {
   "cell_type": "code",
   "execution_count": 20,
   "id": "c480250b",
   "metadata": {},
   "outputs": [
    {
     "name": "stdout",
     "output_type": "stream",
     "text": [
      "Hello world\n",
      "Khriesezo\n"
     ]
    }
   ],
   "source": [
    "def msg1():\n",
    "    print('Hello world')\n",
    "def msg2():\n",
    "    print('Khriesezo')\n",
    "    return None\n",
    "\n",
    "msg1()\n",
    "msg2()"
   ]
  },
  {
   "cell_type": "code",
   "execution_count": 21,
   "id": "9e775da3",
   "metadata": {},
   "outputs": [
    {
     "name": "stdout",
     "output_type": "stream",
     "text": [
      "Hello world\n",
      "None\n"
     ]
    }
   ],
   "source": [
    "print(msg1())\n"
   ]
  },
  {
   "cell_type": "code",
   "execution_count": 22,
   "id": "bc9fe846",
   "metadata": {},
   "outputs": [
    {
     "name": "stdout",
     "output_type": "stream",
     "text": [
      "Khriesezo\n",
      "None\n"
     ]
    }
   ],
   "source": [
    "print(msg2())"
   ]
  },
  {
   "cell_type": "markdown",
   "id": "f0830c6d",
   "metadata": {},
   "source": [
    "# Concatenation in functions"
   ]
  },
  {
   "cell_type": "code",
   "execution_count": 25,
   "id": "1ed2a1bf",
   "metadata": {},
   "outputs": [
    {
     "data": {
      "text/plain": [
       "'Harsh Gupta'"
      ]
     },
     "execution_count": 25,
     "metadata": {},
     "output_type": "execute_result"
    }
   ],
   "source": [
    "# Define a function\n",
    "\n",
    "def string(x,y):\n",
    "    return x+y\n",
    "string('Harsh',' Gupta')"
   ]
  },
  {
   "cell_type": "code",
   "execution_count": 26,
   "id": "95f9f454",
   "metadata": {},
   "outputs": [
    {
     "data": {
      "text/plain": [
       "150"
      ]
     },
     "execution_count": 26,
     "metadata": {},
     "output_type": "execute_result"
    }
   ],
   "source": [
    "string(50,100)"
   ]
  },
  {
   "cell_type": "code",
   "execution_count": 27,
   "id": "859cdf2c",
   "metadata": {},
   "outputs": [
    {
     "data": {
      "text/plain": [
       "620.72"
      ]
     },
     "execution_count": 27,
     "metadata": {},
     "output_type": "execute_result"
    }
   ],
   "source": [
    "string(120.36,500.36)"
   ]
  },
  {
   "cell_type": "code",
   "execution_count": 35,
   "id": "fbfa3ee8",
   "metadata": {},
   "outputs": [
    {
     "name": "stdout",
     "output_type": "stream",
     "text": [
      "You should not watch this movie with rating is 5.5\n",
      "You should watch this movie with rating is 9\n"
     ]
    }
   ],
   "source": [
    "# Write a program to print imdb rating if rating is above 8.0 then display you can watch movie in the theater \n",
    "# otherwise rating below 8.0 it display you should not watch this movie.\n",
    "\n",
    "def rating_value(rating=5.5):\n",
    "    if rating<8.0:\n",
    "        return f'You should not watch this movie with rating is {rating}'\n",
    "    else:\n",
    "        return f'You should watch this movie with rating is {rating}'\n",
    "print(rating_value())\n",
    "print(rating_value(9))"
   ]
  },
  {
   "cell_type": "code",
   "execution_count": 37,
   "id": "a6da8b29",
   "metadata": {},
   "outputs": [
    {
     "data": {
      "text/plain": [
       "'You should not watch this movie with rating is 3.0'"
      ]
     },
     "execution_count": 37,
     "metadata": {},
     "output_type": "execute_result"
    }
   ],
   "source": [
    "rating_value(3.0)"
   ]
  },
  {
   "cell_type": "markdown",
   "id": "68993a82",
   "metadata": {},
   "source": [
    "# Global Variable\n",
    "\n",
    "* __Variable that are created outside of a function(as in all of the examples above) are known as global variables.__\n",
    "\n",
    "* __Global variables can be used by everyone, both inside of functions and outside.__"
   ]
  },
  {
   "cell_type": "code",
   "execution_count": 1,
   "id": "344bda70",
   "metadata": {},
   "outputs": [
    {
     "name": "stdout",
     "output_type": "stream",
     "text": [
      "Python is a programming language.\n"
     ]
    },
    {
     "ename": "NameError",
     "evalue": "name 'global_var' is not defined",
     "output_type": "error",
     "traceback": [
      "\u001b[1;31m---------------------------------------------------------------------------\u001b[0m",
      "\u001b[1;31mNameError\u001b[0m                                 Traceback (most recent call last)",
      "\u001b[1;32m~\\AppData\\Local\\Temp\\ipykernel_11124\\1584556961.py\u001b[0m in \u001b[0;36m<module>\u001b[1;34m\u001b[0m\n\u001b[0;32m      6\u001b[0m \u001b[1;33m\u001b[0m\u001b[0m\n\u001b[0;32m      7\u001b[0m \u001b[0mlang\u001b[0m\u001b[1;33m(\u001b[0m\u001b[0mlanguage\u001b[0m\u001b[1;33m)\u001b[0m\u001b[1;33m\u001b[0m\u001b[1;33m\u001b[0m\u001b[0m\n\u001b[1;32m----> 8\u001b[1;33m \u001b[0mlang\u001b[0m\u001b[1;33m(\u001b[0m\u001b[0mglobal_var\u001b[0m\u001b[1;33m)\u001b[0m\u001b[1;33m\u001b[0m\u001b[1;33m\u001b[0m\u001b[0m\n\u001b[0m",
      "\u001b[1;31mNameError\u001b[0m: name 'global_var' is not defined"
     ]
    }
   ],
   "source": [
    "language='Python'  #global variable\n",
    "\n",
    "def lang(language):\n",
    "    global_var=language   #local variable\n",
    "    print(f'{language} is a programming language.')\n",
    "    \n",
    "lang(language)\n",
    "lang(global_var)"
   ]
  },
  {
   "cell_type": "markdown",
   "id": "0bf8fb53",
   "metadata": {},
   "source": [
    "# Variables in functions\n",
    "* __The scope of a variable is the part of the program to which that varaiable is accessible.__ \n",
    "\n",
    "* __Variables declared outside all the function definitions can be accessed from anywhere in the program.__\n",
    "\n",
    "* __Consequently, such variables are said to have global scope and are known as global variables.__\n",
    "\n",
    "\n",
    "# Docstring in Functions"
   ]
  },
  {
   "cell_type": "code",
   "execution_count": 4,
   "id": "cae8b589",
   "metadata": {},
   "outputs": [
    {
     "name": "stdout",
     "output_type": "stream",
     "text": [
      "The following functions return the sum of two parameters.\n",
      "Harsh Gupta\n"
     ]
    }
   ],
   "source": [
    "# define a function\n",
    "\n",
    "y=0\n",
    "z=0\n",
    "\n",
    "def addition(x,y):\n",
    "    '''The following functions return the sum of two parameters.'''  # multiple line comment and doc string function.\n",
    "    z=x+y\n",
    "    return z\n",
    "print(addition.__doc__)\n",
    "print(addition('Harsh',' Gupta'))"
   ]
  },
  {
   "cell_type": "code",
   "execution_count": 9,
   "id": "85aa55c9",
   "metadata": {},
   "outputs": [
    {
     "name": "stdout",
     "output_type": "stream",
     "text": [
      "The sum of the from 1 to 10 is: 55\n"
     ]
    }
   ],
   "source": [
    "# write a progrm to display the sum of first ten number using function.\n",
    "\n",
    "def total_sum(number,sum):\n",
    "    if number==11:\n",
    "        return sum\n",
    "    else:\n",
    "        return total_sum(number+1,sum+number)\n",
    "print('The sum of the from 1 to 10 is:',total_sum(1,0))"
   ]
  },
  {
   "cell_type": "code",
   "execution_count": 8,
   "id": "841ae05d",
   "metadata": {},
   "outputs": [
    {
     "name": "stdout",
     "output_type": "stream",
     "text": [
      "55\n"
     ]
    }
   ],
   "source": [
    "#WAP to display the sum of first ten numbers using function\n",
    "\n",
    "def tensum(n):\n",
    "    l=n\n",
    "    s=0\n",
    "    for i in range(l+1):\n",
    "        s+=i\n",
    "    print(s)\n",
    "    \n",
    "tensum(10)"
   ]
  },
  {
   "cell_type": "code",
   "execution_count": 14,
   "id": "dd2cbf2a",
   "metadata": {},
   "outputs": [
    {
     "name": "stdout",
     "output_type": "stream",
     "text": [
      "Enter your nameHarsh\n",
      "Congratulations!Harsh\n"
     ]
    }
   ],
   "source": [
    "# Define a function giving a message. Welcome with your name (Congratulation Harsh)\n",
    "\n",
    "def function(name):\n",
    "    msg='Congratulations!'+name\n",
    "    return msg\n",
    "name=input('Enter your name')\n",
    "print(function(name))\n"
   ]
  },
  {
   "cell_type": "code",
   "execution_count": 12,
   "id": "798bd0e2",
   "metadata": {},
   "outputs": [
    {
     "name": "stdout",
     "output_type": "stream",
     "text": [
      "Enter your name45\n",
      "Welcome and Congratulations 45\n"
     ]
    }
   ],
   "source": [
    "#Define a function giving a message. Welcome, with your name (Congratulations Khriesezo)\n",
    "\n",
    "con=input(\"Enter your name\")\n",
    "\n",
    "def welcome(con):\n",
    "    congratulation=con\n",
    "    print(f'Welcome and Congratulations',congratulation)\n",
    "    \n",
    "welcome(con)"
   ]
  },
  {
   "cell_type": "code",
   "execution_count": 13,
   "id": "25ddea30",
   "metadata": {},
   "outputs": [
    {
     "name": "stdout",
     "output_type": "stream",
     "text": [
      "Enter name:harsh\n",
      "Congratulations!, harsh\n"
     ]
    }
   ],
   "source": [
    "#WAP to define a function giving a message.Congrats with your name(Congratulations! Harsh)\n",
    "\n",
    "\n",
    "name=input('Enter name:')\n",
    "def x(name):\n",
    "    print (f'Congratulations!, {name}')\n",
    "    \n",
    "x(name)"
   ]
  },
  {
   "cell_type": "code",
   "execution_count": 18,
   "id": "24b12187",
   "metadata": {},
   "outputs": [
    {
     "name": "stdout",
     "output_type": "stream",
     "text": [
      "10010\n"
     ]
    }
   ],
   "source": [
    "# Write a program to find the max of three number.\n",
    "\n",
    "def max_of_two(x,y):\n",
    "    if x>y:\n",
    "        return x\n",
    "    return y\n",
    "def max_of_three(x,y,z):\n",
    "    return max_of_two(x,max_of_two(y,z))\n",
    "print(max_of_three(1001,1003,10010))"
   ]
  },
  {
   "cell_type": "code",
   "execution_count": null,
   "id": "81012cbe",
   "metadata": {},
   "outputs": [],
   "source": [
    "#Write a program to find the max of three number\n",
    "x=20\n",
    "y=30\n",
    "z=10\n",
    "\n",
    "def maximum(a,b,c):\n",
    "    d=[a,b,c]\n",
    "    print(\"Maximum number is:\",max(d))\n",
    "    \n",
    "maximum(x,y,z)"
   ]
  },
  {
   "cell_type": "code",
   "execution_count": 15,
   "id": "87dd5069",
   "metadata": {},
   "outputs": [
    {
     "name": "stdout",
     "output_type": "stream",
     "text": [
      "12 is the largest number\n"
     ]
    }
   ],
   "source": [
    "#WAP to find the max of three numbers.\n",
    "\n",
    "def num(n1,n2,n3):\n",
    "    if n1>n2 and n2>n3:\n",
    "        print(f'{n1} is the largest number')\n",
    "    elif n2>n1 and n2>n3:\n",
    "        print(f'{n2} is the largest number')\n",
    "    else:\n",
    "        print(f'{n3} is the largest number')\n",
    "        \n",
    "num(5,12,10)"
   ]
  },
  {
   "cell_type": "code",
   "execution_count": 19,
   "id": "95ae64c5",
   "metadata": {},
   "outputs": [
    {
     "name": "stdout",
     "output_type": "stream",
     "text": [
      "2003\n"
     ]
    }
   ],
   "source": [
    "print(max_of_three(1005,1006,2003))"
   ]
  },
  {
   "cell_type": "code",
   "execution_count": 20,
   "id": "10c9b87c",
   "metadata": {},
   "outputs": [
    {
     "data": {
      "text/plain": [
       "120"
      ]
     },
     "execution_count": 20,
     "metadata": {},
     "output_type": "execute_result"
    }
   ],
   "source": [
    "# Write a program to sum all the numers  8,2,3,0,7,100\n",
    "#WAP to sum all the numbers: 8,2,3,0,7,100\n",
    "\n",
    "def sums(l):\n",
    "    return sum(l)\n",
    "\n",
    "l=[8,2,3,0,7,100]\n",
    "sums(l)"
   ]
  },
  {
   "cell_type": "code",
   "execution_count": 29,
   "id": "9425c253",
   "metadata": {},
   "outputs": [
    {
     "name": "stdout",
     "output_type": "stream",
     "text": [
      "120\n"
     ]
    }
   ],
   "source": [
    "def sums(numbers):\n",
    "    total=0\n",
    "    for x in numbers:\n",
    "        total+=x\n",
    "    return total\n",
    "print(sums((8,2,3,0,7,100)))\n",
    "        "
   ]
  },
  {
   "cell_type": "code",
   "execution_count": 32,
   "id": "5fa611fa",
   "metadata": {},
   "outputs": [
    {
     "name": "stdout",
     "output_type": "stream",
     "text": [
      "319200000000\n"
     ]
    }
   ],
   "source": [
    "# Write a progrm to multiply all the numbers in the list [8,10,75,-95,7,400,-200] using function.\n",
    "#WAP to multiply all the numbers in the list [8,10,75,-95,7,400,-200]\n",
    "\n",
    "def tot(numbers):\n",
    "    total=1\n",
    "    for x in numbers:\n",
    "        \n",
    "        total=total*x\n",
    "    return total\n",
    "lis=[8,10,75,-95,7,400,-200]\n",
    "print(tot((lis)))"
   ]
  },
  {
   "cell_type": "code",
   "execution_count": 33,
   "id": "2a250364",
   "metadata": {},
   "outputs": [
    {
     "data": {
      "text/plain": [
       "319200000000"
      ]
     },
     "execution_count": 33,
     "metadata": {},
     "output_type": "execute_result"
    }
   ],
   "source": [
    "#WAP to multiply all numbers in the list [8,10,75,-95,7,400,-200] using function.\n",
    "\n",
    "def mul(m):\n",
    "    total_mul=1\n",
    "    for i in m:\n",
    "        total_mul=total_mul*i\n",
    "    return total_mul\n",
    "\n",
    "m=[8,10,75,-95,7,400,-200]\n",
    "mul(m)"
   ]
  },
  {
   "cell_type": "code",
   "execution_count": 31,
   "id": "49de9d54",
   "metadata": {},
   "outputs": [
    {
     "data": {
      "text/plain": [
       "319200000000"
      ]
     },
     "execution_count": 31,
     "metadata": {},
     "output_type": "execute_result"
    }
   ],
   "source": [
    "8*10*75*-95*7*400*-200"
   ]
  },
  {
   "cell_type": "code",
   "execution_count": 34,
   "id": "c955ac7d",
   "metadata": {},
   "outputs": [
    {
     "name": "stdout",
     "output_type": "stream",
     "text": [
      "Enter a number:5\n"
     ]
    },
    {
     "data": {
      "text/plain": [
       "120"
      ]
     },
     "execution_count": 34,
     "metadata": {},
     "output_type": "execute_result"
    }
   ],
   "source": [
    "# Write a program to find the factorial of any number using function (user input).\n",
    "#WAP to find the factorial of any number using function.\n",
    "\n",
    "def fac(f):\n",
    "    fact=1\n",
    "    for j in range(1,f+1):\n",
    "        fact=fact*j\n",
    "    return fact\n",
    "\n",
    "f=int(input(\"Enter a number:\"))\n",
    "fac(f)"
   ]
  },
  {
   "cell_type": "code",
   "execution_count": 35,
   "id": "0d74d850",
   "metadata": {},
   "outputs": [
    {
     "name": "stdout",
     "output_type": "stream",
     "text": [
      "Enter a number:4\n"
     ]
    },
    {
     "data": {
      "text/plain": [
       "24"
      ]
     },
     "execution_count": 35,
     "metadata": {},
     "output_type": "execute_result"
    }
   ],
   "source": [
    "def fact(n):\n",
    "    t=1\n",
    "    if n<0:\n",
    "        print('Factorial does not exist for negative numbers')\n",
    "    elif n==0:\n",
    "        print(f'Factorial of 0 is 1')\n",
    "    else:\n",
    "        for i in range(1,n+1):\n",
    "            t=t*i\n",
    "        return t\n",
    "n=int(input('Enter a number:'))\n",
    "\n",
    "fact(n)"
   ]
  },
  {
   "cell_type": "code",
   "execution_count": 1,
   "id": "5b40ffc6",
   "metadata": {},
   "outputs": [
    {
     "name": "stdout",
     "output_type": "stream",
     "text": [
      "Enter any number 5\n",
      "120\n"
     ]
    }
   ],
   "source": [
    "def factorial(n):\n",
    "    if n==0:\n",
    "        return 1\n",
    "    else:\n",
    "        return n*factorial(n-1)\n",
    "n=int(input('Enter any number '))\n",
    "print(factorial(n))"
   ]
  },
  {
   "cell_type": "code",
   "execution_count": 13,
   "id": "3a347ed2",
   "metadata": {},
   "outputs": [
    {
     "name": "stdout",
     "output_type": "stream",
     "text": [
      "Enter your sentence:Nevertheless, in a few months, the stars started to align themselves for the precocious wunderkind from Ranchi. Inspired by the KSCA, the BCCI started a country-wide Training Research Development Wing to scout talent from the more financially backward states. Dhoni immediately caught the eyes of the scouts and was sent on an A tour to Kenya, where his talent burst forth for the world to see as he showcased his batting pyrotechnics against world-class bowlers in alien conditions. He immediately shot to national reckoning and was selected for the tour of Bangladesh in November 2004.\n",
      "Original String: \n",
      " Nevertheless, in a few months, the stars started to align themselves for the precocious wunderkind from Ranchi. Inspired by the KSCA, the BCCI started a country-wide Training Research Development Wing to scout talent from the more financially backward states. Dhoni immediately caught the eyes of the scouts and was sent on an A tour to Kenya, where his talent burst forth for the world to see as he showcased his batting pyrotechnics against world-class bowlers in alien conditions. He immediately shot to national reckoning and was selected for the tour of Bangladesh in November 2004.\n",
      "No. of Upper case in Your Sentence: 21\n",
      "No. of Lower case in Your Sentence: 458\n"
     ]
    }
   ],
   "source": [
    "#  Write a python program that accepts a string from user and calculate the number of upper case letter and lower \n",
    "# case letters.\n",
    "def string_test(s):\n",
    "    d={'Upper Case':0,'Lower Case':0}\n",
    "    for c in s:\n",
    "        if c.isupper():\n",
    "            d[\"Upper Case\"]+=1\n",
    "        elif c.islower():\n",
    "            d[\"Lower Case\"]+=1\n",
    "        else:\n",
    "            pass\n",
    "    print('Original String: \\n',s)\n",
    "    print('No. of Upper case in Your Sentence:',d['Upper Case'])\n",
    "    print('No. of Lower case in Your Sentence:',d['Lower Case'])\n",
    "string_test(input('Enter your sentence:'))"
   ]
  },
  {
   "cell_type": "code",
   "execution_count": 2,
   "id": "0a22d192",
   "metadata": {},
   "outputs": [
    {
     "name": "stdout",
     "output_type": "stream",
     "text": [
      "Enter a string:The Quick Brown Fox Jump Over the Lazy Dog\n",
      "Uppercases are: 8 \n",
      "Lowercases are: 34\n"
     ]
    }
   ],
   "source": [
    "#WAP that accepts a string from user and calculate the number of uppercase letters and lower case letters\n",
    "\n",
    "def string(s):\n",
    "    u=0\n",
    "    l=0\n",
    "    for i in s:\n",
    "    \n",
    "        if i.isupper()==True:\n",
    "            u+=1\n",
    "        else:\n",
    "            l+=1\n",
    "    return (print(\"Uppercases are:\",u,\"\\nLowercases are:\",l))\n",
    "    \n",
    "s=input(\"Enter a string:\")\n",
    "string(s)"
   ]
  },
  {
   "cell_type": "code",
   "execution_count": 4,
   "id": "6a94606c",
   "metadata": {},
   "outputs": [
    {
     "name": "stdout",
     "output_type": "stream",
     "text": [
      "Enter string:The Quick Brown Fox Jump Over the Lazy Dog.\n",
      "Upper case letter: 8\n",
      "lower case letter: 35\n"
     ]
    }
   ],
   "source": [
    "#WAP that accept a string from user and calculate the number of upper case and lower case letters.\n",
    "\n",
    "def string(x):\n",
    "    u=0\n",
    "    l=0\n",
    "    for i in x:\n",
    "        if i.isupper()==True:\n",
    "            u=u+1\n",
    "        else:\n",
    "            l=l+1\n",
    "    print('Upper case letter:',u)\n",
    "    print('lower case letter:',l)\n",
    "x=input('Enter string:')\n",
    "\n",
    "string(x)"
   ]
  },
  {
   "cell_type": "code",
   "execution_count": null,
   "id": "fa2d785f",
   "metadata": {},
   "outputs": [],
   "source": []
  }
 ],
 "metadata": {
  "kernelspec": {
   "display_name": "Python 3 (ipykernel)",
   "language": "python",
   "name": "python3"
  },
  "language_info": {
   "codemirror_mode": {
    "name": "ipython",
    "version": 3
   },
   "file_extension": ".py",
   "mimetype": "text/x-python",
   "name": "python",
   "nbconvert_exporter": "python",
   "pygments_lexer": "ipython3",
   "version": "3.9.13"
  }
 },
 "nbformat": 4,
 "nbformat_minor": 5
}
