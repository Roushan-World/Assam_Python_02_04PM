{
 "cells": [
  {
   "cell_type": "markdown",
   "id": "67565ea0",
   "metadata": {},
   "source": [
    "# 10. Exception Handling in Python\n",
    "\n",
    "* __An Exception is an event, which occurs during the execution of a program that disrupts the normal flow of the program's instructions.__\n",
    "* __In general, When a Python Scripts encounters a situation that it cannot cope with, it raises an exception.__\n",
    "* __An exception is a Python object that represents an error.__\n",
    "* __When a Python script raises an exception, it must either handle it immediately otherwise it terminates and quits.__\n",
    "* __If you have some suspicious code that may raise an exception, you can defend your program by placing the suspicious code in try:block.__\n",
    "* __After the try:block, include an except: statement, followed by a block of code which handles the problem as elegantly as possible.__\n",
    "* __Common exceptions__\n",
    "* __ZeroDivisionError__\n",
    "* __NameError__\n",
    "* __ValueError__\n",
    "* __IOError__\n",
    "* __EOFError__\n",
    "* __IdentationError__"
   ]
  },
  {
   "cell_type": "markdown",
   "id": "90ce8829",
   "metadata": {},
   "source": [
    "# ZeroDivision Error"
   ]
  },
  {
   "cell_type": "code",
   "execution_count": 3,
   "id": "b6dac5c1",
   "metadata": {},
   "outputs": [
    {
     "name": "stdout",
     "output_type": "stream",
     "text": [
      "It gives an Error i.e: ZeroDivisonError\n"
     ]
    }
   ],
   "source": [
    "try:\n",
    "    1/0\n",
    "except ZeroDivisionError:\n",
    "    print('It gives an Error i.e: ZeroDivisonError')"
   ]
  },
  {
   "cell_type": "code",
   "execution_count": 5,
   "id": "72cc29c4",
   "metadata": {},
   "outputs": [
    {
     "ename": "ZeroDivisionError",
     "evalue": "division by zero",
     "output_type": "error",
     "traceback": [
      "\u001b[1;31m---------------------------------------------------------------------------\u001b[0m",
      "\u001b[1;31mZeroDivisionError\u001b[0m                         Traceback (most recent call last)",
      "\u001b[1;32m~\\AppData\\Local\\Temp\\ipykernel_5516\\2794436645.py\u001b[0m in \u001b[0;36m<module>\u001b[1;34m\u001b[0m\n\u001b[1;32m----> 1\u001b[1;33m \u001b[1;32mTrue\u001b[0m\u001b[1;33m/\u001b[0m\u001b[1;32mFalse\u001b[0m\u001b[1;33m\u001b[0m\u001b[1;33m\u001b[0m\u001b[0m\n\u001b[0m",
      "\u001b[1;31mZeroDivisionError\u001b[0m: division by zero"
     ]
    }
   ],
   "source": [
    "True/False"
   ]
  },
  {
   "cell_type": "code",
   "execution_count": 6,
   "id": "ae1944bb",
   "metadata": {},
   "outputs": [
    {
     "ename": "ZeroDivisionError",
     "evalue": "division by zero",
     "output_type": "error",
     "traceback": [
      "\u001b[1;31m---------------------------------------------------------------------------\u001b[0m",
      "\u001b[1;31mZeroDivisionError\u001b[0m                         Traceback (most recent call last)",
      "\u001b[1;32m~\\AppData\\Local\\Temp\\ipykernel_5516\\4059200430.py\u001b[0m in \u001b[0;36m<module>\u001b[1;34m\u001b[0m\n\u001b[0;32m      2\u001b[0m \u001b[0mcount\u001b[0m\u001b[1;33m=\u001b[0m\u001b[1;36m1\u001b[0m\u001b[1;33m\u001b[0m\u001b[1;33m\u001b[0m\u001b[0m\n\u001b[0;32m      3\u001b[0m \u001b[1;33m\u001b[0m\u001b[0m\n\u001b[1;32m----> 4\u001b[1;33m \u001b[0mz\u001b[0m\u001b[1;33m=\u001b[0m\u001b[0mcount\u001b[0m\u001b[1;33m/\u001b[0m\u001b[0mlen\u001b[0m\u001b[1;33m(\u001b[0m\u001b[0mnlis\u001b[0m\u001b[1;33m)\u001b[0m\u001b[1;33m\u001b[0m\u001b[1;33m\u001b[0m\u001b[0m\n\u001b[0m",
      "\u001b[1;31mZeroDivisionError\u001b[0m: division by zero"
     ]
    }
   ],
   "source": [
    "nlis=[]\n",
    "count=1\n",
    "\n",
    "z=count/len(nlis)"
   ]
  },
  {
   "cell_type": "markdown",
   "id": "3eeeb17b",
   "metadata": {},
   "source": [
    "# NameError"
   ]
  },
  {
   "cell_type": "code",
   "execution_count": 7,
   "id": "c70755e0",
   "metadata": {},
   "outputs": [
    {
     "name": "stdout",
     "output_type": "stream",
     "text": [
      "It gives a NameError\n"
     ]
    }
   ],
   "source": [
    "try:\n",
    "    y = z+5\n",
    "except NameError:\n",
    "    print('It gives a NameError')"
   ]
  },
  {
   "cell_type": "code",
   "execution_count": 8,
   "id": "2452a943",
   "metadata": {},
   "outputs": [
    {
     "ename": "NameError",
     "evalue": "name 'adition' is not defined",
     "output_type": "error",
     "traceback": [
      "\u001b[1;31m---------------------------------------------------------------------------\u001b[0m",
      "\u001b[1;31mNameError\u001b[0m                                 Traceback (most recent call last)",
      "\u001b[1;32m~\\AppData\\Local\\Temp\\ipykernel_5516\\4255605151.py\u001b[0m in \u001b[0;36m<module>\u001b[1;34m\u001b[0m\n\u001b[0;32m      2\u001b[0m     \u001b[0mz\u001b[0m \u001b[1;33m=\u001b[0m \u001b[0mx\u001b[0m\u001b[1;33m+\u001b[0m\u001b[0my\u001b[0m\u001b[1;33m\u001b[0m\u001b[1;33m\u001b[0m\u001b[0m\n\u001b[0;32m      3\u001b[0m     \u001b[1;32mreturn\u001b[0m \u001b[0mz\u001b[0m\u001b[1;33m\u001b[0m\u001b[1;33m\u001b[0m\u001b[0m\n\u001b[1;32m----> 4\u001b[1;33m \u001b[0mprint\u001b[0m\u001b[1;33m(\u001b[0m\u001b[0madition\u001b[0m\u001b[1;33m)\u001b[0m\u001b[1;33m\u001b[0m\u001b[1;33m\u001b[0m\u001b[0m\n\u001b[0m",
      "\u001b[1;31mNameError\u001b[0m: name 'adition' is not defined"
     ]
    }
   ],
   "source": [
    "def addition(x,y):\n",
    "    z = x+y\n",
    "    return z\n",
    "print(adition)"
   ]
  },
  {
   "cell_type": "markdown",
   "id": "2cdced45",
   "metadata": {},
   "source": [
    "# IndexError"
   ]
  },
  {
   "cell_type": "code",
   "execution_count": 9,
   "id": "8a2b0387",
   "metadata": {},
   "outputs": [
    {
     "ename": "IndexError",
     "evalue": "list index out of range",
     "output_type": "error",
     "traceback": [
      "\u001b[1;31m---------------------------------------------------------------------------\u001b[0m",
      "\u001b[1;31mIndexError\u001b[0m                                Traceback (most recent call last)",
      "\u001b[1;32m~\\AppData\\Local\\Temp\\ipykernel_5516\\4047556219.py\u001b[0m in \u001b[0;36m<module>\u001b[1;34m\u001b[0m\n\u001b[0;32m      1\u001b[0m \u001b[0mnlis\u001b[0m\u001b[1;33m=\u001b[0m\u001b[1;33m[\u001b[0m\u001b[1;36m0.577\u001b[0m\u001b[1;33m,\u001b[0m\u001b[1;36m1.618\u001b[0m\u001b[1;33m,\u001b[0m\u001b[1;36m2.718\u001b[0m\u001b[1;33m,\u001b[0m\u001b[1;36m3.147\u001b[0m\u001b[1;33m,\u001b[0m\u001b[1;36m6\u001b[0m\u001b[1;33m,\u001b[0m\u001b[1;36m28\u001b[0m\u001b[1;33m,\u001b[0m\u001b[1;36m37\u001b[0m\u001b[1;33m,\u001b[0m\u001b[1;36m1729\u001b[0m\u001b[1;33m]\u001b[0m\u001b[1;33m\u001b[0m\u001b[1;33m\u001b[0m\u001b[0m\n\u001b[1;32m----> 2\u001b[1;33m \u001b[0mnlis\u001b[0m\u001b[1;33m[\u001b[0m\u001b[1;36m10\u001b[0m\u001b[1;33m]\u001b[0m\u001b[1;33m\u001b[0m\u001b[1;33m\u001b[0m\u001b[0m\n\u001b[0m",
      "\u001b[1;31mIndexError\u001b[0m: list index out of range"
     ]
    }
   ],
   "source": [
    "nlis=[0.577,1.618,2.718,3.147,6,28,37,1729]\n",
    "nlis[10]"
   ]
  },
  {
   "cell_type": "markdown",
   "id": "50d22069",
   "metadata": {},
   "source": [
    "# KeyError\n",
    "\n"
   ]
  },
  {
   "cell_type": "code",
   "execution_count": 10,
   "id": "0e221ebe",
   "metadata": {},
   "outputs": [
    {
     "ename": "KeyError",
     "evalue": "'contact'",
     "output_type": "error",
     "traceback": [
      "\u001b[1;31m---------------------------------------------------------------------------\u001b[0m",
      "\u001b[1;31mKeyError\u001b[0m                                  Traceback (most recent call last)",
      "\u001b[1;32m~\\AppData\\Local\\Temp\\ipykernel_5516\\3943825393.py\u001b[0m in \u001b[0;36m<module>\u001b[1;34m\u001b[0m\n\u001b[0;32m      1\u001b[0m \u001b[0mdetails\u001b[0m\u001b[1;33m=\u001b[0m\u001b[1;33m{\u001b[0m\u001b[1;34m'name'\u001b[0m\u001b[1;33m:\u001b[0m\u001b[1;34m'krrish'\u001b[0m\u001b[1;33m,\u001b[0m\u001b[1;34m'age'\u001b[0m\u001b[1;33m:\u001b[0m\u001b[1;36m40\u001b[0m\u001b[1;33m}\u001b[0m\u001b[1;33m\u001b[0m\u001b[1;33m\u001b[0m\u001b[0m\n\u001b[1;32m----> 2\u001b[1;33m \u001b[0mdetails\u001b[0m\u001b[1;33m[\u001b[0m\u001b[1;34m'contact'\u001b[0m\u001b[1;33m]\u001b[0m\u001b[1;33m\u001b[0m\u001b[1;33m\u001b[0m\u001b[0m\n\u001b[0m",
      "\u001b[1;31mKeyError\u001b[0m: 'contact'"
     ]
    }
   ],
   "source": [
    "details={'name':'krrish','age':40}\n",
    "details['contact']"
   ]
  },
  {
   "cell_type": "code",
   "execution_count": 12,
   "id": "82cf491b",
   "metadata": {},
   "outputs": [
    {
     "name": "stdout",
     "output_type": "stream",
     "text": [
      "Enter first number:\n",
      "1\n",
      "Enter second number:\n",
      "0\n",
      "Your value is processing\n"
     ]
    }
   ],
   "source": [
    "# Write a program to display the output with division of two number in float with try and except\n",
    "num1=float(input('Enter first number:\\n'))\n",
    "\n",
    "try:\n",
    "    num2=float(input('Enter second number:\\n'))\n",
    "    value=num1/num2\n",
    "    print('The total value of these number is:',value)\n",
    "except:\n",
    "    print('Your value is processing')"
   ]
  },
  {
   "cell_type": "markdown",
   "id": "18151600",
   "metadata": {},
   "source": [
    "# try/except/except"
   ]
  },
  {
   "cell_type": "code",
   "execution_count": 18,
   "id": "a57150d3",
   "metadata": {},
   "outputs": [
    {
     "name": "stdout",
     "output_type": "stream",
     "text": [
      "Enter first number:\n",
      "n\n",
      "Enter a correct Value\n"
     ]
    }
   ],
   "source": [
    "try:\n",
    "    num1=float(input('Enter first number:\\n'))\n",
    "    num2=float(input('Enter second number:\\n'))\n",
    "    value=num1/num2\n",
    "    print('The total value of these number is:',value)\n",
    "    \n",
    "except ZeroDivisionError:\n",
    "    print('It gives a ZeroDivisionError')\n",
    "except ValueError:\n",
    "    print('Enter a correct Value')"
   ]
  },
  {
   "cell_type": "markdown",
   "id": "dfe8653a",
   "metadata": {},
   "source": [
    "# try/except/else"
   ]
  },
  {
   "cell_type": "code",
   "execution_count": 4,
   "id": "36bdb5a8",
   "metadata": {},
   "outputs": [
    {
     "name": "stdout",
     "output_type": "stream",
     "text": [
      "Enter first number:\n",
      "45\n",
      "Enter second number:\n",
      "12\n",
      "Your code is running successfully with 3.75\n"
     ]
    }
   ],
   "source": [
    "try:\n",
    "    num1=float(input('Enter first number:\\n'))\n",
    "    num2=float(input('Enter second number:\\n'))\n",
    "    value=num1/num2\n",
    "    \n",
    "    \n",
    "except ZeroDivisionError:\n",
    "    print('It gives a ZeroDivisionError')\n",
    "except ValueError:\n",
    "    print('Enter a correct Value')\n",
    "    \n",
    "else:\n",
    "    print('Your code is running successfully with',value)"
   ]
  },
  {
   "cell_type": "markdown",
   "id": "b72f8b21",
   "metadata": {},
   "source": [
    "# try/except/else/finally"
   ]
  },
  {
   "cell_type": "code",
   "execution_count": 5,
   "id": "2fbc8c2c",
   "metadata": {},
   "outputs": [
    {
     "name": "stdout",
     "output_type": "stream",
     "text": [
      "Enter first number:\n",
      "45\n",
      "Enter second number:\n",
      "36\n",
      "Your code is running successfully with 1.25\n",
      "Your code is completed\n"
     ]
    }
   ],
   "source": [
    "try:\n",
    "    num1=float(input('Enter first number:\\n'))\n",
    "    num2=float(input('Enter second number:\\n'))\n",
    "    value=num1/num2\n",
    "    \n",
    "    \n",
    "except ZeroDivisionError:\n",
    "    print('It gives a ZeroDivisionError')\n",
    "except ValueError:\n",
    "    print('Enter a correct Value')\n",
    "    \n",
    "else:\n",
    "    print('Your code is running successfully with',value)\n",
    "    \n",
    "finally:\n",
    "    print('Your code is completed')"
   ]
  },
  {
   "cell_type": "code",
   "execution_count": 6,
   "id": "f1efdeb8",
   "metadata": {},
   "outputs": [],
   "source": [
    "# Write a program to take three user input and display the output with try and except"
   ]
  },
  {
   "cell_type": "code",
   "execution_count": 7,
   "id": "672533db",
   "metadata": {},
   "outputs": [
    {
     "data": {
      "text/plain": [
       "'Write a Python Program that prompts the user input two numbers and raised a TypeError exception if the input are not \\nnumberical.'"
      ]
     },
     "execution_count": 7,
     "metadata": {},
     "output_type": "execute_result"
    }
   ],
   "source": [
    "# Write a python program to handle a ZeroDivisionError exception when dividing a number by 0.\n",
    "'''2.Write a Python Program that prompts the user input two numbers and raised a TypeError exception if the input are not \n",
    "numberical.\n",
    "\n",
    "3. Write a Python program that executes an operation on a list and handles an IndexError exception if the index is out of range.\n",
    "\n",
    "4. Write a Python program that prompts the user to input a number and handles a KeyboardInterrupt exception if the user \n",
    "cancels the input.\n",
    "5.Write a Pyhton program that executes division and handles an ArithmeticError exception if there is an arithmetic error.\n",
    "\n",
    "'''"
   ]
  },
  {
   "cell_type": "code",
   "execution_count": 11,
   "id": "59950aee",
   "metadata": {},
   "outputs": [
    {
     "name": "stdout",
     "output_type": "stream",
     "text": [
      "Input the dividend: 12\n",
      "Input the divisor: 03\n",
      "Result: 4.0\n"
     ]
    }
   ],
   "source": [
    "def division(dividend, divisor):\n",
    "    try:\n",
    "        result = dividend / divisor\n",
    "        print(\"Result:\", result)\n",
    "    except ArithmeticError:\n",
    "        print(\"Error: Arithmetic error occurred!\")\n",
    "#Usage\n",
    "dividend = float(input(\"Input the dividend: \"))\n",
    "divisor = float(input(\"Input the divisor: \"))\n",
    "division(dividend, divisor)"
   ]
  },
  {
   "cell_type": "code",
   "execution_count": 15,
   "id": "e46911fb",
   "metadata": {},
   "outputs": [
    {
     "name": "stdout",
     "output_type": "stream",
     "text": [
      "Input a number: 456\n",
      "You entered: 456\n"
     ]
    }
   ],
   "source": [
    "try:\n",
    "    n = int(input(\"Input a number: \"))\n",
    "    print(\"You entered:\", n)\n",
    "except KeyboardInterrupt:\n",
    "    print(\"Input canceled by the user.\")"
   ]
  },
  {
   "cell_type": "code",
   "execution_count": null,
   "id": "f1257a32",
   "metadata": {},
   "outputs": [],
   "source": []
  }
 ],
 "metadata": {
  "kernelspec": {
   "display_name": "Python 3 (ipykernel)",
   "language": "python",
   "name": "python3"
  },
  "language_info": {
   "codemirror_mode": {
    "name": "ipython",
    "version": 3
   },
   "file_extension": ".py",
   "mimetype": "text/x-python",
   "name": "python",
   "nbconvert_exporter": "python",
   "pygments_lexer": "ipython3",
   "version": "3.9.13"
  }
 },
 "nbformat": 4,
 "nbformat_minor": 5
}
