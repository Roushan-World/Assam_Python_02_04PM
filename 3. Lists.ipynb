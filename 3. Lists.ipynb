{
 "cells": [
  {
   "cell_type": "markdown",
   "id": "076bbbec",
   "metadata": {},
   "source": [
    "# 3. Lists in Python\n",
    "\n",
    "\n",
    " * __1. Lists are ordered.__\n",
    " * __2. Lists can contain any arbitrary objects.__\n",
    " * __3. List element can be accessed by index.__\n",
    " * __4. Lists are mutable.__\n",
    " * __5. Lists are dynamic.__"
   ]
  },
  {
   "cell_type": "code",
   "execution_count": 1,
   "id": "cfedec5c",
   "metadata": {},
   "outputs": [],
   "source": [
    "# [{()}]# BODMAS\n",
    "\n",
    "# [] This is list\n",
    "# {} this is set or dictionary\n",
    "# () this is tuple"
   ]
  },
  {
   "cell_type": "code",
   "execution_count": 6,
   "id": "ee8018fd",
   "metadata": {},
   "outputs": [
    {
     "name": "stdout",
     "output_type": "stream",
     "text": [
      "['Hello World', 100, 3.14, True, False, ['Hi,Python', 200, True, False], ('Krrish', 'Harsh', 'Durgesh', 3.14), {1, 2, 3}, {'A': 100, 'B': 'Harsh'}]\n",
      "<class 'list'>\n"
     ]
    }
   ],
   "source": [
    "list1=['Hello World',100,3.14,True,False,['Hi,Python',200,True,False],('Krrish',\"Harsh\",'Durgesh',3.14),{1,2,3},{'A':100,'B':'Harsh'}]\n",
    "print(list1)\n",
    "print(type(list1))"
   ]
  },
  {
   "cell_type": "markdown",
   "id": "da6b417f",
   "metadata": {},
   "source": [
    "# Indexing"
   ]
  },
  {
   "cell_type": "code",
   "execution_count": 7,
   "id": "869d7e31",
   "metadata": {},
   "outputs": [
    {
     "name": "stdout",
     "output_type": "stream",
     "text": [
      "Hello World\n",
      "<class 'str'>\n"
     ]
    }
   ],
   "source": [
    "print(list1[0])\n",
    "print(type(list1[0]))\n"
   ]
  },
  {
   "cell_type": "code",
   "execution_count": 9,
   "id": "9a3521cb",
   "metadata": {},
   "outputs": [
    {
     "data": {
      "text/plain": [
       "'Harsh'"
      ]
     },
     "execution_count": 9,
     "metadata": {},
     "output_type": "execute_result"
    }
   ],
   "source": [
    "list1[8]['B']"
   ]
  },
  {
   "cell_type": "code",
   "execution_count": 3,
   "id": "a5787bd4",
   "metadata": {},
   "outputs": [
    {
     "name": "stdout",
     "output_type": "stream",
     "text": [
      "[10, 20, 30, 40, 100]\n",
      "[10, 20, 30, 40, 100, 200]\n",
      "[300, 10, 20, 30, 40, 100, 200]\n"
     ]
    }
   ],
   "source": [
    "list2=[10,20,30,40]\n",
    "list2.append(100)\n",
    "print(list2)\n",
    "list2.extend([200])\n",
    "print(list2)\n",
    "list2.insert(0,300)\n",
    "print(list2)"
   ]
  },
  {
   "cell_type": "code",
   "execution_count": 4,
   "id": "ee6e153d",
   "metadata": {},
   "outputs": [],
   "source": [
    "list3=['HARSH']\n",
    "\n",
    "list3.clear()"
   ]
  },
  {
   "cell_type": "code",
   "execution_count": 5,
   "id": "816ca6b6",
   "metadata": {},
   "outputs": [
    {
     "data": {
      "text/plain": [
       "[]"
      ]
     },
     "execution_count": 5,
     "metadata": {},
     "output_type": "execute_result"
    }
   ],
   "source": [
    "list3"
   ]
  },
  {
   "cell_type": "code",
   "execution_count": 6,
   "id": "e9ae53df",
   "metadata": {},
   "outputs": [
    {
     "data": {
      "text/plain": [
       "[300, 10, 20, 30, 40, 100, 200]"
      ]
     },
     "execution_count": 6,
     "metadata": {},
     "output_type": "execute_result"
    }
   ],
   "source": [
    "list2"
   ]
  },
  {
   "cell_type": "code",
   "execution_count": 10,
   "id": "55f9845b",
   "metadata": {},
   "outputs": [
    {
     "data": {
      "text/plain": [
       "6"
      ]
     },
     "execution_count": 10,
     "metadata": {},
     "output_type": "execute_result"
    }
   ],
   "source": [
    "list2.index(200)"
   ]
  },
  {
   "cell_type": "code",
   "execution_count": 11,
   "id": "b2609eb4",
   "metadata": {},
   "outputs": [
    {
     "data": {
      "text/plain": [
       "[300, 10, 20, 30, 40, 100, 200]"
      ]
     },
     "execution_count": 11,
     "metadata": {},
     "output_type": "execute_result"
    }
   ],
   "source": [
    "list2"
   ]
  },
  {
   "cell_type": "code",
   "execution_count": 12,
   "id": "fcf029ae",
   "metadata": {},
   "outputs": [
    {
     "name": "stdout",
     "output_type": "stream",
     "text": [
      "[300, 10, 20, 30, 100, 200]\n"
     ]
    }
   ],
   "source": [
    "list2.remove(40)\n",
    "print(list2)"
   ]
  },
  {
   "cell_type": "code",
   "execution_count": 14,
   "id": "29c8444a",
   "metadata": {},
   "outputs": [
    {
     "name": "stdout",
     "output_type": "stream",
     "text": [
      "[300, 10, 20, 30]\n"
     ]
    }
   ],
   "source": [
    "list2.pop()\n",
    "print(list2)"
   ]
  },
  {
   "cell_type": "code",
   "execution_count": 15,
   "id": "f5c7bcc0",
   "metadata": {},
   "outputs": [
    {
     "data": {
      "text/plain": [
       "[300, 10, 20, 30]"
      ]
     },
     "execution_count": 15,
     "metadata": {},
     "output_type": "execute_result"
    }
   ],
   "source": [
    "list2\n"
   ]
  },
  {
   "cell_type": "code",
   "execution_count": 16,
   "id": "3ec884f9",
   "metadata": {},
   "outputs": [
    {
     "data": {
      "text/plain": [
       "[30, 20, 10, 300]"
      ]
     },
     "execution_count": 16,
     "metadata": {},
     "output_type": "execute_result"
    }
   ],
   "source": [
    "list2.reverse()\n",
    "list2"
   ]
  },
  {
   "cell_type": "code",
   "execution_count": 17,
   "id": "6f932718",
   "metadata": {},
   "outputs": [
    {
     "name": "stdout",
     "output_type": "stream",
     "text": [
      "[1, 2, 3, 4, 5, 6, 7, 8, 9, 44]\n"
     ]
    }
   ],
   "source": [
    "list3=[1,3,5,7,8,9,44,2,4,6]\n",
    "\n",
    "list3.sort()\n",
    "print(list3)"
   ]
  },
  {
   "cell_type": "code",
   "execution_count": 18,
   "id": "533166c1",
   "metadata": {},
   "outputs": [
    {
     "data": {
      "text/plain": [
       "[1, 2, 3, 4, 5, 6, 7, 8, 9, 44]"
      ]
     },
     "execution_count": 18,
     "metadata": {},
     "output_type": "execute_result"
    }
   ],
   "source": [
    "list3"
   ]
  },
  {
   "cell_type": "code",
   "execution_count": 19,
   "id": "fe0a7e12",
   "metadata": {},
   "outputs": [
    {
     "data": {
      "text/plain": [
       "[44, 9, 8, 7, 6, 5, 4, 3, 2, 1]"
      ]
     },
     "execution_count": 19,
     "metadata": {},
     "output_type": "execute_result"
    }
   ],
   "source": [
    "list3.reverse()\n",
    "list3"
   ]
  },
  {
   "cell_type": "code",
   "execution_count": 24,
   "id": "6f67a91b",
   "metadata": {},
   "outputs": [
    {
     "name": "stdout",
     "output_type": "stream",
     "text": [
      "['krrish']\n",
      "['krrish']\n",
      "['krrish', 'Harsh']\n",
      "['krrish', 'Harsh']\n"
     ]
    }
   ],
   "source": [
    "# Deep copy() \n",
    "x=['krrish']\n",
    "y=x\n",
    "print(x)\n",
    "print(y)\n",
    "x.append('Harsh')\n",
    "print(x)\n",
    "print(y)"
   ]
  },
  {
   "cell_type": "code",
   "execution_count": 30,
   "id": "f8a9568c",
   "metadata": {},
   "outputs": [
    {
     "name": "stdout",
     "output_type": "stream",
     "text": [
      "['Durgesh']\n",
      "['Durgesh']\n",
      "['Durgesh', ['Harsh', 'Krrish']]\n",
      "['Durgesh']\n"
     ]
    }
   ],
   "source": [
    "# Swallow copy\n",
    "\n",
    "x=['Durgesh']\n",
    "y=x.copy()\n",
    "print(x)\n",
    "print(y)\n",
    "x.append(['Harsh','Krrish'])\n",
    "print(x)\n",
    "print(y)"
   ]
  },
  {
   "cell_type": "code",
   "execution_count": null,
   "id": "5a7b3751",
   "metadata": {},
   "outputs": [],
   "source": []
  }
 ],
 "metadata": {
  "kernelspec": {
   "display_name": "Python 3 (ipykernel)",
   "language": "python",
   "name": "python3"
  },
  "language_info": {
   "codemirror_mode": {
    "name": "ipython",
    "version": 3
   },
   "file_extension": ".py",
   "mimetype": "text/x-python",
   "name": "python",
   "nbconvert_exporter": "python",
   "pygments_lexer": "ipython3",
   "version": "3.9.13"
  }
 },
 "nbformat": 4,
 "nbformat_minor": 5
}
