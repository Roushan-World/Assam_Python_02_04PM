{
 "cells": [
  {
   "cell_type": "markdown",
   "id": "13845eb5",
   "metadata": {},
   "source": [
    "# 12. Classes and Objects in Python\n",
    "\n",
    "* __Python is an object-oriented programming language.__\n",
    "\n",
    "* __Unlike procedure-oriented programming, where the main emphasis is on functions, object-oriented programming stresses on objects.__\n",
    "* __An object is simply a collection of data(variables) and methods (functions) that act on those data.__\n",
    "* __Similarly, a class is a blueprint for that object.__\n",
    "* __Like function definitions begin with the def keyword in Python, class definitions begin with a class keyword.__\n",
    "* __The first string inside the class is called docstring and has s brief description of the class.__\n",
    "* __Although not mandatory, this is highly recommended.__"
   ]
  },
  {
   "cell_type": "markdown",
   "id": "85ba1e5a",
   "metadata": {},
   "source": [
    "class student:\n",
    "    school_name = 'ABC School'          <---------------- Class Variable\n",
    "    \n",
    "    def __init__(self,name,age):       <------------------ Constructor to initialize instance variables.\n",
    "        self.name=name\n",
    "        self.age=age\n",
    "@classmethod\n",
    "\n",
    "def change_school(cls,name):        <----------- cls refers to the class\n",
    "\n",
    "    print(student.school_name)      <------------ Access class variables\n",
    "    \n",
    "    student.school_name=name        <------------ Modify Class Variables\n",
    "    \n",
    "jessa=student('jessa',14)\n",
    "\n",
    "student.change_school('XYZ School') <----------- Call class method"
   ]
  },
  {
   "cell_type": "code",
   "execution_count": 3,
   "id": "8db79096",
   "metadata": {},
   "outputs": [
    {
     "name": "stdout",
     "output_type": "stream",
     "text": [
      "3.14\n",
      "harsh\n",
      "26\n"
     ]
    }
   ],
   "source": [
    "class Data:\n",
    "    num=3.14\n",
    "    name='harsh'\n",
    "    age=26\n",
    "    \n",
    "var=Data()\n",
    "print(var.num)\n",
    "print(var.name)\n",
    "print(var.age)\n"
   ]
  },
  {
   "cell_type": "code",
   "execution_count": 8,
   "id": "e7490599",
   "metadata": {},
   "outputs": [
    {
     "name": "stdout",
     "output_type": "stream",
     "text": [
      "Harsh\n",
      "24\n",
      "Pune\n",
      "harsh@rajpoor123gmail.com\n"
     ]
    }
   ],
   "source": [
    "class details:\n",
    "    def __init__(self,name,age,address,email):\n",
    "        self.name=name\n",
    "        self.age=age\n",
    "        self.address=address\n",
    "        self.email=email\n",
    "        \n",
    "value=details(\"Harsh\",24,'Pune','harsh@rajpoor123gmail.com')\n",
    "print(value.name)\n",
    "print(value.age)\n",
    "print(value.address)\n",
    "print(value.email)\n"
   ]
  },
  {
   "cell_type": "code",
   "execution_count": 17,
   "id": "d5843bcb",
   "metadata": {},
   "outputs": [
    {
     "name": "stdout",
     "output_type": "stream",
     "text": [
      "My name is: khriesezo\n",
      "I am 22 years old.\n",
      "You can contact me on Nagaland.\n",
      "You can mail me on khriesezo@gmail.com.\n"
     ]
    }
   ],
   "source": [
    "x=details('khriesezo',22,'Nagaland','khriesezo@gmail.com')\n",
    "x.msg_details()"
   ]
  },
  {
   "cell_type": "code",
   "execution_count": 15,
   "id": "b4a8412f",
   "metadata": {},
   "outputs": [
    {
     "name": "stdout",
     "output_type": "stream",
     "text": [
      "My name is: Harsh\n",
      "I am 24 years old.\n",
      "You can contact me on Pune.\n",
      "You can mail me on harsh@rajpoor123gmail.com.\n"
     ]
    }
   ],
   "source": [
    "class details:\n",
    "    def __init__(self,name,age,address,email):\n",
    "        self.name=name\n",
    "        self.age=age\n",
    "        self.address=address\n",
    "        self.email=email\n",
    "    def msg_details(self):\n",
    "        print(\"My name is:\",self.name)\n",
    "        print(f\"I am {self.age} years old.\")\n",
    "        print(f\"You can contact me on {self.address}.\")\n",
    "        print(f'You can mail me on {self.email}.')\n",
    "        \n",
    "value=details(\"Harsh\",24,'Pune','harsh@rajpoor123gmail.com')\n",
    "value.msg_details()"
   ]
  },
  {
   "cell_type": "code",
   "execution_count": null,
   "id": "c38db91b",
   "metadata": {},
   "outputs": [],
   "source": []
  }
 ],
 "metadata": {
  "kernelspec": {
   "display_name": "Python 3 (ipykernel)",
   "language": "python",
   "name": "python3"
  },
  "language_info": {
   "codemirror_mode": {
    "name": "ipython",
    "version": 3
   },
   "file_extension": ".py",
   "mimetype": "text/x-python",
   "name": "python",
   "nbconvert_exporter": "python",
   "pygments_lexer": "ipython3",
   "version": "3.9.13"
  }
 },
 "nbformat": 4,
 "nbformat_minor": 5
}
