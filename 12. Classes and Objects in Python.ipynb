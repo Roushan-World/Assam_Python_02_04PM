{
 "cells": [
  {
   "cell_type": "markdown",
   "id": "13845eb5",
   "metadata": {},
   "source": [
    "# 12. Classes and Objects in Python\n",
    "\n",
    "* __Python is an object-oriented programming language.__\n",
    "\n",
    "* __Unlike procedure-oriented programming, where the main emphasis is on functions, object-oriented programming stresses on objects.__\n",
    "* __An object is simply a collection of data(variables) and methods (functions) that act on those data.__\n",
    "* __Similarly, a class is a blueprint for that object.__\n",
    "* __Like function definitions begin with the def keyword in Python, class definitions begin with a class keyword.__\n",
    "* __The first string inside the class is called docstring and has s brief description of the class.__\n",
    "* __Although not mandatory, this is highly recommended.__"
   ]
  },
  {
   "cell_type": "markdown",
   "id": "85ba1e5a",
   "metadata": {},
   "source": [
    "class student:\n",
    "    school_name = 'ABC School'          <---------------- Class Variable\n",
    "    \n",
    "    def __init__(self,name,age):       <------------------ Constructor to initialize instance variables.\n",
    "        self.name=name\n",
    "        self.age=age\n",
    "@classmethod\n",
    "\n",
    "def change_school(cls,name):        <----------- cls refers to the class\n",
    "\n",
    "    print(student.school_name)      <------------ Access class variables\n",
    "    \n",
    "    student.school_name=name        <------------ Modify Class Variables\n",
    "    \n",
    "jessa=student('jessa',14)\n",
    "\n",
    "student.change_school('XYZ School') <----------- Call class method"
   ]
  },
  {
   "cell_type": "code",
   "execution_count": 3,
   "id": "8db79096",
   "metadata": {},
   "outputs": [
    {
     "name": "stdout",
     "output_type": "stream",
     "text": [
      "3.14\n",
      "harsh\n",
      "26\n"
     ]
    }
   ],
   "source": [
    "class Data:\n",
    "    num=3.14\n",
    "    name='harsh'\n",
    "    age=26\n",
    "    \n",
    "var=Data()\n",
    "print(var.num)\n",
    "print(var.name)\n",
    "print(var.age)\n"
   ]
  },
  {
   "cell_type": "code",
   "execution_count": 8,
   "id": "e7490599",
   "metadata": {},
   "outputs": [
    {
     "name": "stdout",
     "output_type": "stream",
     "text": [
      "Harsh\n",
      "24\n",
      "Pune\n",
      "harsh@rajpoor123gmail.com\n"
     ]
    }
   ],
   "source": [
    "class details:\n",
    "    def __init__(self,name,age,address,email):\n",
    "        self.name=name\n",
    "        self.age=age\n",
    "        self.address=address\n",
    "        self.email=email\n",
    "        \n",
    "value=details(\"Harsh\",24,'Pune','harsh@rajpoor123gmail.com')\n",
    "print(value.name)\n",
    "print(value.age)\n",
    "print(value.address)\n",
    "print(value.email)\n"
   ]
  },
  {
   "cell_type": "code",
   "execution_count": 17,
   "id": "d5843bcb",
   "metadata": {},
   "outputs": [
    {
     "name": "stdout",
     "output_type": "stream",
     "text": [
      "My name is: khriesezo\n",
      "I am 22 years old.\n",
      "You can contact me on Nagaland.\n",
      "You can mail me on khriesezo@gmail.com.\n"
     ]
    }
   ],
   "source": [
    "x=details('khriesezo',22,'Nagaland','khriesezo@gmail.com')\n",
    "x.msg_details()"
   ]
  },
  {
   "cell_type": "code",
   "execution_count": 15,
   "id": "b4a8412f",
   "metadata": {},
   "outputs": [
    {
     "name": "stdout",
     "output_type": "stream",
     "text": [
      "My name is: Harsh\n",
      "I am 24 years old.\n",
      "You can contact me on Pune.\n",
      "You can mail me on harsh@rajpoor123gmail.com.\n"
     ]
    }
   ],
   "source": [
    "class details:\n",
    "    def __init__(self,name,age,address,email):\n",
    "        self.name=name\n",
    "        self.age=age\n",
    "        self.address=address\n",
    "        self.email=email\n",
    "    def msg_details(self):\n",
    "        print(\"My name is:\",self.name)\n",
    "        print(f\"I am {self.age} years old.\")\n",
    "        print(f\"You can contact me on {self.address}.\")\n",
    "        print(f'You can mail me on {self.email}.')\n",
    "        \n",
    "value=details(\"Harsh\",24,'Pune','harsh@rajpoor123gmail.com')\n",
    "value.msg_details()"
   ]
  },
  {
   "cell_type": "code",
   "execution_count": 1,
   "id": "c38db91b",
   "metadata": {},
   "outputs": [],
   "source": [
    "# Write a Program with oops on animal"
   ]
  },
  {
   "cell_type": "code",
   "execution_count": null,
   "id": "7077814e",
   "metadata": {},
   "outputs": [],
   "source": []
  },
  {
   "cell_type": "code",
   "execution_count": 8,
   "id": "d8145126",
   "metadata": {},
   "outputs": [
    {
     "name": "stdout",
     "output_type": "stream",
     "text": [
      "10\n",
      "5\n",
      "blue\n"
     ]
    },
    {
     "data": {
      "image/png": "[encoded data removed]",
      "text/plain": [
       "<Figure size 640x480 with 1 Axes>"
      ]
     },
     "metadata": {},
     "output_type": "display_data"
    }
   ],
   "source": [
    "# import library to draw the Rectangle.\n",
    "\n",
    "import matplotlib.pyplot as plt\n",
    "\n",
    "%matplotlib inline\n",
    "\n",
    "# Creating a class to draw a Rectangle.\n",
    "\n",
    "class Rectangle(object):\n",
    "    \n",
    "    # Constructor\n",
    "    \n",
    "    def __init__ (self,width,height,color):  \n",
    "        self.width = width\n",
    "        self.height = height\n",
    "        self.color = color\n",
    "        \n",
    "    # method\n",
    "    def drawRectangle(self):\n",
    "        plt.gca().add_patch(plt.Rectangle((0,0), self.width,self.height,fc=self.color))\n",
    "        plt.axis('Scaled')\n",
    "        plt.show\n",
    "        \n",
    "# Creating an object.\n",
    "\n",
    "one_Rectangle=Rectangle(10,5,'blue')\n",
    "\n",
    "print(one_Rectangle.width)\n",
    "\n",
    "print(one_Rectangle.height)\n",
    "print(one_Rectangle.color)\n",
    "one_Rectangle.drawRectangle()"
   ]
  },
  {
   "cell_type": "code",
   "execution_count": 5,
   "id": "cd7fd65a",
   "metadata": {},
   "outputs": [
    {
     "ename": "TypeError",
     "evalue": "dragon() takes no arguments",
     "output_type": "error",
     "traceback": [
      "\u001b[1;31m---------------------------------------------------------------------------\u001b[0m",
      "\u001b[1;31mTypeError\u001b[0m                                 Traceback (most recent call last)",
      "\u001b[1;32m~\\AppData\\Local\\Temp\\ipykernel_13232\\1718016110.py\u001b[0m in \u001b[0;36m<module>\u001b[1;34m\u001b[0m\n\u001b[0;32m     19\u001b[0m         \u001b[0mprint\u001b[0m\u001b[1;33m(\u001b[0m\u001b[1;34mf'Dragons are {drag.liz}-like creatures'\u001b[0m\u001b[1;33m)\u001b[0m\u001b[1;33m\u001b[0m\u001b[1;33m\u001b[0m\u001b[0m\n\u001b[0;32m     20\u001b[0m         \u001b[0mprint\u001b[0m\u001b[1;33m(\u001b[0m\u001b[1;34mf'Dragons are very common in {drag.folk}'\u001b[0m\u001b[1;33m)\u001b[0m\u001b[1;33m\u001b[0m\u001b[1;33m\u001b[0m\u001b[0m\n\u001b[1;32m---> 21\u001b[1;33m \u001b[0mval\u001b[0m\u001b[1;33m=\u001b[0m\u001b[0mdragon\u001b[0m\u001b[1;33m(\u001b[0m\u001b[1;34m'Wings'\u001b[0m\u001b[1;33m,\u001b[0m\u001b[1;34m'Huge'\u001b[0m\u001b[1;33m,\u001b[0m\u001b[1;34m'Fire'\u001b[0m\u001b[1;33m,\u001b[0m\u001b[1;34m'Mythological Creature'\u001b[0m\u001b[1;33m,\u001b[0m\u001b[1;34m'Dangerous'\u001b[0m\u001b[1;33m,\u001b[0m\u001b[1;34m'Scales'\u001b[0m\u001b[1;33m,\u001b[0m\u001b[1;34m'Lizard'\u001b[0m\u001b[1;33m,\u001b[0m\u001b[1;34m'Folklore'\u001b[0m\u001b[1;33m)\u001b[0m\u001b[1;33m\u001b[0m\u001b[1;33m\u001b[0m\u001b[0m\n\u001b[0m\u001b[0;32m     22\u001b[0m \u001b[0mval\u001b[0m\u001b[1;33m.\u001b[0m\u001b[0mmsg_desc\u001b[0m\u001b[1;33m(\u001b[0m\u001b[1;33m)\u001b[0m\u001b[1;33m\u001b[0m\u001b[1;33m\u001b[0m\u001b[0m\n",
      "\u001b[1;31mTypeError\u001b[0m: dragon() takes no arguments"
     ]
    }
   ],
   "source": [
    "# WAP with OOPS on the dragon.\n",
    "class dragon:\n",
    "    def _init_(drag,wing,size,fire,myth,dang,scale,liz,folk):\n",
    "        drag.wing=wing\n",
    "        drag.size=size\n",
    "        drag.fire=fire\n",
    "        drag.myth=myth\n",
    "        drag.dang=dang\n",
    "        drag.scale=scale\n",
    "        drag.liz=liz\n",
    "        drag.folk=folk\n",
    "    def msg_desc(drag):\n",
    "        print('Dragons have',drag.wing)\n",
    "        print('The size of a dragon is',drag.size)\n",
    "        print('Dragons can breath',drag.fire)\n",
    "        print('The Dragon is a',drag.myth)\n",
    "        print(f'The Dragon is a {drag.dang} creature')\n",
    "        print(f'Dragons have {drag.scale} like snakes')\n",
    "        print(f'Dragons are {drag.liz}-like creatures')\n",
    "        print(f'Dragons are very common in {drag.folk}')\n",
    "val=dragon('Wings','Huge','Fire','Mythological Creature','Dangerous','Scales','Lizard','Folklore')\n",
    "val.msg_desc()"
   ]
  },
  {
   "cell_type": "code",
   "execution_count": 6,
   "id": "2e6f8198",
   "metadata": {},
   "outputs": [
    {
     "name": "stdout",
     "output_type": "stream",
     "text": [
      "Dragons have Wings\n",
      "The size of a dragon is Huge\n",
      "Dragons can breath Fire\n",
      "The Dragon is a Mythological Creature\n",
      "The Dragon is a Dangerous creature\n",
      "Dragons have Scales like snakes\n",
      "Dragons are Lizard-like creatures\n",
      "Dragons are very common in Folklore\n"
     ]
    }
   ],
   "source": [
    "# WAP with OOPS on the dragon.\n",
    "class dragon:\n",
    "    def __init__(drag,wing,size,fire,myth,dang,scale,liz,folk):\n",
    "        drag.wing=wing\n",
    "        drag.size=size\n",
    "        drag.fire=fire\n",
    "        drag.myth=myth\n",
    "        drag.dang=dang\n",
    "        drag.scale=scale\n",
    "        drag.liz=liz\n",
    "        drag.folk=folk\n",
    "    def msg_desc(drag):\n",
    "        print('Dragons have',drag.wing)\n",
    "        print('The size of a dragon is',drag.size)\n",
    "        print('Dragons can breath',drag.fire)\n",
    "        print('The Dragon is a',drag.myth)\n",
    "        print(f'The Dragon is a {drag.dang} creature')\n",
    "        print(f'Dragons have {drag.scale} like snakes')\n",
    "        print(f'Dragons are {drag.liz}-like creatures')\n",
    "        print(f'Dragons are very common in {drag.folk}')\n",
    "val=dragon('Wings','Huge','Fire','Mythological Creature','Dangerous','Scales','Lizard','Folklore')\n",
    "val.msg_desc()"
   ]
  },
  {
   "cell_type": "code",
   "execution_count": 7,
   "id": "c0ab2ccd",
   "metadata": {},
   "outputs": [
    {
     "name": "stdout",
     "output_type": "stream",
     "text": [
      "Horses are domestic animals.\n",
      "Horses are brown, white and black in color.\n",
      "Horses eat grass.\n",
      "Horses have 4 legs.\n",
      "Horses have long tail.\n",
      "Horses are used for transportation, entertainment and sports purposes.\n",
      "Horses are very loving and friendly to thier owner.\n"
     ]
    }
   ],
   "source": [
    "#WAP with oops on the horse.\n",
    "\n",
    "class horse:\n",
    "    def __init__(self,kind,color,food,legs,tail,use,friend):\n",
    "        self.kind=kind\n",
    "        self.color=color\n",
    "        self.food=food\n",
    "        self.legs=legs\n",
    "        self.tail=tail\n",
    "        self.use=use\n",
    "        self.friend=friend\n",
    "    def about(self):\n",
    "        print(f'Horses are {self.kind} animals.')\n",
    "        print(f'Horses are {self.color} in color.')\n",
    "        print(f'Horses eat {self.food}.')\n",
    "        print(f'Horses have {self.legs} legs.')\n",
    "        print(f'Horses have {self.tail} tail.')\n",
    "        print(f'Horses are used for {self.use} purposes.')\n",
    "        print(f'Horses are very {self.friend} to thier owner.')\n",
    "        \n",
    "value=horse('domestic','brown, white and black','grass',4,'long','transportation, entertainment and sports','loving and friendly')\n",
    "value.about()"
   ]
  },
  {
   "cell_type": "code",
   "execution_count": 9,
   "id": "08fda0dd",
   "metadata": {},
   "outputs": [
    {
     "data": {
      "image/png": "[encoded data removed]",
      "text/plain": [
       "<Figure size 640x480 with 1 Axes>"
      ]
     },
     "metadata": {},
     "output_type": "display_data"
    }
   ],
   "source": [
    "x=Rectangle(20,10,'yellow')\n",
    "x.drawRectangle()"
   ]
  },
  {
   "cell_type": "code",
   "execution_count": 10,
   "id": "430130e4",
   "metadata": {},
   "outputs": [
    {
     "data": {
      "image/png": "[encoded data removed]",
      "text/plain": [
       "<Figure size 640x480 with 1 Axes>"
      ]
     },
     "metadata": {},
     "output_type": "display_data"
    }
   ],
   "source": [
    "x=Rectangle(20,10,'red')\n",
    "x.drawRectangle()"
   ]
  },
  {
   "cell_type": "code",
   "execution_count": 11,
   "id": "ec7ff177",
   "metadata": {},
   "outputs": [],
   "source": [
    "class Polygon():\n",
    "    def __init__(self):\n",
    "        self.shape='Polygon'\n",
    "        self.side_length=None\n",
    "    def compute_perimeter(self):\n",
    "        return sum(self.side_length)\n",
    "    def get_number_of_edge(self):\n",
    "        return len(self.side_length)"
   ]
  },
  {
   "cell_type": "code",
   "execution_count": 12,
   "id": "fe95f03b",
   "metadata": {},
   "outputs": [],
   "source": [
    "class triangle(Polygon):\n",
    "    def __init__(self):\n",
    "        self.shape='triangle'\n",
    "        self.side_length=[2,2,2]"
   ]
  },
  {
   "cell_type": "code",
   "execution_count": 13,
   "id": "737c7c5e",
   "metadata": {},
   "outputs": [
    {
     "data": {
      "text/plain": [
       "6"
      ]
     },
     "execution_count": 13,
     "metadata": {},
     "output_type": "execute_result"
    }
   ],
   "source": [
    "t=triangle()\n",
    "t.compute_perimeter()"
   ]
  },
  {
   "cell_type": "markdown",
   "id": "7b7ec5ed",
   "metadata": {},
   "source": [
    "# Inheritance\n",
    "\n",
    "\n",
    " * __Single(simple) Inheritance:- Parent Class and Child class__\n",
    " * __Multilevel Inheritance:- Parent/Child Class- Child class__\n",
    " * __Multiple Inheritance :- parent class and Parent class---Child class.__\n",
    " * __Hierarchical Inheritance:- Parent Class ---Child class --- Child class.__"
   ]
  },
  {
   "cell_type": "markdown",
   "id": "e6ebe7fd",
   "metadata": {},
   "source": [
    "# Single Inheritance:- When child class is derived from only one parent class is called single inheritance."
   ]
  },
  {
   "cell_type": "code",
   "execution_count": 11,
   "id": "953c9e9d",
   "metadata": {},
   "outputs": [
    {
     "name": "stdout",
     "output_type": "stream",
     "text": [
      "Amazon is an Online commerce store.\n",
      "Flipkart is an Online Store.\n",
      "Olx is an Online Buy and Sell Store.\n"
     ]
    }
   ],
   "source": [
    "# Single Inhetiance\n",
    "\n",
    "class Brands:        # parent class\n",
    "    brand_name_1='Amazon'\n",
    "    brand_name_2='Flipkart'\n",
    "    brand_name_3='Olx'\n",
    "    \n",
    "class products(Brands):     # child class\n",
    "    prod_1='Online commerce store.'\n",
    "    prod_2='Online Store.'\n",
    "    prod_3='Online Buy and Sell Store.'\n",
    "    \n",
    "obj_1=products()\n",
    "print(obj_1.brand_name_1+' is an '+obj_1.prod_1)\n",
    "print(obj_1.brand_name_2+ ' is an '+obj_1.prod_2)\n",
    "print(obj_1.brand_name_3+' is an '+obj_1.prod_3)\n"
   ]
  },
  {
   "cell_type": "markdown",
   "id": "690875f3",
   "metadata": {},
   "source": [
    "# Multiple Inheritance: When a child class is derived or inherited from more than one parent class is called multiple inheritance.\n",
    "\n",
    " * __In this multiple Inheritance, Whe have two parent class/base classes and one child class that inherits both parent and classes properties.__"
   ]
  },
  {
   "cell_type": "code",
   "execution_count": 14,
   "id": "e1dd5ab5",
   "metadata": {},
   "outputs": [
    {
     "name": "stdout",
     "output_type": "stream",
     "text": [
      "Amazon is an Online commerce store and its popularity is 100\n",
      "Flipkart is an Online Store and its popularity is 80\n",
      "Olx is an Online Buy and Sell Store and its popularity is 150\n"
     ]
    }
   ],
   "source": [
    "# Multiple Inheritance\n",
    "\n",
    "class Brands:        # parent class\n",
    "    brand_name_1='Amazon'\n",
    "    brand_name_2='Flipkart'\n",
    "    brand_name_3='Olx'\n",
    "    \n",
    "class products:     # parent class\n",
    "    prod_1='Online commerce store'\n",
    "    prod_2='Online Store'\n",
    "    prod_3='Online Buy and Sell Store'\n",
    "    \n",
    "    \n",
    "class popularity(Brands,products):  # child class\n",
    "    popularity_1='100'\n",
    "    popularity_2='80'\n",
    "    popularity_3='150' \n",
    "    \n",
    "obj_1=popularity()\n",
    "print(obj_1.brand_name_1+' is an '+obj_1.prod_1+' and its popularity is '+obj_1.popularity_1)\n",
    "print(obj_1.brand_name_2+ ' is an '+obj_1.prod_2+ ' and its popularity is '+obj_1.popularity_2)\n",
    "print(obj_1.brand_name_3+' is an '+obj_1.prod_3+' and its popularity is '+obj_1.popularity_3)"
   ]
  },
  {
   "cell_type": "markdown",
   "id": "5801ef8c",
   "metadata": {},
   "source": [
    "# Multilevel Inheritance: In Multilevel Inheritance We have one parent class and Child class that is derived or inherited from parent class. When we have grand child class is derived from a child class."
   ]
  },
  {
   "cell_type": "code",
   "execution_count": 32,
   "id": "2b573467",
   "metadata": {},
   "outputs": [
    {
     "name": "stdout",
     "output_type": "stream",
     "text": [
      "Amazon is an Online commerce store and its popularity is 100\n",
      "Flipkart is an Online Store and its popularity is 80\n",
      "Olx is an Online Buy and Sell Store and its popularity is 150\n"
     ]
    }
   ],
   "source": [
    "# Multilevel inheritance\n",
    "\n",
    "class Brands:        # grand parent class\n",
    "    brand_name_1='Amazon'\n",
    "    brand_name_2='Flipkart'\n",
    "    brand_name_3='Olx'\n",
    "    \n",
    "class products(Brands):     # parent child class\n",
    "    prod_1='Online commerce store'\n",
    "    prod_2='Online Store'\n",
    "    prod_3='Online Buy and Sell Store'\n",
    "    \n",
    "    \n",
    "class popularity(products):  # child class\n",
    "    popularity_1='100'\n",
    "    popularity_2='80'\n",
    "    popularity_3='150' \n",
    "    \n",
    "obj_1=popularity()\n",
    "\n",
    "print(obj_1.brand_name_1+' is an '+obj_1.prod_1+' and its popularity is '+obj_1.popularity_1)\n",
    "print(obj_1.brand_name_2+ ' is an '+obj_1.prod_2+' and its popularity is '+obj_1.popularity_2)\n",
    "print(obj_1.brand_name_3+ ' is an '+obj_1.prod_3+' and its popularity is '+obj_1.popularity_3)"
   ]
  },
  {
   "cell_type": "markdown",
   "id": "c6c8184e",
   "metadata": {},
   "source": [
    "# Hierarchical Inheritance: When class derived or inherits more than one child class from one parent(same) class. Then this type inheritance is called Hierarchical Inheritance."
   ]
  },
  {
   "cell_type": "code",
   "execution_count": 34,
   "id": "623f83b3",
   "metadata": {},
   "outputs": [
    {
     "name": "stdout",
     "output_type": "stream",
     "text": [
      "Amazon is an Online commerce store and its popularity is 100 its value isBest value\n",
      "Flipkart is an Online Store and its popularity is 80 its value isBetter value\n",
      "Olx is an Online Buy and Sell Store and its popularity is 150 its value is Good value\n"
     ]
    }
   ],
   "source": [
    "class Brands:        # parent class\n",
    "    brand_name_1='Amazon'\n",
    "    brand_name_2='Flipkart'\n",
    "    brand_name_3='Olx'\n",
    "    \n",
    "class products(Brands):     # child class\n",
    "    prod_1='Online commerce store'\n",
    "    prod_2='Online Store'\n",
    "    prod_3='Online Buy and Sell Store'\n",
    "    \n",
    "    \n",
    "class popularity(Brands):  # child class\n",
    "    popularity_1='100'\n",
    "    popularity_2='80'\n",
    "    popularity_3='150'\n",
    "    \n",
    "class value(Brands):\n",
    "    prod_value_1='Best value'\n",
    "    prod_value_2='Better value'\n",
    "    prod_value_3='Good value'\n",
    "    \n",
    "obj_1=popularity()\n",
    "obj_2=products()\n",
    "obj_3=value()\n",
    "\n",
    "print(obj_1.brand_name_1+' is an '+obj_2.prod_1+' and its popularity is '+obj_1.popularity_1+' its value is'+obj_3.prod_value_1)\n",
    "print(obj_1.brand_name_2+ ' is an '+obj_2.prod_2+' and its popularity is '+obj_1.popularity_2+' its value is'+obj_3.prod_value_2)\n",
    "print(obj_1.brand_name_3+ ' is an '+obj_2.prod_3+' and its popularity is '+obj_1.popularity_3+' its value is '+obj_3.prod_value_3)"
   ]
  },
  {
   "cell_type": "markdown",
   "id": "3aabb776",
   "metadata": {},
   "source": [
    "# 4 methods of oops concept:\n",
    "\n",
    " * __1. Inheritance.__\n",
    " * __2.Polymorphism__\n",
    " * __3.Encapsulation__\n",
    " * __4. Abstraction__\n",
    " "
   ]
  },
  {
   "cell_type": "markdown",
   "id": "9ac4c486",
   "metadata": {},
   "source": [
    "* __1. Inheritance(Mom and Daughter): Some property of mom inherits by her daughter.__\n",
    "\n",
    "* __2. Polymorphism: Ex: In school behave like a Student, In home behave like a son or daughter, In Bus behave like a passenger, In shop behave like a Customer, In hospital behave like a patients.__\n",
    "\n",
    "* __3. Encapsulation:- School bag can keep book, pencils, pen, sharpner, eraser etc.__\n",
    "\n",
    "* __4. Abstraction:- ATM: Check Balance, Deposite Cash, Withdraw Cash, print Statement.__\n",
    "\n",
    "\n",
    " * __Object: Instace of class.__\n",
    " * __class: blue print of object.__\n",
    " * __Encapsulation: Protecting our data.__\n",
    " * __Polymorphism: Different behaviour of different instance.__\n",
    " * __Abstraction: Hiding our Irrelevant data.__"
   ]
  },
  {
   "cell_type": "code",
   "execution_count": 1,
   "id": "4db0a8fb",
   "metadata": {},
   "outputs": [
    {
     "name": "stdout",
     "output_type": "stream",
     "text": [
      "Hello World\n"
     ]
    }
   ],
   "source": [
    "print('Hello World')"
   ]
  },
  {
   "cell_type": "code",
   "execution_count": null,
   "id": "2ee3cf41",
   "metadata": {},
   "outputs": [],
   "source": []
  }
 ],
 "metadata": {
  "kernelspec": {
   "display_name": "Python 3 (ipykernel)",
   "language": "python",
   "name": "python3"
  },
  "language_info": {
   "codemirror_mode": {
    "name": "ipython",
    "version": 3
   },
   "file_extension": ".py",
   "mimetype": "text/x-python",
   "name": "python",
   "nbconvert_exporter": "python",
   "pygments_lexer": "ipython3",
   "version": "3.9.13"
  }
 },
 "nbformat": 4,
 "nbformat_minor": 5
}
