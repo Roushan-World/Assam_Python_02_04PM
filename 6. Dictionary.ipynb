{
 "cells": [
  {
   "cell_type": "markdown",
   "id": "b5da049a",
   "metadata": {},
   "source": [
    "# 6.Dictionary in Python\n",
    "\n",
    "\n",
    " * __Dictionaries are used to store data values in Kye:Values pairs.__\n",
    "\n",
    "* __A dicitonary is a collection which is ordered, changeable or mutable and do not allow duplicates.__\n",
    "\n",
    "* __Dictionary items are ordered, changeable, and does not allow duplicates.__\n",
    "\n",
    "* __Dictionary items are presented in key:value pairs, and can be referred to by using the key name.__\n",
    "\n",
    "* __Dictionary are changeable, meaning that we can change, add or remove items after the dictionary has been created.__\n",
    "\n",
    "* __Dicitionaries cannot have two items with the same key.__\n",
    "\n",
    "* __A dictionary can nested and can contain another dictionary.__\n",
    "\n",
    "                  * __Keys-----------------------Values__\n",
    "                  'name'--------------------> 'Bob'\n",
    "                  'age'---------------------> 45\n",
    "                  'job'---------------------> 'Backend Developer'\n",
    "                  'city'-------------------->'Pune'\n",
    "                  'email'------------------->'bob@hotmail.com'"
   ]
  },
  {
   "cell_type": "code",
   "execution_count": 1,
   "id": "0b69ea41",
   "metadata": {},
   "outputs": [
    {
     "data": {
      "text/plain": [
       "{}"
      ]
     },
     "execution_count": 1,
     "metadata": {},
     "output_type": "execute_result"
    }
   ],
   "source": [
    "x={}\n",
    "x"
   ]
  },
  {
   "cell_type": "code",
   "execution_count": 2,
   "id": "a0f9b28b",
   "metadata": {},
   "outputs": [
    {
     "data": {
      "text/plain": [
       "dict"
      ]
     },
     "execution_count": 2,
     "metadata": {},
     "output_type": "execute_result"
    }
   ],
   "source": [
    "type(x)"
   ]
  },
  {
   "cell_type": "code",
   "execution_count": 4,
   "id": "431321be",
   "metadata": {},
   "outputs": [
    {
     "data": {
      "text/plain": [
       "{'Key_1': 100,\n",
       " 1: 'Harsh',\n",
       " 'Key_2': 3.14,\n",
       " 'Key_3': True,\n",
       " 'Key_4': False,\n",
       " 'Key_5': ['krrish', 3.14]}"
      ]
     },
     "execution_count": 4,
     "metadata": {},
     "output_type": "execute_result"
    }
   ],
   "source": [
    "sample_dict={'Key_1':100,1:'Harsh','Key_2':3.14,\n",
    "            'Key_3':True,'Key_4':False,'Key_5':['krrish',3.14]}\n",
    "sample_dict"
   ]
  },
  {
   "cell_type": "code",
   "execution_count": 5,
   "id": "ec613da8",
   "metadata": {},
   "outputs": [
    {
     "name": "stdout",
     "output_type": "stream",
     "text": [
      "<class 'dict'>\n"
     ]
    }
   ],
   "source": [
    "print(type(sample_dict))"
   ]
  },
  {
   "cell_type": "code",
   "execution_count": 7,
   "id": "4e905e73",
   "metadata": {},
   "outputs": [
    {
     "data": {
      "text/plain": [
       "dict_keys(['Key_1', 1, 'Key_2', 'Key_3', 'Key_4', 'Key_5'])"
      ]
     },
     "execution_count": 7,
     "metadata": {},
     "output_type": "execute_result"
    }
   ],
   "source": [
    "sample_dict.keys()"
   ]
  },
  {
   "cell_type": "code",
   "execution_count": 8,
   "id": "a2fb004e",
   "metadata": {},
   "outputs": [
    {
     "data": {
      "text/plain": [
       "dict_values([100, 'Harsh', 3.14, True, False, ['krrish', 3.14]])"
      ]
     },
     "execution_count": 8,
     "metadata": {},
     "output_type": "execute_result"
    }
   ],
   "source": [
    "sample_dict.values()"
   ]
  },
  {
   "cell_type": "code",
   "execution_count": null,
   "id": "cc9eb247",
   "metadata": {},
   "outputs": [],
   "source": []
  }
 ],
 "metadata": {
  "kernelspec": {
   "display_name": "Python 3 (ipykernel)",
   "language": "python",
   "name": "python3"
  },
  "language_info": {
   "codemirror_mode": {
    "name": "ipython",
    "version": 3
   },
   "file_extension": ".py",
   "mimetype": "text/x-python",
   "name": "python",
   "nbconvert_exporter": "python",
   "pygments_lexer": "ipython3",
   "version": "3.9.13"
  }
 },
 "nbformat": 4,
 "nbformat_minor": 5
}
