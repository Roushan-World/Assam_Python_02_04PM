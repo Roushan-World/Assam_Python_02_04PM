{
 "cells": [
  {
   "cell_type": "code",
   "execution_count": 2,
   "id": "da1a9e08",
   "metadata": {},
   "outputs": [
    {
     "name": "stdout",
     "output_type": "stream",
     "text": [
      "Dragons have Wings\n",
      "The size of a dragon is Huge\n",
      "Dragons can breath Fire\n",
      "The Dragon is a Mythological Creature\n",
      "The Dragon is a Dangerous creature\n",
      "Dragons have Scales like snakes\n",
      "Dragons are Lizard-like creatures\n",
      "Dragons are very common in Folklore\n"
     ]
    }
   ],
   "source": [
    "# WAP with OOPS on the dragon.\n",
    "class dragon:\n",
    "    def __init__(drag,wing,size,fire,myth,dang,scale,liz,folk):\n",
    "        drag.wing=wing\n",
    "        drag.size=size\n",
    "        drag.fire=fire\n",
    "        drag.myth=myth\n",
    "        drag.dang=dang\n",
    "        drag.scale=scale\n",
    "        drag.liz=liz\n",
    "        drag.folk=folk\n",
    "    def msg_desc(drag):\n",
    "        print('Dragons have',drag.wing)\n",
    "        print('The size of a dragon is',drag.size)\n",
    "        print('Dragons can breath',drag.fire)\n",
    "        print('The Dragon is a',drag.myth)\n",
    "        print(f'The Dragon is a {drag.dang} creature')\n",
    "        print(f'Dragons have {drag.scale} like snakes')\n",
    "        print(f'Dragons are {drag.liz}-like creatures')\n",
    "        print(f'Dragons are very common in {drag.folk}')\n",
    "val=dragon('Wings','Huge','Fire','Mythological Creature','Dangerous','Scales','Lizard','Folklore')\n",
    "val.msg_desc()"
   ]
  },
  {
   "cell_type": "code",
   "execution_count": null,
   "id": "f6f57a08",
   "metadata": {},
   "outputs": [],
   "source": []
  }
 ],
 "metadata": {
  "kernelspec": {
   "display_name": "Python 3 (ipykernel)",
   "language": "python",
   "name": "python3"
  },
  "language_info": {
   "codemirror_mode": {
    "name": "ipython",
    "version": 3
   },
   "file_extension": ".py",
   "mimetype": "text/x-python",
   "name": "python",
   "nbconvert_exporter": "python",
   "pygments_lexer": "ipython3",
   "version": "3.9.13"
  }
 },
 "nbformat": 4,
 "nbformat_minor": 5
}
