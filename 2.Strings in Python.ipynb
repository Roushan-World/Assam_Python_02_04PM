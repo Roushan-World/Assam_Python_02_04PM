{
 "cells": [
  {
   "cell_type": "markdown",
   "id": "5990e7d2",
   "metadata": {},
   "source": [
    "# 2. Strings."
   ]
  },
  {
   "cell_type": "code",
   "execution_count": 1,
   "id": "7c5fcb6b",
   "metadata": {},
   "outputs": [
    {
     "data": {
      "text/plain": [
       "'Hello World'"
      ]
     },
     "execution_count": 1,
     "metadata": {},
     "output_type": "execute_result"
    }
   ],
   "source": [
    "\"Hello World\""
   ]
  },
  {
   "cell_type": "code",
   "execution_count": 2,
   "id": "b9d5127f",
   "metadata": {},
   "outputs": [
    {
     "data": {
      "text/plain": [
       "'hi, Python'"
      ]
     },
     "execution_count": 2,
     "metadata": {},
     "output_type": "execute_result"
    }
   ],
   "source": [
    "'hi, Python'"
   ]
  },
  {
   "cell_type": "code",
   "execution_count": 3,
   "id": "ea8de1d5",
   "metadata": {},
   "outputs": [
    {
     "data": {
      "text/plain": [
       "'1 2 3 4 5 6'"
      ]
     },
     "execution_count": 3,
     "metadata": {},
     "output_type": "execute_result"
    }
   ],
   "source": [
    "'1 2 3 4 5 6'"
   ]
  },
  {
   "cell_type": "code",
   "execution_count": 4,
   "id": "886f6c62",
   "metadata": {},
   "outputs": [
    {
     "data": {
      "text/plain": [
       "'# $ % ^ &'"
      ]
     },
     "execution_count": 4,
     "metadata": {},
     "output_type": "execute_result"
    }
   ],
   "source": [
    "'# $ % ^ &'"
   ]
  },
  {
   "cell_type": "code",
   "execution_count": 9,
   "id": "96afe331",
   "metadata": {},
   "outputs": [
    {
     "name": "stdout",
     "output_type": "stream",
     "text": [
      "\\\\\n"
     ]
    }
   ],
   "source": [
    "print('\\\\\\\\')"
   ]
  },
  {
   "cell_type": "code",
   "execution_count": 12,
   "id": "9d45f39d",
   "metadata": {},
   "outputs": [
    {
     "name": "stdout",
     "output_type": "stream",
     "text": [
      "Hello\n",
      "World\n"
     ]
    }
   ],
   "source": [
    "print('Hello\\nWorld')   #newline"
   ]
  },
  {
   "cell_type": "code",
   "execution_count": 14,
   "id": "a0be1975",
   "metadata": {},
   "outputs": [
    {
     "name": "stdout",
     "output_type": "stream",
     "text": [
      "Hi,\n",
      "python\n"
     ]
    }
   ],
   "source": [
    "print('Hi,\\npython')"
   ]
  },
  {
   "cell_type": "code",
   "execution_count": 17,
   "id": "d3c42ad3",
   "metadata": {},
   "outputs": [
    {
     "name": "stdout",
     "output_type": "stream",
     "text": [
      "Hello\\\\World\n"
     ]
    }
   ],
   "source": [
    "print('Hello\\\\\\\\World')"
   ]
  },
  {
   "cell_type": "code",
   "execution_count": 18,
   "id": "00089f75",
   "metadata": {},
   "outputs": [
    {
     "name": "stdout",
     "output_type": "stream",
     "text": [
      "Hello\tWorld\n"
     ]
    }
   ],
   "source": [
    "print('Hello\\tWorld')"
   ]
  },
  {
   "cell_type": "markdown",
   "id": "4383a7ed",
   "metadata": {},
   "source": [
    "# Indexing of a string."
   ]
  },
  {
   "cell_type": "code",
   "execution_count": 31,
   "id": "2223d7e0",
   "metadata": {},
   "outputs": [
    {
     "name": "stdout",
     "output_type": "stream",
     "text": [
      "h\n",
      "e\n",
      "l\n",
      "l\n",
      "o\n",
      " \n",
      "W\n",
      "o\n",
      "r\n",
      "l\n",
      "d\n"
     ]
    }
   ],
   "source": [
    "x='hello World'\n",
    "\n",
    "# Positive indexing\n",
    "print(x[0])\n",
    "print(x[1])\n",
    "print(x[2])\n",
    "print(x[3])\n",
    "print(x[4])\n",
    "print(x[5])\n",
    "print(x[6])\n",
    "print(x[7])\n",
    "print(x[8])\n",
    "print(x[9])\n",
    "print(x[10])"
   ]
  },
  {
   "cell_type": "code",
   "execution_count": 32,
   "id": "d5030f8a",
   "metadata": {},
   "outputs": [
    {
     "data": {
      "text/plain": [
       "11"
      ]
     },
     "execution_count": 32,
     "metadata": {},
     "output_type": "execute_result"
    }
   ],
   "source": [
    "# To find the total length of any element.\n",
    "\n",
    "len(x)"
   ]
  },
  {
   "cell_type": "code",
   "execution_count": 35,
   "id": "324887ea",
   "metadata": {},
   "outputs": [
    {
     "name": "stdout",
     "output_type": "stream",
     "text": [
      "d\n",
      "l\n",
      "r\n",
      "o\n",
      "W\n",
      " \n",
      "o\n",
      "l\n",
      "l\n",
      "e\n",
      "h\n"
     ]
    }
   ],
   "source": [
    "# Negative indexing\n",
    "\n",
    "\n",
    "print(x[-1])\n",
    "print(x[-2])\n",
    "print(x[-3])\n",
    "print(x[-4])\n",
    "print(x[-5])\n",
    "print(x[-6])\n",
    "print(x[-7])\n",
    "print(x[-8])\n",
    "print(x[-9])\n",
    "print(x[-10])\n",
    "print(x[-11])"
   ]
  },
  {
   "cell_type": "markdown",
   "id": "5905dbeb",
   "metadata": {},
   "source": [
    "# Slicing"
   ]
  },
  {
   "cell_type": "code",
   "execution_count": 40,
   "id": "202a258d",
   "metadata": {},
   "outputs": [
    {
     "data": {
      "text/plain": [
       "'Hello'"
      ]
     },
     "execution_count": 40,
     "metadata": {},
     "output_type": "execute_result"
    }
   ],
   "source": [
    "x= 'Hello World'\n",
    "x[0:5]"
   ]
  },
  {
   "cell_type": "code",
   "execution_count": 41,
   "id": "b3c79e70",
   "metadata": {},
   "outputs": [
    {
     "name": "stdout",
     "output_type": "stream",
     "text": [
      "World\n"
     ]
    }
   ],
   "source": [
    "print(x[6:11])"
   ]
  },
  {
   "cell_type": "code",
   "execution_count": 42,
   "id": "0c744bf7",
   "metadata": {},
   "outputs": [
    {
     "data": {
      "text/plain": [
       "'Hello World'"
      ]
     },
     "execution_count": 42,
     "metadata": {},
     "output_type": "execute_result"
    }
   ],
   "source": [
    "x"
   ]
  },
  {
   "cell_type": "code",
   "execution_count": 46,
   "id": "f5cfdf32",
   "metadata": {},
   "outputs": [
    {
     "name": "stdout",
     "output_type": "stream",
     "text": [
      "Hello World\n",
      "Hello World\n",
      "Hello World\n",
      "Hello World\n"
     ]
    }
   ],
   "source": [
    "print(x)\n",
    "print(x[:])\n",
    "print(x[0:])\n",
    "print(x[:100])"
   ]
  },
  {
   "cell_type": "code",
   "execution_count": 52,
   "id": "d3a3d96b",
   "metadata": {},
   "outputs": [
    {
     "name": "stdout",
     "output_type": "stream",
     "text": [
      "HloWrd\n",
      "Hor\n"
     ]
    }
   ],
   "source": [
    "'1 2 3 4 5 6 7 8 9 10'\n",
    "\n",
    "y='Hello World'\n",
    "\n",
    "print(y[0:11:2])\n",
    "print(y[::4])"
   ]
  },
  {
   "cell_type": "markdown",
   "id": "93a015ac",
   "metadata": {},
   "source": [
    "# Concatenation"
   ]
  },
  {
   "cell_type": "code",
   "execution_count": 58,
   "id": "b47db0df",
   "metadata": {},
   "outputs": [
    {
     "name": "stdout",
     "output_type": "stream",
     "text": [
      "harsh\n",
      " gupta\n",
      "harsh gupta\n"
     ]
    }
   ],
   "source": [
    "first='harsh'\n",
    "lastname=' gupta'\n",
    "print(first)\n",
    "print(lastname)\n",
    "\n",
    "z=first+lastname\n",
    "print(z)"
   ]
  },
  {
   "cell_type": "code",
   "execution_count": 59,
   "id": "3cad01ed",
   "metadata": {},
   "outputs": [
    {
     "name": "stdout",
     "output_type": "stream",
     "text": [
      "Harsh Gupta\n"
     ]
    }
   ],
   "source": [
    "print('Harsh '+'Gupta')"
   ]
  },
  {
   "cell_type": "markdown",
   "id": "9d85e7dd",
   "metadata": {},
   "source": [
    "# String operatons"
   ]
  },
  {
   "cell_type": "code",
   "execution_count": 69,
   "id": "d53367e1",
   "metadata": {},
   "outputs": [
    {
     "name": "stdout",
     "output_type": "stream",
     "text": [
      "Harsh gupta\n",
      "HARSH GUPTA\n",
      "harsh gupta\n",
      "1\n",
      "0\n"
     ]
    }
   ],
   "source": [
    "y='harsh gupta'\n",
    "print(y.capitalize())\n",
    "\n",
    "#upper case\n",
    "print(y.upper())\n",
    "\n",
    "\n",
    "# lower case\n",
    "print(y.lower())\n",
    "\n",
    "# count method\n",
    "\n",
    "print(y.count('s'))\n",
    "\n",
    "#index\n",
    "\n",
    "print(y.index('h'))"
   ]
  },
  {
   "cell_type": "code",
   "execution_count": 67,
   "id": "78172507",
   "metadata": {},
   "outputs": [
    {
     "data": {
      "text/plain": [
       "33"
      ]
     },
     "execution_count": 67,
     "metadata": {},
     "output_type": "execute_result"
    }
   ],
   "source": [
    "z=\"Elon Reeve Musk (/ˈiːlɒn/ EE-lon; born June 28, 1971) is a business magnate and investor. He is the founder, CEO, and chief engineer of SpaceX; angel investor, CEO and product architect of Tesla, Inc.; owner and CTO of Twitter; founder of the Boring Company; co-founder of Neuralink and OpenAI; and president of the philanthropic Musk Foundation. Musk is the wealthiest person in the world, with an estimated net worth, as of July 12, 2023, of around US$239 billion according to the Bloomberg Billionaires Index and $248.8 billion according to Forbes's Real Time Billionaires list, primarily from his ownership stakes in Tesla and SpaceX.[4][5][6]\"\n",
    "z.count('a')"
   ]
  },
  {
   "cell_type": "code",
   "execution_count": 2,
   "id": "be797519",
   "metadata": {},
   "outputs": [
    {
     "name": "stdout",
     "output_type": "stream",
     "text": [
      "18/7/2023\n",
      "18-7-2023\n"
     ]
    }
   ],
   "source": [
    "# Replace\n",
    "x = '18/7/2023'   #18-7-2023\n",
    "\n",
    "y= x.replace('/','-')\n",
    "\n",
    "print(x)\n",
    "print(y)\n"
   ]
  },
  {
   "cell_type": "code",
   "execution_count": 4,
   "id": "32cc1df1",
   "metadata": {},
   "outputs": [
    {
     "name": "stdout",
     "output_type": "stream",
     "text": [
      "['18', '07', '2023']\n"
     ]
    }
   ],
   "source": [
    "# split\n",
    "z= '18/07/2023'\n",
    "\n",
    "b=z.split('/')\n",
    "print(b)"
   ]
  },
  {
   "cell_type": "code",
   "execution_count": 10,
   "id": "8fb79386",
   "metadata": {},
   "outputs": [
    {
     "data": {
      "text/plain": [
       "True"
      ]
     },
     "execution_count": 10,
     "metadata": {},
     "output_type": "execute_result"
    }
   ],
   "source": [
    "x = 'abc123456'\n",
    "\n",
    "x.isalnum()\n"
   ]
  },
  {
   "cell_type": "code",
   "execution_count": 12,
   "id": "2e798137",
   "metadata": {},
   "outputs": [
    {
     "data": {
      "text/plain": [
       "True"
      ]
     },
     "execution_count": 12,
     "metadata": {},
     "output_type": "execute_result"
    }
   ],
   "source": [
    "z = '12346'\n",
    "z.isnumeric()"
   ]
  },
  {
   "cell_type": "code",
   "execution_count": 14,
   "id": "9cb2d390",
   "metadata": {},
   "outputs": [
    {
     "data": {
      "text/plain": [
       "False"
      ]
     },
     "execution_count": 14,
     "metadata": {},
     "output_type": "execute_result"
    }
   ],
   "source": [
    "y = 'Harsh'\n",
    "\n",
    "y.islower()"
   ]
  },
  {
   "cell_type": "code",
   "execution_count": 16,
   "id": "d1b728ae",
   "metadata": {},
   "outputs": [
    {
     "data": {
      "text/plain": [
       "True"
      ]
     },
     "execution_count": 16,
     "metadata": {},
     "output_type": "execute_result"
    }
   ],
   "source": [
    "z = 'KRRISH'\n",
    "z.isupper()"
   ]
  },
  {
   "cell_type": "code",
   "execution_count": null,
   "id": "6bcc5cca",
   "metadata": {},
   "outputs": [],
   "source": []
  }
 ],
 "metadata": {
  "kernelspec": {
   "display_name": "Python 3 (ipykernel)",
   "language": "python",
   "name": "python3"
  },
  "language_info": {
   "codemirror_mode": {
    "name": "ipython",
    "version": 3
   },
   "file_extension": ".py",
   "mimetype": "text/x-python",
   "name": "python",
   "nbconvert_exporter": "python",
   "pygments_lexer": "ipython3",
   "version": "3.9.13"
  }
 },
 "nbformat": 4,
 "nbformat_minor": 5
}
