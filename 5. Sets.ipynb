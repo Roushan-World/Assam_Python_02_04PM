{
 "cells": [
  {
   "cell_type": "markdown",
   "id": "98f299f6",
   "metadata": {},
   "source": [
    "# 5. Sets in Python\n",
    "\n",
    " * __Set is one of 4 build- in data type in Python used to store collections of data including List, Tuple, and Dictionary.__\n",
    " * __Sets are unordered, but you can remove item and add new items.__\n",
    " * __Set elements are unique. Duplicate elements are not allowed.__\n",
    " * __A set itself may be modified, but the elements contained in the set must be of an immutable type.__\n",
    " * __Sets are used to store mutliple items in a single variable.__\n",
    " * __You can denote a set with a pair of curly brackets {}.__"
   ]
  },
  {
   "cell_type": "code",
   "execution_count": 1,
   "id": "be799289",
   "metadata": {},
   "outputs": [
    {
     "data": {
      "text/plain": [
       "['Hello World', 3.14, True, False, 'Hello World', 3.14, True, False]"
      ]
     },
     "execution_count": 1,
     "metadata": {},
     "output_type": "execute_result"
    }
   ],
   "source": [
    "x=['Hello World',3.14,True,False,'Hello World',3.14,True,False]\n",
    "x"
   ]
  },
  {
   "cell_type": "code",
   "execution_count": 2,
   "id": "f1595091",
   "metadata": {},
   "outputs": [
    {
     "data": {
      "text/plain": [
       "list"
      ]
     },
     "execution_count": 2,
     "metadata": {},
     "output_type": "execute_result"
    }
   ],
   "source": [
    "type(x)"
   ]
  },
  {
   "cell_type": "code",
   "execution_count": 3,
   "id": "eabb2e82",
   "metadata": {},
   "outputs": [
    {
     "data": {
      "text/plain": [
       "{3.14, False, 'Hello World', True}"
      ]
     },
     "execution_count": 3,
     "metadata": {},
     "output_type": "execute_result"
    }
   ],
   "source": [
    "y=set(x)\n",
    "y"
   ]
  },
  {
   "cell_type": "code",
   "execution_count": 4,
   "id": "b9cda2ff",
   "metadata": {},
   "outputs": [
    {
     "data": {
      "text/plain": [
       "{}"
      ]
     },
     "execution_count": 4,
     "metadata": {},
     "output_type": "execute_result"
    }
   ],
   "source": [
    "x={}\n",
    "x"
   ]
  },
  {
   "cell_type": "code",
   "execution_count": 5,
   "id": "14ca1f74",
   "metadata": {},
   "outputs": [
    {
     "data": {
      "text/plain": [
       "dict"
      ]
     },
     "execution_count": 5,
     "metadata": {},
     "output_type": "execute_result"
    }
   ],
   "source": [
    "type(x)"
   ]
  },
  {
   "cell_type": "code",
   "execution_count": 6,
   "id": "b481b564",
   "metadata": {},
   "outputs": [
    {
     "data": {
      "text/plain": [
       "set()"
      ]
     },
     "execution_count": 6,
     "metadata": {},
     "output_type": "execute_result"
    }
   ],
   "source": [
    "x1=set()\n",
    "x1"
   ]
  },
  {
   "cell_type": "code",
   "execution_count": 7,
   "id": "f0bd56a3",
   "metadata": {},
   "outputs": [
    {
     "data": {
      "text/plain": [
       "set"
      ]
     },
     "execution_count": 7,
     "metadata": {},
     "output_type": "execute_result"
    }
   ],
   "source": [
    "type(x1)"
   ]
  },
  {
   "cell_type": "code",
   "execution_count": 8,
   "id": "978e7c9e",
   "metadata": {},
   "outputs": [
    {
     "data": {
      "text/plain": [
       "{1, 2, 3}"
      ]
     },
     "execution_count": 8,
     "metadata": {},
     "output_type": "execute_result"
    }
   ],
   "source": [
    "x2={1,2,3}\n",
    "x2"
   ]
  },
  {
   "cell_type": "code",
   "execution_count": 9,
   "id": "a3affcad",
   "metadata": {},
   "outputs": [
    {
     "data": {
      "text/plain": [
       "set"
      ]
     },
     "execution_count": 9,
     "metadata": {},
     "output_type": "execute_result"
    }
   ],
   "source": [
    "type(x2)"
   ]
  },
  {
   "cell_type": "code",
   "execution_count": 10,
   "id": "a08f09f4",
   "metadata": {},
   "outputs": [
    {
     "data": {
      "text/plain": [
       "set()"
      ]
     },
     "execution_count": 10,
     "metadata": {},
     "output_type": "execute_result"
    }
   ],
   "source": [
    "x2.clear()\n",
    "x2"
   ]
  },
  {
   "cell_type": "code",
   "execution_count": 11,
   "id": "73e2541c",
   "metadata": {},
   "outputs": [],
   "source": [
    "x4={5,\"hello\",3.2}"
   ]
  },
  {
   "cell_type": "code",
   "execution_count": 12,
   "id": "c7cd3c74",
   "metadata": {},
   "outputs": [
    {
     "data": {
      "text/plain": [
       "{4, 5, 6}"
      ]
     },
     "execution_count": 12,
     "metadata": {},
     "output_type": "execute_result"
    }
   ],
   "source": [
    "x3={1,2,3,4,5,6}\n",
    "x4={4,5,6,7,8,9}\n",
    "\n",
    "# to find the intersection of theses two sets.\n",
    "\n",
    "\n",
    "x3.intersection(x4)"
   ]
  },
  {
   "cell_type": "code",
   "execution_count": 13,
   "id": "10c183f3",
   "metadata": {},
   "outputs": [
    {
     "name": "stdout",
     "output_type": "stream",
     "text": [
      "{4, 5, 6}\n"
     ]
    }
   ],
   "source": [
    "# another method.\n",
    "\n",
    "intersection=x3&x4\n",
    "print(intersection)"
   ]
  },
  {
   "cell_type": "code",
   "execution_count": 15,
   "id": "5b48bd51",
   "metadata": {},
   "outputs": [
    {
     "name": "stdout",
     "output_type": "stream",
     "text": [
      "{1, 2, 3}\n",
      "{8, 9, 7}\n"
     ]
    }
   ],
   "source": [
    "x3={1,2,3,4,5,6}\n",
    "x4={4,5,6,7,8,9}\n",
    "\n",
    "\n",
    "# to find the difference between tow sets.\n",
    "\n",
    "\n",
    "print(x3-x4)   #A-B\n",
    "print(x4-x3)  # B-A"
   ]
  },
  {
   "cell_type": "code",
   "execution_count": 17,
   "id": "859824f5",
   "metadata": {},
   "outputs": [
    {
     "name": "stdout",
     "output_type": "stream",
     "text": [
      "{1, 2, 3}\n",
      "{8, 9, 7}\n"
     ]
    }
   ],
   "source": [
    "# another method\n",
    "\n",
    "print(x3.difference(x4))\n",
    "print(x4.difference(x3))"
   ]
  },
  {
   "cell_type": "code",
   "execution_count": 18,
   "id": "41b17a24",
   "metadata": {},
   "outputs": [
    {
     "name": "stdout",
     "output_type": "stream",
     "text": [
      "{1, 2, 3, 4, 5, 6, 7, 8, 9}\n"
     ]
    }
   ],
   "source": [
    "# Union\n",
    "\n",
    "print(x3.union(x4))"
   ]
  },
  {
   "cell_type": "code",
   "execution_count": 25,
   "id": "45baf075",
   "metadata": {},
   "outputs": [
    {
     "name": "stdout",
     "output_type": "stream",
     "text": [
      "Minimum value of A is: 1\n",
      "Minimum value of B is: 1\n",
      "Maximum value of A is: 10\n",
      "Maximum value of B is: 10\n",
      "Sum of the value A is: 55\n",
      "Sum of the value B is: 88\n"
     ]
    }
   ],
   "source": [
    "a={1,2,3,4,4,4,5,5,5,5,5,5,6,7,8,9,10}\n",
    "b=[1,2,3,4,4,4,5,5,5,5,5,5,6,7,8,9,10]\n",
    "\n",
    "print('Minimum value of A is:',min(a))\n",
    "print('Minimum value of B is:',min(b))\n",
    "print('Maximum value of A is:', max(a))\n",
    "print('Maximum value of B is:',max(b))\n",
    "print('Sum of the value A is:',sum(a))\n",
    "print('Sum of the value B is:',sum(b))"
   ]
  },
  {
   "cell_type": "code",
   "execution_count": null,
   "id": "bdf8d938",
   "metadata": {},
   "outputs": [],
   "source": []
  }
 ],
 "metadata": {
  "kernelspec": {
   "display_name": "Python 3 (ipykernel)",
   "language": "python",
   "name": "python3"
  },
  "language_info": {
   "codemirror_mode": {
    "name": "ipython",
    "version": 3
   },
   "file_extension": ".py",
   "mimetype": "text/x-python",
   "name": "python",
   "nbconvert_exporter": "python",
   "pygments_lexer": "ipython3",
   "version": "3.9.13"
  }
 },
 "nbformat": 4,
 "nbformat_minor": 5
}
