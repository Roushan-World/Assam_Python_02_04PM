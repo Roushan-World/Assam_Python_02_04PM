{
 "cells": [
  {
   "cell_type": "markdown",
   "id": "d6bd866f",
   "metadata": {},
   "source": [
    "# 15. Lambda Functions in Python\n",
    "\n",
    "\n",
    " * __A lambda function is a small anonymous functions.__\n",
    " \n",
    " * __A lambda function can take any number of arguments, but can only have one expression.__\n",
    " \n",
    " * __The expression is evaluated and returned.__\n",
    " \n",
    " * __Lambda function can be used wherever function objects are required.__\n",
    " \n",
    " * __Lambda Expression (or lambda functions) are essentially blocks of code that can be assigned to variables, passed as an arguements, or returned from a function call, in languages that support high-order functions.__\n",
    " \n",
    " * __They have been part of programming languages for quire some time.__\n",
    " \n",
    " * __The main role of lambda function is better described in the scenarios when we employ them anonymously inside another functions.__\n",
    " \n",
    " * __n Python, the lambda function can be utilized as an arguments to the high order functions as argument.__"
   ]
  },
  {
   "cell_type": "code",
   "execution_count": null,
   "id": "3ee05ba0",
   "metadata": {},
   "outputs": [],
   "source": []
  }
 ],
 "metadata": {
  "kernelspec": {
   "display_name": "Python 3 (ipykernel)",
   "language": "python",
   "name": "python3"
  },
  "language_info": {
   "codemirror_mode": {
    "name": "ipython",
    "version": 3
   },
   "file_extension": ".py",
   "mimetype": "text/x-python",
   "name": "python",
   "nbconvert_exporter": "python",
   "pygments_lexer": "ipython3",
   "version": "3.9.13"
  }
 },
 "nbformat": 4,
 "nbformat_minor": 5
}
