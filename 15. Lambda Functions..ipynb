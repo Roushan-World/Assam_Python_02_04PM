{
 "cells": [
  {
   "cell_type": "markdown",
   "id": "d6bd866f",
   "metadata": {},
   "source": [
    "# 15. Lambda Functions in Python\n",
    "\n",
    "\n",
    " * __A lambda function is a small anonymous functions.__\n",
    " \n",
    " * __A lambda function can take any number of arguments, but can only have one expression.__\n",
    " \n",
    " * __The expression is evaluated and returned.__\n",
    " \n",
    " * __Lambda function can be used wherever function objects are required.__\n",
    " \n",
    " * __Lambda Expression (or lambda functions) are essentially blocks of code that can be assigned to variables, passed as an arguements, or returned from a function call, in languages that support high-order functions.__\n",
    " \n",
    " * __They have been part of programming languages for quire some time.__\n",
    " \n",
    " * __The main role of lambda function is better described in the scenarios when we employ them anonymously inside another functions.__\n",
    " \n",
    " * __n Python, the lambda function can be utilized as an arguments to the high order functions as argument.__"
   ]
  },
  {
   "cell_type": "code",
   "execution_count": 1,
   "id": "3ee05ba0",
   "metadata": {},
   "outputs": [
    {
     "name": "stdout",
     "output_type": "stream",
     "text": [
      "16\n"
     ]
    }
   ],
   "source": [
    "# Define a function using 'def'\n",
    "\n",
    "def f(x):\n",
    "    return x+6\n",
    "print(f(10))"
   ]
  },
  {
   "cell_type": "code",
   "execution_count": 4,
   "id": "e155b703",
   "metadata": {},
   "outputs": [
    {
     "data": {
      "text/plain": [
       "16"
      ]
     },
     "execution_count": 4,
     "metadata": {},
     "output_type": "execute_result"
    }
   ],
   "source": [
    "(lambda x:x+6)(10)"
   ]
  },
  {
   "cell_type": "code",
   "execution_count": 5,
   "id": "ca34a84d",
   "metadata": {},
   "outputs": [],
   "source": [
    "x,y=10,6"
   ]
  },
  {
   "cell_type": "code",
   "execution_count": 7,
   "id": "62993666",
   "metadata": {},
   "outputs": [
    {
     "name": "stdout",
     "output_type": "stream",
     "text": [
      "10\n",
      "6\n"
     ]
    }
   ],
   "source": [
    "print(x)\n",
    "print(y)"
   ]
  },
  {
   "cell_type": "code",
   "execution_count": 8,
   "id": "816ecf76",
   "metadata": {},
   "outputs": [
    {
     "data": {
      "text/plain": [
       "100000000000000000000"
      ]
     },
     "execution_count": 8,
     "metadata": {},
     "output_type": "execute_result"
    }
   ],
   "source": [
    "10**20"
   ]
  },
  {
   "cell_type": "code",
   "execution_count": 9,
   "id": "076d7978",
   "metadata": {},
   "outputs": [
    {
     "name": "stdout",
     "output_type": "stream",
     "text": [
      "The Exponent of 10 and 20 is: 100000000000000000000\n"
     ]
    }
   ],
   "source": [
    "def f(x,y):\n",
    "    return x**y\n",
    "print('The Exponent of {} and {} is:'.format(10,20),f(10,20))"
   ]
  },
  {
   "cell_type": "code",
   "execution_count": 11,
   "id": "b827f04f",
   "metadata": {},
   "outputs": [
    {
     "name": "stdout",
     "output_type": "stream",
     "text": [
      "The power of 10 and 20 is 100000000000000000000\n"
     ]
    }
   ],
   "source": [
    "print(f'The power of 10 and 20 is {(lambda x,y:x**y)(10,20)}')"
   ]
  },
  {
   "cell_type": "code",
   "execution_count": 12,
   "id": "f7096225",
   "metadata": {},
   "outputs": [
    {
     "name": "stdout",
     "output_type": "stream",
     "text": [
      "The volume of cube is: 8\n"
     ]
    }
   ],
   "source": [
    "print(f'The volume of cube is: {(lambda x:x**3)(2)}')"
   ]
  },
  {
   "cell_type": "code",
   "execution_count": 16,
   "id": "3d7650ce",
   "metadata": {},
   "outputs": [
    {
     "name": "stdout",
     "output_type": "stream",
     "text": [
      "Enter your age17\n",
      "You Can not vote\n"
     ]
    }
   ],
   "source": [
    "# write a program to a person is voting or not using lambda function.\n",
    "\n",
    "age=int(input('Enter your age'))\n",
    "(lambda age:print('Therefore, your can vote') if age>=18 else print('You Can not vote'))(age)"
   ]
  },
  {
   "cell_type": "code",
   "execution_count": 18,
   "id": "3d8fcc51",
   "metadata": {},
   "outputs": [
    {
     "name": "stdout",
     "output_type": "stream",
     "text": [
      "Python is a programming language.\n"
     ]
    }
   ],
   "source": [
    "text='Python is a programming language.'\n",
    "(lambda text:print(text))(text)"
   ]
  },
  {
   "cell_type": "code",
   "execution_count": 19,
   "id": "da25761f",
   "metadata": {},
   "outputs": [
    {
     "name": "stdout",
     "output_type": "stream",
     "text": [
      "Enter First number:25\n",
      "Enter Second number (to be operated on):36\n",
      "[61, -11, 900, 0.6944444444444444, 211758236813575084767080625169910490512847900390625]\n"
     ]
    }
   ],
   "source": [
    "# write a program to append in the list with  some calculation perform using lambda \n",
    "# (Addition,Substraction,multiplication,division and Exponent.)\n",
    "\n",
    "x=int(input('Enter First number:'))\n",
    "y=int(input('Enter Second number (to be operated on):'))\n",
    "l=[]\n",
    "(lambda x,y:l.append(x+y))(x,y)\n",
    "(lambda x,y:l.append(x-y))(x,y)\n",
    "(lambda x,y:l.append(x*y))(x,y)\n",
    "(lambda x,y:l.append(x/y))(x,y)\n",
    "(lambda x,y:l.append(x**y))(x,y)\n",
    "print(l)"
   ]
  },
  {
   "cell_type": "code",
   "execution_count": 20,
   "id": "e5b75c18",
   "metadata": {},
   "outputs": [
    {
     "name": "stdout",
     "output_type": "stream",
     "text": [
      "Enter first number: 45\n",
      "Enter second number: 55\n",
      "[100.0, -10.0, 2475.0, 0.8181818181818182, 8.446723104767056e+90]\n"
     ]
    }
   ],
   "source": [
    "#WAP to append in the list with some calculations perform using lambda(add,sub,mul,div,exponent).\n",
    "\n",
    "num1=float(input('Enter first number: '))\n",
    "num2=float(input('Enter second number: '))\n",
    "l1=[]\n",
    "\n",
    "\n",
    "\n",
    "(lambda num1,num2:l1.append(num1+num2))(num1,num2)\n",
    "(lambda num1,num2:l1.append(num1-num2))(num1,num2)\n",
    "(lambda num1,num2:l1.append(num1*num2))(num1,num2)\n",
    "(lambda num1,num2:l1.append(num1/num2))(num1,num2)\n",
    "(lambda num1,num2:l1.append(num1**num2))(num1,num2)\n",
    "\n",
    "print(l1)"
   ]
  },
  {
   "cell_type": "code",
   "execution_count": 21,
   "id": "809bcd2a",
   "metadata": {},
   "outputs": [
    {
     "name": "stdout",
     "output_type": "stream",
     "text": [
      "['realm', 'skarlett', 'neptune']\n"
     ]
    }
   ],
   "source": [
    "# take 10 string in new_variable and stores in list using lambda function.\n",
    "var1='realm'\n",
    "var2='skarlett'\n",
    "var3='neptune'\n",
    "\n",
    "\n",
    "l2=[]\n",
    "(lambda var1:l2.append(var1))(var1)\n",
    "(lambda var2:l2.append(var2))(var2)\n",
    "(lambda var3:l2.append(var3))(var3)\n",
    "print(l2)"
   ]
  },
  {
   "cell_type": "code",
   "execution_count": 22,
   "id": "7852af52",
   "metadata": {},
   "outputs": [
    {
     "name": "stdout",
     "output_type": "stream",
     "text": [
      "['hello', 'hi', 'how are you', 'congratulations', 'good morning', 'good night', 'good bye', 'good afternoon', 'are you fine', 'im fine']\n"
     ]
    }
   ],
   "source": [
    "# Take 10 string in new_variable and store in list using lambda function.\n",
    "a='hello'\n",
    "b='hi'\n",
    "c='how are you'\n",
    "d='congratulations'\n",
    "e='good morning'\n",
    "f='good night'\n",
    "g='good bye'\n",
    "h='good afternoon'\n",
    "i='are you fine'\n",
    "j='im fine'\n",
    "li=[]\n",
    "(lambda a:li.append(a))(a)\n",
    "(lambda b:li.append(b))(b)\n",
    "(lambda c:li.append(c))(c)\n",
    "(lambda d:li.append(d))(d)\n",
    "(lambda e:li.append(e))(e)\n",
    "(lambda f:li.append(f))(f)\n",
    "(lambda g:li.append(g))(g)\n",
    "(lambda h:li.append(h))(h)\n",
    "(lambda i:li.append(i))(i)\n",
    "(lambda j:li.append(j))(j)\n",
    "print(li)"
   ]
  },
  {
   "cell_type": "code",
   "execution_count": 23,
   "id": "66e483f7",
   "metadata": {},
   "outputs": [],
   "source": [
    "# Write a lambda function with formula of area_Rectangle?\n",
    "# find the area of circle with lambda function and radius is entered by the user.\n",
    "# find the area of square with lambda function and are is entered by the user.\n",
    "# find the perimeter of square with lambda function and perimeter is entered by the user.\n",
    "# find the perimeter of rectangle with lambda function and perimeter is entered by the user."
   ]
  },
  {
   "cell_type": "code",
   "execution_count": 24,
   "id": "689f82da",
   "metadata": {},
   "outputs": [
    {
     "name": "stdout",
     "output_type": "stream",
     "text": [
      "enter lenght of rectangle: 2\n",
      "enter breadth of rectangle: 3\n",
      "Area of rectanle of len 2 and breadth 3 is 6\n"
     ]
    }
   ],
   "source": [
    "#using lambda to find area of rectangle\n",
    "\n",
    "\n",
    "l=int(input('enter lenght of rectangle: '))\n",
    "b=int(input('enter breadth of rectangle: '))\n",
    "print(f'Area of rectanle of len {l} and breadth {b} is {(lambda l,b:l*b)(l,b)}')"
   ]
  },
  {
   "cell_type": "code",
   "execution_count": 25,
   "id": "20aba09f",
   "metadata": {},
   "outputs": [
    {
     "name": "stdout",
     "output_type": "stream",
     "text": [
      "enter radius of circle: 2\n",
      "Area of circle of radius 2 is 12.56\n"
     ]
    }
   ],
   "source": [
    "#using lambda find area of circle and radius given as user input\n",
    "\n",
    "radius=int(input('enter radius of circle: '))\n",
    "\n",
    "print(f'Area of circle of radius {radius} is {(lambda radius:3.14*radius*radius)(radius)}')"
   ]
  },
  {
   "cell_type": "code",
   "execution_count": 26,
   "id": "17971660",
   "metadata": {},
   "outputs": [
    {
     "name": "stdout",
     "output_type": "stream",
     "text": [
      "enter side of square: 2\n",
      "Area of square of side 2 is 4\n"
     ]
    }
   ],
   "source": [
    "#using lambda find area of square and side given as user input\n",
    "s=int(input('enter side of square: '))\n",
    "\n",
    "print(f'Area of square of side {s} is {(lambda s:s*s)(s)}')"
   ]
  },
  {
   "cell_type": "code",
   "execution_count": 27,
   "id": "d19a1638",
   "metadata": {},
   "outputs": [
    {
     "name": "stdout",
     "output_type": "stream",
     "text": [
      "enter side of square: 2\n",
      "perimeter of square of side 2 is 8\n"
     ]
    }
   ],
   "source": [
    "#using lambda find perimeter of square\n",
    "\n",
    "s=int(input('enter side of square: '))\n",
    "\n",
    "print(f'perimeter of square of side {s} is {(lambda s:4*s)(s)}')"
   ]
  },
  {
   "cell_type": "code",
   "execution_count": 28,
   "id": "1598b0fc",
   "metadata": {},
   "outputs": [
    {
     "name": "stdout",
     "output_type": "stream",
     "text": [
      "enter lenght of rectangle: 2\n",
      "enter breadth of rectangle: 3\n",
      "perimeter of rectangle of len 2 and breadth 3 is 10\n"
     ]
    }
   ],
   "source": [
    "#using lambda find perimeter of rectangle\n",
    "\n",
    "l=int(input('enter lenght of rectangle: '))\n",
    "b=int(input('enter breadth of rectangle: '))\n",
    "print(f'perimeter of rectangle of len {l} and breadth {b} is {(lambda l,b:2*l+2*b)(l,b)}')"
   ]
  },
  {
   "cell_type": "code",
   "execution_count": 29,
   "id": "cdc734e7",
   "metadata": {},
   "outputs": [
    {
     "name": "stdout",
     "output_type": "stream",
     "text": [
      "Enter length of rectangle:2\n",
      "Enter breadth of rectangle:3\n",
      "Area of Rectangle: 6.0\n"
     ]
    }
   ],
   "source": [
    "#find area of rectangle using lambda\n",
    "l=float(input('Enter length of rectangle:'))\n",
    "b=float(input('Enter breadth of rectangle:'))\n",
    "print('Area of Rectangle:',(lambda l,b:l*b)(l,b))"
   ]
  },
  {
   "cell_type": "code",
   "execution_count": 30,
   "id": "1db9a617",
   "metadata": {},
   "outputs": [
    {
     "name": "stdout",
     "output_type": "stream",
     "text": [
      "Enter the radius of the circle:2\n",
      "Area of circle: 12.56\n"
     ]
    }
   ],
   "source": [
    "# find area of circle with input radius\n",
    "radius=float(input('Enter the radius of the circle:'))\n",
    "print('Area of circle:',(lambda radius:3.14*radius**2)(radius))"
   ]
  },
  {
   "cell_type": "code",
   "execution_count": 31,
   "id": "a5529e24",
   "metadata": {},
   "outputs": [
    {
     "name": "stdout",
     "output_type": "stream",
     "text": [
      "Enter length of the square:2\n",
      "Area of Square: 4.0\n"
     ]
    }
   ],
   "source": [
    "# find area of square with input side length\n",
    "a=float(input('Enter length of the square:'))\n",
    "print('Area of Square:',(lambda a:a**2)(a))"
   ]
  },
  {
   "cell_type": "code",
   "execution_count": 32,
   "id": "28632e8c",
   "metadata": {},
   "outputs": [
    {
     "name": "stdout",
     "output_type": "stream",
     "text": [
      "Enter length:2\n",
      "Perimeter of square: 8.0\n"
     ]
    }
   ],
   "source": [
    "# find perimeter  of square with lambda function\n",
    "a=float(input('Enter length:'))\n",
    "print('Perimeter of square:',(lambda a:4*a)(a))"
   ]
  },
  {
   "cell_type": "code",
   "execution_count": 33,
   "id": "7f48bb40",
   "metadata": {},
   "outputs": [
    {
     "name": "stdout",
     "output_type": "stream",
     "text": [
      "Enter length of rectangle:2\n",
      "Enter breadth of rectangle:3\n",
      "Perimeter of Rectangle: 10.0\n"
     ]
    }
   ],
   "source": [
    "# find perimeter of rectangle with lambda\n",
    "l=float(input('Enter length of rectangle:'))\n",
    "b=float(input('Enter breadth of rectangle:'))\n",
    "print('Perimeter of Rectangle:',(lambda l,b:2*(l+b))(l,b))"
   ]
  },
  {
   "cell_type": "code",
   "execution_count": null,
   "id": "e8bf6e83",
   "metadata": {},
   "outputs": [],
   "source": []
  }
 ],
 "metadata": {
  "kernelspec": {
   "display_name": "Python 3 (ipykernel)",
   "language": "python",
   "name": "python3"
  },
  "language_info": {
   "codemirror_mode": {
    "name": "ipython",
    "version": 3
   },
   "file_extension": ".py",
   "mimetype": "text/x-python",
   "name": "python",
   "nbconvert_exporter": "python",
   "pygments_lexer": "ipython3",
   "version": "3.9.13"
  }
 },
 "nbformat": 4,
 "nbformat_minor": 5
}
