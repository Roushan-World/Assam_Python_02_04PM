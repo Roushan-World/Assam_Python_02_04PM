{
 "cells": [
  {
   "cell_type": "markdown",
   "id": "7e2099aa",
   "metadata": {},
   "source": [
    "# 13. Reading Files in Python\n",
    "\n",
    "\n",
    " * __To Read a text files in Python follow these steps:__\n",
    "\n",
    " * __First, Open a text file for reading by using the open() function.__\n",
    "\n",
    " * __Second, read text from the text file using the file read(), readline(), or readlines() method of the file object.__\n",
    "\n",
    " * __Third, close the file using the file close() method. This frees up resources and ensures consistency across different python versions.__\n",
    "\n",
    "* __Method--------------------Description__\n",
    "\n",
    "* __writeable()--> Returns whether the files can be written to or not.__\n",
    "\n",
    "* __readable()--> Returns whether the files stream can be read or not.__\n",
    "\n",
    "* __read()--> Returns the file content__\n",
    "\n",
    "* __readline()--> Returns one line from the file.__\n",
    "\n",
    "* __readlines()--> Returns a list of lines from the file.__\n",
    "\n",
    "* __write()--> Writes the specified string to the file.__\n",
    "\n",
    "* __Writelines()--> Writes a list of strings to the file.__\n",
    "\n",
    "* __close()--> Closed the file.__\n",
    "\n",
    "* __flush()--> Flushes the internal buffer.__\n",
    "\n",
    "* __seek()--> Change the file position__\n",
    "\n",
    "* __tell()--> Returns the current file.__\n",
    "\n",
    "* __truncate()--> Resize the file to a sepcified.__"
   ]
  },
  {
   "cell_type": "code",
   "execution_count": 3,
   "id": "395ca684",
   "metadata": {},
   "outputs": [
    {
     "data": {
      "text/plain": [
       "'Chandra Shekhar Azad\\n was born on 23 July 1906 in Jujhautiya Brahmins family of Pandit SitaramTiwar i and Jagrani Devi in the bhabara (of jhabua District)|madhy Pradesh. He spent his childhood inthe village Bhabhra when his father was serving in the erstwhile estate of Alirajpur \\nHe got\\n the natural training of a hardy and rough life along with the Bhils who inhabited the wildregion. From his Bhil friends, early in life, be learnt wrestling and swimming. He also became moreskilled with the bow and arrow. He learnt to throw the Bhala or Javelin, to shoot straight, to ride anduse the sword, in all of which he became proficient.\\nFrom\\n his childhood, he remained a devotee of\\nHanuman\\n throughout his life, and had a very strongPehelwan(wrestler)-like body.\\nHe was even called\\n Bhimsen or Bhim Dada later. After the early education in Jhabua, he was sentto theSanskrit Pathashala at Varanasi, where a near relative of the family, probably maternal unclewas then living. He returned home after a few months and he was admitted in the local school at Alirajpur. Again his father sent him to Benares for the boy exhibited a strange waywardness.\\nThis time\\n he remained there and studied properly. On the whole, he was an average student.Political Initiation From the very outset, he had a deep aversion for study which was of no real but tosimply churn out quill drivers or babus for the use of the British Raj in India. His stay at Benareshowever had a salutary effect upon his life, for he came in contact with many young men and ideas.\\nThe atmosphere\\n was such that he got the opportunity of studying many things, especially the unhappy events which were then happeningin the country. Bit by bit, his mind was being drawn to the political situation of the country. Young Chandra Shekhar was f ascinated by anddrawn to the great national upsurge of the non-violent, non-cooperation movement of 1920-21 under the leadership of Mahatma Gandhi.I\\nt is during\\n this time, when the\\nJallianwala Baag massacre\\n by British Army took place in Amritsar where hunderds (at least 2000) unarmed,peaceful and unwarned civilians were fired upon. This event had a profound effect on Indian national movement and inspired several youngIndians, like Azad, into political movement for liberation. The young mind of Chandrashekhar was wax to receive and marble to retain.\\nFrom Chandrashekhar Tewari to Chandrashekhar â€˜Azadâ€™\\nTo protest the massacre and demanding the liberation, various popular activities sprouted up throughout the country. While participating in oneof these movements, Chandra Shekhar was arrested when he was just 16 years of age.He was brought to court. The Magistrate asked him, â€œWhat is your name?\\ngoing to become very famous. He gave his name as â€˜\\nAzadâ€™,\\n his fatherâ€™s name asâ€˜Swatantraâ€™ and his place of dwelling as â€˜prison cellâ€™. Astonished was the Magistrate atthese straight and bold answers. Azad was sentenced to fifteen canes. He wasbeaten very severely. At every beat, his body turned blue and red and blood oozed outfreely. Azad was highly honored by the citizens and profusely garlanded when hecame out from jail. His photos appeared in the Press with streamlined captions.\\nFromhere on, he would be known far and wide as â€˜Azadâ€™, forever.\\n After this incident, Shri Provesh, the chief organiser of the Revolutionary Party in India,sought him and persuaded him to join it. Azad proved to be a restless worker. He issuedsecretly and silently, many leaflets and bulletins to drive away the misconceptionsentertained by the people of the country. He proved a master propagandist. In physicalstrength, none equaled him and he was called Bhim Dada. Other eminent members of the party working along with Azad were Shri Yogesh Chatterji, Shri Sachin Sanyal andShri Rabindranath Kar. Men in the party learned all the arts of modern warfare. The mainproblem was finance. Finances! From where could the money be had? This was themajor issue before the party. To ask openly was impossible and to obtain it secretly was amuch more difficult task.'"
      ]
     },
     "execution_count": 3,
     "metadata": {},
     "output_type": "execute_result"
    }
   ],
   "source": [
    "# Reading the file with file handling\n",
    "\n",
    "file_name='Chandra_Shekhar_Azad.txt'\n",
    "file=open(file_name,'r')\n",
    "content=file.read()\n",
    "content"
   ]
  },
  {
   "cell_type": "code",
   "execution_count": 4,
   "id": "8ad6a944",
   "metadata": {},
   "outputs": [
    {
     "name": "stdout",
     "output_type": "stream",
     "text": [
      "Chandra Shekhar Azad\n",
      " was born on 23 July 1906 in Jujhautiya Brahmins family of Pandit SitaramTiwar i and Jagrani Devi in the bhabara (of jhabua District)|madhy Pradesh. He spent his childhood inthe village Bhabhra when his father was serving in the erstwhile estate of Alirajpur \n",
      "He got\n",
      " the natural training of a hardy and rough life along with the Bhils who inhabited the wildregion. From his Bhil friends, early in life, be learnt wrestling and swimming. He also became moreskilled with the bow and arrow. He learnt to throw the Bhala or Javelin, to shoot straight, to ride anduse the sword, in all of which he became proficient.\n",
      "From\n",
      " his childhood, he remained a devotee of\n",
      "Hanuman\n",
      " throughout his life, and had a very strongPehelwan(wrestler)-like body.\n",
      "He was even called\n",
      " Bhimsen or Bhim Dada later. After the early education in Jhabua, he was sentto theSanskrit Pathashala at Varanasi, where a near relative of the family, probably maternal unclewas then living. He returned home after a few months and he was admitted in the local school at Alirajpur. Again his father sent him to Benares for the boy exhibited a strange waywardness.\n",
      "This time\n",
      " he remained there and studied properly. On the whole, he was an average student.Political Initiation From the very outset, he had a deep aversion for study which was of no real but tosimply churn out quill drivers or babus for the use of the British Raj in India. His stay at Benareshowever had a salutary effect upon his life, for he came in contact with many young men and ideas.\n",
      "The atmosphere\n",
      " was such that he got the opportunity of studying many things, especially the unhappy events which were then happeningin the country. Bit by bit, his mind was being drawn to the political situation of the country. Young Chandra Shekhar was f ascinated by anddrawn to the great national upsurge of the non-violent, non-cooperation movement of 1920-21 under the leadership of Mahatma Gandhi.I\n",
      "t is during\n",
      " this time, when the\n",
      "Jallianwala Baag massacre\n",
      " by British Army took place in Amritsar where hunderds (at least 2000) unarmed,peaceful and unwarned civilians were fired upon. This event had a profound effect on Indian national movement and inspired several youngIndians, like Azad, into political movement for liberation. The young mind of Chandrashekhar was wax to receive and marble to retain.\n",
      "From Chandrashekhar Tewari to Chandrashekhar â€˜Azadâ€™\n",
      "To protest the massacre and demanding the liberation, various popular activities sprouted up throughout the country. While participating in oneof these movements, Chandra Shekhar was arrested when he was just 16 years of age.He was brought to court. The Magistrate asked him, â€œWhat is your name?\n",
      "going to become very famous. He gave his name as â€˜\n",
      "Azadâ€™,\n",
      " his fatherâ€™s name asâ€˜Swatantraâ€™ and his place of dwelling as â€˜prison cellâ€™. Astonished was the Magistrate atthese straight and bold answers. Azad was sentenced to fifteen canes. He wasbeaten very severely. At every beat, his body turned blue and red and blood oozed outfreely. Azad was highly honored by the citizens and profusely garlanded when hecame out from jail. His photos appeared in the Press with streamlined captions.\n",
      "Fromhere on, he would be known far and wide as â€˜Azadâ€™, forever.\n",
      " After this incident, Shri Provesh, the chief organiser of the Revolutionary Party in India,sought him and persuaded him to join it. Azad proved to be a restless worker. He issuedsecretly and silently, many leaflets and bulletins to drive away the misconceptionsentertained by the people of the country. He proved a master propagandist. In physicalstrength, none equaled him and he was called Bhim Dada. Other eminent members of the party working along with Azad were Shri Yogesh Chatterji, Shri Sachin Sanyal andShri Rabindranath Kar. Men in the party learned all the arts of modern warfare. The mainproblem was finance. Finances! From where could the money be had? This was themajor issue before the party. To ask openly was impossible and to obtain it secretly was amuch more difficult task.\n"
     ]
    }
   ],
   "source": [
    "print(content)"
   ]
  },
  {
   "cell_type": "code",
   "execution_count": 8,
   "id": "ddb4d7b4",
   "metadata": {},
   "outputs": [
    {
     "name": "stdout",
     "output_type": "stream",
     "text": [
      "Chandra_Shekhar_Azad.txt\n",
      "r\n",
      "Chandra Shekhar Azad\n",
      " was born on 23 July 1906 in Jujhautiya Brahmins family of Pandit SitaramTiwar i and Jagrani Devi in the bhabara (of jhabua District)|madhy Pradesh. He spent his childhood inthe village Bhabhra when his father was serving in the erstwhile estate of Alirajpur \n",
      "He got\n",
      " the natural training of a hardy and rough life along with the Bhils who inhabited the wildregion. From his Bhil friends, early in life, be learnt wrestling and swimming. He also became moreskilled with the bow and arrow. He learnt to throw the Bhala or Javelin, to shoot straight, to ride anduse the sword, in all of which he became proficient.\n",
      "From\n",
      " his childhood, he remained a devotee of\n",
      "Hanuman\n",
      " throughout his life, and had a very strongPehelwan(wrestler)-like body.\n",
      "He was even called\n",
      " Bhimsen or Bhim Dada later. After the early education in Jhabua, he was sentto theSanskrit Pathashala at Varanasi, where a near relative of the family, probably maternal unclewas then living. He returned home after a few months and he was admitted in the local school at Alirajpur. Again his father sent him to Benares for the boy exhibited a strange waywardness.\n",
      "This time\n",
      " he remained there and studied properly. On the whole, he was an average student.Political Initiation From the very outset, he had a deep aversion for study which was of no real but tosimply churn out quill drivers or babus for the use of the British Raj in India. His stay at Benareshowever had a salutary effect upon his life, for he came in contact with many young men and ideas.\n",
      "The atmosphere\n",
      " was such that he got the opportunity of studying many things, especially the unhappy events which were then happeningin the country. Bit by bit, his mind was being drawn to the political situation of the country. Young Chandra Shekhar was f ascinated by anddrawn to the great national upsurge of the non-violent, non-cooperation movement of 1920-21 under the leadership of Mahatma Gandhi.I\n",
      "t is during\n",
      " this time, when the\n",
      "Jallianwala Baag massacre\n",
      " by British Army took place in Amritsar where hunderds (at least 2000) unarmed,peaceful and unwarned civilians were fired upon. This event had a profound effect on Indian national movement and inspired several youngIndians, like Azad, into political movement for liberation. The young mind of Chandrashekhar was wax to receive and marble to retain.\n",
      "From Chandrashekhar Tewari to Chandrashekhar â€˜Azadâ€™\n",
      "To protest the massacre and demanding the liberation, various popular activities sprouted up throughout the country. While participating in oneof these movements, Chandra Shekhar was arrested when he was just 16 years of age.He was brought to court. The Magistrate asked him, â€œWhat is your name?\n",
      "going to become very famous. He gave his name as â€˜\n",
      "Azadâ€™,\n",
      " his fatherâ€™s name asâ€˜Swatantraâ€™ and his place of dwelling as â€˜prison cellâ€™. Astonished was the Magistrate atthese straight and bold answers. Azad was sentenced to fifteen canes. He wasbeaten very severely. At every beat, his body turned blue and red and blood oozed outfreely. Azad was highly honored by the citizens and profusely garlanded when hecame out from jail. His photos appeared in the Press with streamlined captions.\n",
      "Fromhere on, he would be known far and wide as â€˜Azadâ€™, forever.\n",
      " After this incident, Shri Provesh, the chief organiser of the Revolutionary Party in India,sought him and persuaded him to join it. Azad proved to be a restless worker. He issuedsecretly and silently, many leaflets and bulletins to drive away the misconceptionsentertained by the people of the country. He proved a master propagandist. In physicalstrength, none equaled him and he was called Bhim Dada. Other eminent members of the party working along with Azad were Shri Yogesh Chatterji, Shri Sachin Sanyal andShri Rabindranath Kar. Men in the party learned all the arts of modern warfare. The mainproblem was finance. Finances! From where could the money be had? This was themajor issue before the party. To ask openly was impossible and to obtain it secretly was amuch more difficult task.\n",
      "<class 'str'>\n"
     ]
    }
   ],
   "source": [
    "# printing the file path\n",
    "\n",
    "print(file.name)\n",
    "\n",
    "# printing the mode of file\n",
    "\n",
    "print(file.mode)\n",
    "\n",
    "# printing the file with new line\n",
    "\n",
    "print(content)\n",
    "\n",
    "# printing the type of file.\n",
    "\n",
    "print(type(content))"
   ]
  },
  {
   "cell_type": "code",
   "execution_count": 9,
   "id": "f184bbb2",
   "metadata": {},
   "outputs": [],
   "source": [
    "# Verification of the file\n",
    "\n",
    "file.close()"
   ]
  },
  {
   "cell_type": "code",
   "execution_count": 10,
   "id": "5100292c",
   "metadata": {},
   "outputs": [
    {
     "data": {
      "text/plain": [
       "True"
      ]
     },
     "execution_count": 10,
     "metadata": {},
     "output_type": "execute_result"
    }
   ],
   "source": [
    "file.closed"
   ]
  },
  {
   "cell_type": "code",
   "execution_count": 11,
   "id": "2be2ebab",
   "metadata": {},
   "outputs": [
    {
     "name": "stdout",
     "output_type": "stream",
     "text": [
      "Chandra Shekhar Azad\n",
      " was born on 23 July 1906 in Jujhautiya Brahmins family of Pandit SitaramTiwar i and Jagrani Devi in the bhabara (of jhabua District)|madhy Pradesh. He spent his childhood inthe village Bhabhra when his father was serving in the erstwhile estate of Alirajpur \n",
      "He got\n",
      " the natural training of a hardy and rough life along with the Bhils who inhabited the wildregion. From his Bhil friends, early in life, be learnt wrestling and swimming. He also became moreskilled with the bow and arrow. He learnt to throw the Bhala or Javelin, to shoot straight, to ride anduse the sword, in all of which he became proficient.\n",
      "From\n",
      " his childhood, he remained a devotee of\n",
      "Hanuman\n",
      " throughout his life, and had a very strongPehelwan(wrestler)-like body.\n",
      "He was even called\n",
      " Bhimsen or Bhim Dada later. After the early education in Jhabua, he was sentto theSanskrit Pathashala at Varanasi, where a near relative of the family, probably maternal unclewas then living. He returned home after a few months and he was admitted in the local school at Alirajpur. Again his father sent him to Benares for the boy exhibited a strange waywardness.\n",
      "This time\n",
      " he remained there and studied properly. On the whole, he was an average student.Political Initiation From the very outset, he had a deep aversion for study which was of no real but tosimply churn out quill drivers or babus for the use of the British Raj in India. His stay at Benareshowever had a salutary effect upon his life, for he came in contact with many young men and ideas.\n",
      "The atmosphere\n",
      " was such that he got the opportunity of studying many things, especially the unhappy events which were then happeningin the country. Bit by bit, his mind was being drawn to the political situation of the country. Young Chandra Shekhar was f ascinated by anddrawn to the great national upsurge of the non-violent, non-cooperation movement of 1920-21 under the leadership of Mahatma Gandhi.I\n",
      "t is during\n",
      " this time, when the\n",
      "Jallianwala Baag massacre\n",
      " by British Army took place in Amritsar where hunderds (at least 2000) unarmed,peaceful and unwarned civilians were fired upon. This event had a profound effect on Indian national movement and inspired several youngIndians, like Azad, into political movement for liberation. The young mind of Chandrashekhar was wax to receive and marble to retain.\n",
      "From Chandrashekhar Tewari to Chandrashekhar â€˜Azadâ€™\n",
      "To protest the massacre and demanding the liberation, various popular activities sprouted up throughout the country. While participating in oneof these movements, Chandra Shekhar was arrested when he was just 16 years of age.He was brought to court. The Magistrate asked him, â€œWhat is your name?\n",
      "going to become very famous. He gave his name as â€˜\n",
      "Azadâ€™,\n",
      " his fatherâ€™s name asâ€˜Swatantraâ€™ and his place of dwelling as â€˜prison cellâ€™. Astonished was the Magistrate atthese straight and bold answers. Azad was sentenced to fifteen canes. He wasbeaten very severely. At every beat, his body turned blue and red and blood oozed outfreely. Azad was highly honored by the citizens and profusely garlanded when hecame out from jail. His photos appeared in the Press with streamlined captions.\n",
      "Fromhere on, he would be known far and wide as â€˜Azadâ€™, forever.\n",
      " After this incident, Shri Provesh, the chief organiser of the Revolutionary Party in India,sought him and persuaded him to join it. Azad proved to be a restless worker. He issuedsecretly and silently, many leaflets and bulletins to drive away the misconceptionsentertained by the people of the country. He proved a master propagandist. In physicalstrength, none equaled him and he was called Bhim Dada. Other eminent members of the party working along with Azad were Shri Yogesh Chatterji, Shri Sachin Sanyal andShri Rabindranath Kar. Men in the party learned all the arts of modern warfare. The mainproblem was finance. Finances! From where could the money be had? This was themajor issue before the party. To ask openly was impossible and to obtain it secretly was amuch more difficult task.\n"
     ]
    }
   ],
   "source": [
    "# other method to open the file.\n",
    "\n",
    "fname='Chandra_Shekhar_Azad.txt'\n",
    "with open(fname,'r') as f:\n",
    "    content1=f.read()\n",
    "    print(content1)"
   ]
  },
  {
   "cell_type": "code",
   "execution_count": 14,
   "id": "23eb81b4",
   "metadata": {},
   "outputs": [
    {
     "name": "stdout",
     "output_type": "stream",
     "text": [
      "Chandra Shekhar Azad\n",
      " was born\n",
      " on 23 July 1906 in Jujhautiya\n",
      " Brahmins family of Pandit SitaramTiwar i and Jagrani Devi in the bhabara (of jhabua District)|madhy\n"
     ]
    }
   ],
   "source": [
    "# Reading certain amount of characters in the file.\n",
    "\n",
    "with open(fname,'r') as f:\n",
    "    print(f.read(30))\n",
    "    print(f.read(30))\n",
    "    print(f.read(100))"
   ]
  },
  {
   "cell_type": "code",
   "execution_count": 22,
   "id": "3f30c450",
   "metadata": {},
   "outputs": [
    {
     "name": "stdout",
     "output_type": "stream",
     "text": [
      "The first line is: Chandra Shekhar Azad\n",
      "\n",
      "The second line is:  was born on 23 July 1906 in Jujhautiya Brahmins family of Pandit SitaramTiwar i and Jagrani Devi in the bhabara (of jhabua District)|madhy Pradesh. He spent his childhood inthe village Bhabhra when his father was serving in the erstwhile estate of Alirajpur \n",
      "\n",
      "The third line is: He got\n",
      "\n"
     ]
    }
   ],
   "source": [
    "# readline \n",
    "with open(fname,'r') as f:\n",
    "    print('The first line is:',f.readline())\n",
    "    print('The second line is:',f.readline())\n",
    "    print('The third line is:',f.readline())"
   ]
  },
  {
   "cell_type": "markdown",
   "id": "3748d288",
   "metadata": {},
   "source": [
    "# for loop"
   ]
  },
  {
   "cell_type": "code",
   "execution_count": 24,
   "id": "5b737a85",
   "metadata": {},
   "outputs": [
    {
     "name": "stdout",
     "output_type": "stream",
     "text": [
      "Line number: 1 : Chandra Shekhar Azad\n",
      "\n",
      "Line number: 2 :  was born on 23 July 1906 in Jujhautiya Brahmins family of Pandit SitaramTiwar i and Jagrani Devi in the bhabara (of jhabua District)|madhy Pradesh. He spent his childhood inthe village Bhabhra when his father was serving in the erstwhile estate of Alirajpur \n",
      "\n",
      "Line number: 3 : He got\n",
      "\n",
      "Line number: 4 :  the natural training of a hardy and rough life along with the Bhils who inhabited the wildregion. From his Bhil friends, early in life, be learnt wrestling and swimming. He also became moreskilled with the bow and arrow. He learnt to throw the Bhala or Javelin, to shoot straight, to ride anduse the sword, in all of which he became proficient.\n",
      "\n",
      "Line number: 5 : From\n",
      "\n",
      "Line number: 6 :  his childhood, he remained a devotee of\n",
      "\n",
      "Line number: 7 : Hanuman\n",
      "\n",
      "Line number: 8 :  throughout his life, and had a very strongPehelwan(wrestler)-like body.\n",
      "\n",
      "Line number: 9 : He was even called\n",
      "\n",
      "Line number: 10 :  Bhimsen or Bhim Dada later. After the early education in Jhabua, he was sentto theSanskrit Pathashala at Varanasi, where a near relative of the family, probably maternal unclewas then living. He returned home after a few months and he was admitted in the local school at Alirajpur. Again his father sent him to Benares for the boy exhibited a strange waywardness.\n",
      "\n",
      "Line number: 11 : This time\n",
      "\n",
      "Line number: 12 :  he remained there and studied properly. On the whole, he was an average student.Political Initiation From the very outset, he had a deep aversion for study which was of no real but tosimply churn out quill drivers or babus for the use of the British Raj in India. His stay at Benareshowever had a salutary effect upon his life, for he came in contact with many young men and ideas.\n",
      "\n",
      "Line number: 13 : The atmosphere\n",
      "\n",
      "Line number: 14 :  was such that he got the opportunity of studying many things, especially the unhappy events which were then happeningin the country. Bit by bit, his mind was being drawn to the political situation of the country. Young Chandra Shekhar was f ascinated by anddrawn to the great national upsurge of the non-violent, non-cooperation movement of 1920-21 under the leadership of Mahatma Gandhi.I\n",
      "\n",
      "Line number: 15 : t is during\n",
      "\n",
      "Line number: 16 :  this time, when the\n",
      "\n",
      "Line number: 17 : Jallianwala Baag massacre\n",
      "\n",
      "Line number: 18 :  by British Army took place in Amritsar where hunderds (at least 2000) unarmed,peaceful and unwarned civilians were fired upon. This event had a profound effect on Indian national movement and inspired several youngIndians, like Azad, into political movement for liberation. The young mind of Chandrashekhar was wax to receive and marble to retain.\n",
      "\n",
      "Line number: 19 : From Chandrashekhar Tewari to Chandrashekhar â€˜Azadâ€™\n",
      "\n",
      "Line number: 20 : To protest the massacre and demanding the liberation, various popular activities sprouted up throughout the country. While participating in oneof these movements, Chandra Shekhar was arrested when he was just 16 years of age.He was brought to court. The Magistrate asked him, â€œWhat is your name?\n",
      "\n",
      "Line number: 21 : going to become very famous. He gave his name as â€˜\n",
      "\n",
      "Line number: 22 : Azadâ€™,\n",
      "\n",
      "Line number: 23 :  his fatherâ€™s name asâ€˜Swatantraâ€™ and his place of dwelling as â€˜prison cellâ€™. Astonished was the Magistrate atthese straight and bold answers. Azad was sentenced to fifteen canes. He wasbeaten very severely. At every beat, his body turned blue and red and blood oozed outfreely. Azad was highly honored by the citizens and profusely garlanded when hecame out from jail. His photos appeared in the Press with streamlined captions.\n",
      "\n",
      "Line number: 24 : Fromhere on, he would be known far and wide as â€˜Azadâ€™, forever.\n",
      "\n",
      "Line number: 25 :  After this incident, Shri Provesh, the chief organiser of the Revolutionary Party in India,sought him and persuaded him to join it. Azad proved to be a restless worker. He issuedsecretly and silently, many leaflets and bulletins to drive away the misconceptionsentertained by the people of the country. He proved a master propagandist. In physicalstrength, none equaled him and he was called Bhim Dada. Other eminent members of the party working along with Azad were Shri Yogesh Chatterji, Shri Sachin Sanyal andShri Rabindranath Kar. Men in the party learned all the arts of modern warfare. The mainproblem was finance. Finances! From where could the money be had? This was themajor issue before the party. To ask openly was impossible and to obtain it secretly was amuch more difficult task.\n"
     ]
    }
   ],
   "source": [
    "with open(fname, 'r') as f:\n",
    "    line_number=1\n",
    "    for i in f:\n",
    "        print('Line number:',str(line_number),':',i)\n",
    "        line_number+=1"
   ]
  },
  {
   "cell_type": "code",
   "execution_count": null,
   "id": "442d5a5b",
   "metadata": {},
   "outputs": [],
   "source": []
  }
 ],
 "metadata": {
  "kernelspec": {
   "display_name": "Python 3 (ipykernel)",
   "language": "python",
   "name": "python3"
  },
  "language_info": {
   "codemirror_mode": {
    "name": "ipython",
    "version": 3
   },
   "file_extension": ".py",
   "mimetype": "text/x-python",
   "name": "python",
   "nbconvert_exporter": "python",
   "pygments_lexer": "ipython3",
   "version": "3.9.13"
  }
 },
 "nbformat": 4,
 "nbformat_minor": 5
}
